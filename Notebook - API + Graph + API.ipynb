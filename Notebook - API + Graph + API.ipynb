{
  "nbformat": 4,
  "nbformat_minor": 0,
  "metadata": {
    "colab": {
      "provenance": [],
      "authorship_tag": "ABX9TyN10t1m8xppSVMoThkrdCDT",
      "include_colab_link": true
    },
    "kernelspec": {
      "name": "python3",
      "display_name": "Python 3"
    },
    "language_info": {
      "name": "python"
    }
  },
  "cells": [
    {
      "cell_type": "markdown",
      "metadata": {
        "id": "view-in-github",
        "colab_type": "text"
      },
      "source": [
        "<a href=\"https://colab.research.google.com/github/camihshm/Analysis-Market-Americanas/blob/feat-1%2FUploadProject/Notebook%20-%20API%20%2B%20Graph%20%2B%20API.ipynb\" target=\"_parent\"><img src=\"https://colab.research.google.com/assets/colab-badge.svg\" alt=\"Open In Colab\"/></a>"
      ]
    },
    {
      "cell_type": "markdown",
      "source": [
        "**PROJETO - API + RELATÓRIO INFOGRÁFICO PDF**\n",
        "\n",
        "***Descrição***\n",
        "\n",
        "Buscar os dados financeiros da ação da empresa AMERICANAS utilizando a API (YFINANCE), para criar análises dos dados com gráficos utilizando o framework (PLOTLY), customizar o layout do relatório no formato PDF (MAKE_SUBPLOT do próprio framework PLOTLY) e criar o envio automático desse relatório."
      ],
      "metadata": {
        "id": "o40Lyrc0Pg9f"
      }
    },
    {
      "cell_type": "code",
      "source": [
        "# Instalação dos pacotes\n",
        "# Mercado Financeiro - B3\n",
        "\n",
        "!pip install yfinance --upgrade --no-cache-dir"
      ],
      "metadata": {
        "colab": {
          "base_uri": "https://localhost:8080/"
        },
        "id": "fJGzLFNjRIfq",
        "outputId": "3791bd0c-63b9-4950-b365-3e5a53745c82"
      },
      "execution_count": 1,
      "outputs": [
        {
          "output_type": "stream",
          "name": "stdout",
          "text": [
            "Looking in indexes: https://pypi.org/simple, https://us-python.pkg.dev/colab-wheels/public/simple/\n",
            "Requirement already satisfied: yfinance in /usr/local/lib/python3.8/dist-packages (0.2.12)\n",
            "Requirement already satisfied: numpy>=1.16.5 in /usr/local/lib/python3.8/dist-packages (from yfinance) (1.22.4)\n",
            "Requirement already satisfied: requests>=2.26 in /usr/local/lib/python3.8/dist-packages (from yfinance) (2.28.2)\n",
            "Requirement already satisfied: appdirs>=1.4.4 in /usr/local/lib/python3.8/dist-packages (from yfinance) (1.4.4)\n",
            "Requirement already satisfied: frozendict>=2.3.4 in /usr/local/lib/python3.8/dist-packages (from yfinance) (2.3.5)\n",
            "Requirement already satisfied: lxml>=4.9.1 in /usr/local/lib/python3.8/dist-packages (from yfinance) (4.9.2)\n",
            "Requirement already satisfied: cryptography>=3.3.2 in /usr/local/lib/python3.8/dist-packages (from yfinance) (39.0.1)\n",
            "Requirement already satisfied: pytz>=2022.5 in /usr/local/lib/python3.8/dist-packages (from yfinance) (2022.7.1)\n",
            "Requirement already satisfied: multitasking>=0.0.7 in /usr/local/lib/python3.8/dist-packages (from yfinance) (0.0.11)\n",
            "Requirement already satisfied: html5lib>=1.1 in /usr/local/lib/python3.8/dist-packages (from yfinance) (1.1)\n",
            "Requirement already satisfied: beautifulsoup4>=4.11.1 in /usr/local/lib/python3.8/dist-packages (from yfinance) (4.11.2)\n",
            "Requirement already satisfied: pandas>=1.3.0 in /usr/local/lib/python3.8/dist-packages (from yfinance) (1.3.5)\n",
            "Requirement already satisfied: soupsieve>1.2 in /usr/local/lib/python3.8/dist-packages (from beautifulsoup4>=4.11.1->yfinance) (2.4)\n",
            "Requirement already satisfied: cffi>=1.12 in /usr/local/lib/python3.8/dist-packages (from cryptography>=3.3.2->yfinance) (1.15.1)\n",
            "Requirement already satisfied: webencodings in /usr/local/lib/python3.8/dist-packages (from html5lib>=1.1->yfinance) (0.5.1)\n",
            "Requirement already satisfied: six>=1.9 in /usr/local/lib/python3.8/dist-packages (from html5lib>=1.1->yfinance) (1.15.0)\n",
            "Requirement already satisfied: python-dateutil>=2.7.3 in /usr/local/lib/python3.8/dist-packages (from pandas>=1.3.0->yfinance) (2.8.2)\n",
            "Requirement already satisfied: charset-normalizer<4,>=2 in /usr/local/lib/python3.8/dist-packages (from requests>=2.26->yfinance) (3.0.1)\n",
            "Requirement already satisfied: idna<4,>=2.5 in /usr/local/lib/python3.8/dist-packages (from requests>=2.26->yfinance) (2.10)\n",
            "Requirement already satisfied: urllib3<1.27,>=1.21.1 in /usr/local/lib/python3.8/dist-packages (from requests>=2.26->yfinance) (1.24.3)\n",
            "Requirement already satisfied: certifi>=2017.4.17 in /usr/local/lib/python3.8/dist-packages (from requests>=2.26->yfinance) (2022.12.7)\n",
            "Requirement already satisfied: pycparser in /usr/local/lib/python3.8/dist-packages (from cffi>=1.12->cryptography>=3.3.2->yfinance) (2.21)\n"
          ]
        }
      ]
    },
    {
      "cell_type": "code",
      "source": [
        "# Instalação das bibliotecas necessárias para o projeto\n",
        "\n",
        "# YFinance\n",
        "import yfinance as yf\n",
        "yf.pdr_override()\n",
        "\n",
        "# Pacotes para análise dos dados\n",
        "import pandas as pd\n",
        "import pandas_datareader.data as web\n",
        "import numpy as np\n",
        "\n",
        "# Pacotes análises gráficas\n",
        "import matplotlib.pyplot as plt\n",
        "import seaborn as sbn\n",
        "import plotly.graph_objects as go\n",
        "import plotly.express as px\n",
        "from plotly.subplots import make_subplots\n",
        "\n",
        "# Biblioteca para datas\n",
        "from datetime import datetime\n",
        "\n",
        "# Avisos\n",
        "import warnings\n",
        "warnings.filterwarnings('ignore')"
      ],
      "metadata": {
        "id": "YWrmxokLRpyN"
      },
      "execution_count": 2,
      "outputs": []
    },
    {
      "cell_type": "markdown",
      "source": [
        "# **API Yahoo Finance**\n",
        "\n",
        "O yfinance oferece uma maneira segmentada e pythonic de baixar dados do mercado financeiro através do Yahoo!Ⓡ Finanças."
      ],
      "metadata": {
        "id": "e0O9pe3JSsVw"
      }
    },
    {
      "cell_type": "code",
      "source": [
        "# Para obter os dados\n",
        "dados = web.get_data_yahoo_actions( 'AMER3.SA', period='1y')\n",
        "\n",
        "# Shape\n",
        "dados.shape"
      ],
      "metadata": {
        "colab": {
          "base_uri": "https://localhost:8080/"
        },
        "id": "lepiOjUiS_tL",
        "outputId": "7275cf10-1267-4c22-ac08-3cf20e677bf0"
      },
      "execution_count": 3,
      "outputs": [
        {
          "output_type": "stream",
          "name": "stdout",
          "text": [
            "\r[*********************100%***********************]  1 of 1 completed\n"
          ]
        },
        {
          "output_type": "execute_result",
          "data": {
            "text/plain": [
              "(250, 6)"
            ]
          },
          "metadata": {},
          "execution_count": 3
        }
      ]
    },
    {
      "cell_type": "code",
      "source": [
        "# Verificando as movimentações da ação\n",
        "dados.head()"
      ],
      "metadata": {
        "colab": {
          "base_uri": "https://localhost:8080/",
          "height": 238
        },
        "id": "5XZTsr8MTap5",
        "outputId": "30391ffb-4028-4864-a255-f3a716988cc2"
      },
      "execution_count": 4,
      "outputs": [
        {
          "output_type": "execute_result",
          "data": {
            "text/plain": [
              "                 Open       High        Low      Close  Adj Close    Volume\n",
              "Date                                                                       \n",
              "2022-02-23  30.150000  32.240002  29.530001  29.690001  29.690001  12396200\n",
              "2022-02-24  28.110001  30.610001  27.510000  30.200001  30.200001   7522700\n",
              "2022-02-25  30.420000  30.570000  29.000000  30.500000  30.500000  11618900\n",
              "2022-03-02  30.500000  32.750000  30.100000  32.450001  32.450001   5595700\n",
              "2022-03-03  32.450001  32.860001  31.049999  31.100000  31.100000   6343400"
            ],
            "text/html": [
              "\n",
              "  <div id=\"df-f97385a1-42b6-4fec-81a4-c9e9acfcdfbc\">\n",
              "    <div class=\"colab-df-container\">\n",
              "      <div>\n",
              "<style scoped>\n",
              "    .dataframe tbody tr th:only-of-type {\n",
              "        vertical-align: middle;\n",
              "    }\n",
              "\n",
              "    .dataframe tbody tr th {\n",
              "        vertical-align: top;\n",
              "    }\n",
              "\n",
              "    .dataframe thead th {\n",
              "        text-align: right;\n",
              "    }\n",
              "</style>\n",
              "<table border=\"1\" class=\"dataframe\">\n",
              "  <thead>\n",
              "    <tr style=\"text-align: right;\">\n",
              "      <th></th>\n",
              "      <th>Open</th>\n",
              "      <th>High</th>\n",
              "      <th>Low</th>\n",
              "      <th>Close</th>\n",
              "      <th>Adj Close</th>\n",
              "      <th>Volume</th>\n",
              "    </tr>\n",
              "    <tr>\n",
              "      <th>Date</th>\n",
              "      <th></th>\n",
              "      <th></th>\n",
              "      <th></th>\n",
              "      <th></th>\n",
              "      <th></th>\n",
              "      <th></th>\n",
              "    </tr>\n",
              "  </thead>\n",
              "  <tbody>\n",
              "    <tr>\n",
              "      <th>2022-02-23</th>\n",
              "      <td>30.150000</td>\n",
              "      <td>32.240002</td>\n",
              "      <td>29.530001</td>\n",
              "      <td>29.690001</td>\n",
              "      <td>29.690001</td>\n",
              "      <td>12396200</td>\n",
              "    </tr>\n",
              "    <tr>\n",
              "      <th>2022-02-24</th>\n",
              "      <td>28.110001</td>\n",
              "      <td>30.610001</td>\n",
              "      <td>27.510000</td>\n",
              "      <td>30.200001</td>\n",
              "      <td>30.200001</td>\n",
              "      <td>7522700</td>\n",
              "    </tr>\n",
              "    <tr>\n",
              "      <th>2022-02-25</th>\n",
              "      <td>30.420000</td>\n",
              "      <td>30.570000</td>\n",
              "      <td>29.000000</td>\n",
              "      <td>30.500000</td>\n",
              "      <td>30.500000</td>\n",
              "      <td>11618900</td>\n",
              "    </tr>\n",
              "    <tr>\n",
              "      <th>2022-03-02</th>\n",
              "      <td>30.500000</td>\n",
              "      <td>32.750000</td>\n",
              "      <td>30.100000</td>\n",
              "      <td>32.450001</td>\n",
              "      <td>32.450001</td>\n",
              "      <td>5595700</td>\n",
              "    </tr>\n",
              "    <tr>\n",
              "      <th>2022-03-03</th>\n",
              "      <td>32.450001</td>\n",
              "      <td>32.860001</td>\n",
              "      <td>31.049999</td>\n",
              "      <td>31.100000</td>\n",
              "      <td>31.100000</td>\n",
              "      <td>6343400</td>\n",
              "    </tr>\n",
              "  </tbody>\n",
              "</table>\n",
              "</div>\n",
              "      <button class=\"colab-df-convert\" onclick=\"convertToInteractive('df-f97385a1-42b6-4fec-81a4-c9e9acfcdfbc')\"\n",
              "              title=\"Convert this dataframe to an interactive table.\"\n",
              "              style=\"display:none;\">\n",
              "        \n",
              "  <svg xmlns=\"http://www.w3.org/2000/svg\" height=\"24px\"viewBox=\"0 0 24 24\"\n",
              "       width=\"24px\">\n",
              "    <path d=\"M0 0h24v24H0V0z\" fill=\"none\"/>\n",
              "    <path d=\"M18.56 5.44l.94 2.06.94-2.06 2.06-.94-2.06-.94-.94-2.06-.94 2.06-2.06.94zm-11 1L8.5 8.5l.94-2.06 2.06-.94-2.06-.94L8.5 2.5l-.94 2.06-2.06.94zm10 10l.94 2.06.94-2.06 2.06-.94-2.06-.94-.94-2.06-.94 2.06-2.06.94z\"/><path d=\"M17.41 7.96l-1.37-1.37c-.4-.4-.92-.59-1.43-.59-.52 0-1.04.2-1.43.59L10.3 9.45l-7.72 7.72c-.78.78-.78 2.05 0 2.83L4 21.41c.39.39.9.59 1.41.59.51 0 1.02-.2 1.41-.59l7.78-7.78 2.81-2.81c.8-.78.8-2.07 0-2.86zM5.41 20L4 18.59l7.72-7.72 1.47 1.35L5.41 20z\"/>\n",
              "  </svg>\n",
              "      </button>\n",
              "      \n",
              "  <style>\n",
              "    .colab-df-container {\n",
              "      display:flex;\n",
              "      flex-wrap:wrap;\n",
              "      gap: 12px;\n",
              "    }\n",
              "\n",
              "    .colab-df-convert {\n",
              "      background-color: #E8F0FE;\n",
              "      border: none;\n",
              "      border-radius: 50%;\n",
              "      cursor: pointer;\n",
              "      display: none;\n",
              "      fill: #1967D2;\n",
              "      height: 32px;\n",
              "      padding: 0 0 0 0;\n",
              "      width: 32px;\n",
              "    }\n",
              "\n",
              "    .colab-df-convert:hover {\n",
              "      background-color: #E2EBFA;\n",
              "      box-shadow: 0px 1px 2px rgba(60, 64, 67, 0.3), 0px 1px 3px 1px rgba(60, 64, 67, 0.15);\n",
              "      fill: #174EA6;\n",
              "    }\n",
              "\n",
              "    [theme=dark] .colab-df-convert {\n",
              "      background-color: #3B4455;\n",
              "      fill: #D2E3FC;\n",
              "    }\n",
              "\n",
              "    [theme=dark] .colab-df-convert:hover {\n",
              "      background-color: #434B5C;\n",
              "      box-shadow: 0px 1px 3px 1px rgba(0, 0, 0, 0.15);\n",
              "      filter: drop-shadow(0px 1px 2px rgba(0, 0, 0, 0.3));\n",
              "      fill: #FFFFFF;\n",
              "    }\n",
              "  </style>\n",
              "\n",
              "      <script>\n",
              "        const buttonEl =\n",
              "          document.querySelector('#df-f97385a1-42b6-4fec-81a4-c9e9acfcdfbc button.colab-df-convert');\n",
              "        buttonEl.style.display =\n",
              "          google.colab.kernel.accessAllowed ? 'block' : 'none';\n",
              "\n",
              "        async function convertToInteractive(key) {\n",
              "          const element = document.querySelector('#df-f97385a1-42b6-4fec-81a4-c9e9acfcdfbc');\n",
              "          const dataTable =\n",
              "            await google.colab.kernel.invokeFunction('convertToInteractive',\n",
              "                                                     [key], {});\n",
              "          if (!dataTable) return;\n",
              "\n",
              "          const docLinkHtml = 'Like what you see? Visit the ' +\n",
              "            '<a target=\"_blank\" href=https://colab.research.google.com/notebooks/data_table.ipynb>data table notebook</a>'\n",
              "            + ' to learn more about interactive tables.';\n",
              "          element.innerHTML = '';\n",
              "          dataTable['output_type'] = 'display_data';\n",
              "          await google.colab.output.renderOutput(dataTable, element);\n",
              "          const docLink = document.createElement('div');\n",
              "          docLink.innerHTML = docLinkHtml;\n",
              "          element.appendChild(docLink);\n",
              "        }\n",
              "      </script>\n",
              "    </div>\n",
              "  </div>\n",
              "  "
            ]
          },
          "metadata": {},
          "execution_count": 4
        }
      ]
    },
    {
      "cell_type": "code",
      "source": [
        "# Para carregar os últimos registros\n",
        "dados.tail()"
      ],
      "metadata": {
        "colab": {
          "base_uri": "https://localhost:8080/",
          "height": 238
        },
        "id": "SLggaWbZTj8x",
        "outputId": "330d9dd2-aeb5-422c-b006-5488313580a1"
      },
      "execution_count": 5,
      "outputs": [
        {
          "output_type": "execute_result",
          "data": {
            "text/plain": [
              "            Open  High   Low  Close  Adj Close    Volume\n",
              "Date                                                    \n",
              "2023-02-15  1.12  1.19  1.07   1.13       1.13  34754000\n",
              "2023-02-16  1.19  1.27  1.16   1.22       1.22  96407900\n",
              "2023-02-17  1.21  1.23  1.15   1.17       1.17  21804500\n",
              "2023-02-22  1.16  1.17  1.10   1.11       1.11  16742100\n",
              "2023-02-23  1.12  1.17  1.10   1.11       1.11  21093000"
            ],
            "text/html": [
              "\n",
              "  <div id=\"df-d914676c-37f5-4449-9fb7-9e82738b8433\">\n",
              "    <div class=\"colab-df-container\">\n",
              "      <div>\n",
              "<style scoped>\n",
              "    .dataframe tbody tr th:only-of-type {\n",
              "        vertical-align: middle;\n",
              "    }\n",
              "\n",
              "    .dataframe tbody tr th {\n",
              "        vertical-align: top;\n",
              "    }\n",
              "\n",
              "    .dataframe thead th {\n",
              "        text-align: right;\n",
              "    }\n",
              "</style>\n",
              "<table border=\"1\" class=\"dataframe\">\n",
              "  <thead>\n",
              "    <tr style=\"text-align: right;\">\n",
              "      <th></th>\n",
              "      <th>Open</th>\n",
              "      <th>High</th>\n",
              "      <th>Low</th>\n",
              "      <th>Close</th>\n",
              "      <th>Adj Close</th>\n",
              "      <th>Volume</th>\n",
              "    </tr>\n",
              "    <tr>\n",
              "      <th>Date</th>\n",
              "      <th></th>\n",
              "      <th></th>\n",
              "      <th></th>\n",
              "      <th></th>\n",
              "      <th></th>\n",
              "      <th></th>\n",
              "    </tr>\n",
              "  </thead>\n",
              "  <tbody>\n",
              "    <tr>\n",
              "      <th>2023-02-15</th>\n",
              "      <td>1.12</td>\n",
              "      <td>1.19</td>\n",
              "      <td>1.07</td>\n",
              "      <td>1.13</td>\n",
              "      <td>1.13</td>\n",
              "      <td>34754000</td>\n",
              "    </tr>\n",
              "    <tr>\n",
              "      <th>2023-02-16</th>\n",
              "      <td>1.19</td>\n",
              "      <td>1.27</td>\n",
              "      <td>1.16</td>\n",
              "      <td>1.22</td>\n",
              "      <td>1.22</td>\n",
              "      <td>96407900</td>\n",
              "    </tr>\n",
              "    <tr>\n",
              "      <th>2023-02-17</th>\n",
              "      <td>1.21</td>\n",
              "      <td>1.23</td>\n",
              "      <td>1.15</td>\n",
              "      <td>1.17</td>\n",
              "      <td>1.17</td>\n",
              "      <td>21804500</td>\n",
              "    </tr>\n",
              "    <tr>\n",
              "      <th>2023-02-22</th>\n",
              "      <td>1.16</td>\n",
              "      <td>1.17</td>\n",
              "      <td>1.10</td>\n",
              "      <td>1.11</td>\n",
              "      <td>1.11</td>\n",
              "      <td>16742100</td>\n",
              "    </tr>\n",
              "    <tr>\n",
              "      <th>2023-02-23</th>\n",
              "      <td>1.12</td>\n",
              "      <td>1.17</td>\n",
              "      <td>1.10</td>\n",
              "      <td>1.11</td>\n",
              "      <td>1.11</td>\n",
              "      <td>21093000</td>\n",
              "    </tr>\n",
              "  </tbody>\n",
              "</table>\n",
              "</div>\n",
              "      <button class=\"colab-df-convert\" onclick=\"convertToInteractive('df-d914676c-37f5-4449-9fb7-9e82738b8433')\"\n",
              "              title=\"Convert this dataframe to an interactive table.\"\n",
              "              style=\"display:none;\">\n",
              "        \n",
              "  <svg xmlns=\"http://www.w3.org/2000/svg\" height=\"24px\"viewBox=\"0 0 24 24\"\n",
              "       width=\"24px\">\n",
              "    <path d=\"M0 0h24v24H0V0z\" fill=\"none\"/>\n",
              "    <path d=\"M18.56 5.44l.94 2.06.94-2.06 2.06-.94-2.06-.94-.94-2.06-.94 2.06-2.06.94zm-11 1L8.5 8.5l.94-2.06 2.06-.94-2.06-.94L8.5 2.5l-.94 2.06-2.06.94zm10 10l.94 2.06.94-2.06 2.06-.94-2.06-.94-.94-2.06-.94 2.06-2.06.94z\"/><path d=\"M17.41 7.96l-1.37-1.37c-.4-.4-.92-.59-1.43-.59-.52 0-1.04.2-1.43.59L10.3 9.45l-7.72 7.72c-.78.78-.78 2.05 0 2.83L4 21.41c.39.39.9.59 1.41.59.51 0 1.02-.2 1.41-.59l7.78-7.78 2.81-2.81c.8-.78.8-2.07 0-2.86zM5.41 20L4 18.59l7.72-7.72 1.47 1.35L5.41 20z\"/>\n",
              "  </svg>\n",
              "      </button>\n",
              "      \n",
              "  <style>\n",
              "    .colab-df-container {\n",
              "      display:flex;\n",
              "      flex-wrap:wrap;\n",
              "      gap: 12px;\n",
              "    }\n",
              "\n",
              "    .colab-df-convert {\n",
              "      background-color: #E8F0FE;\n",
              "      border: none;\n",
              "      border-radius: 50%;\n",
              "      cursor: pointer;\n",
              "      display: none;\n",
              "      fill: #1967D2;\n",
              "      height: 32px;\n",
              "      padding: 0 0 0 0;\n",
              "      width: 32px;\n",
              "    }\n",
              "\n",
              "    .colab-df-convert:hover {\n",
              "      background-color: #E2EBFA;\n",
              "      box-shadow: 0px 1px 2px rgba(60, 64, 67, 0.3), 0px 1px 3px 1px rgba(60, 64, 67, 0.15);\n",
              "      fill: #174EA6;\n",
              "    }\n",
              "\n",
              "    [theme=dark] .colab-df-convert {\n",
              "      background-color: #3B4455;\n",
              "      fill: #D2E3FC;\n",
              "    }\n",
              "\n",
              "    [theme=dark] .colab-df-convert:hover {\n",
              "      background-color: #434B5C;\n",
              "      box-shadow: 0px 1px 3px 1px rgba(0, 0, 0, 0.15);\n",
              "      filter: drop-shadow(0px 1px 2px rgba(0, 0, 0, 0.3));\n",
              "      fill: #FFFFFF;\n",
              "    }\n",
              "  </style>\n",
              "\n",
              "      <script>\n",
              "        const buttonEl =\n",
              "          document.querySelector('#df-d914676c-37f5-4449-9fb7-9e82738b8433 button.colab-df-convert');\n",
              "        buttonEl.style.display =\n",
              "          google.colab.kernel.accessAllowed ? 'block' : 'none';\n",
              "\n",
              "        async function convertToInteractive(key) {\n",
              "          const element = document.querySelector('#df-d914676c-37f5-4449-9fb7-9e82738b8433');\n",
              "          const dataTable =\n",
              "            await google.colab.kernel.invokeFunction('convertToInteractive',\n",
              "                                                     [key], {});\n",
              "          if (!dataTable) return;\n",
              "\n",
              "          const docLinkHtml = 'Like what you see? Visit the ' +\n",
              "            '<a target=\"_blank\" href=https://colab.research.google.com/notebooks/data_table.ipynb>data table notebook</a>'\n",
              "            + ' to learn more about interactive tables.';\n",
              "          element.innerHTML = '';\n",
              "          dataTable['output_type'] = 'display_data';\n",
              "          await google.colab.output.renderOutput(dataTable, element);\n",
              "          const docLink = document.createElement('div');\n",
              "          docLink.innerHTML = docLinkHtml;\n",
              "          element.appendChild(docLink);\n",
              "        }\n",
              "      </script>\n",
              "    </div>\n",
              "  </div>\n",
              "  "
            ]
          },
          "metadata": {},
          "execution_count": 5
        }
      ]
    },
    {
      "cell_type": "markdown",
      "source": [
        "# Estatística Descritiva\n",
        "\n",
        "Estatística é o conjunto de técnicas que possibilita, de forma sistemática: a organização, descrição, análise e interpretação de dados oriundos de estudos/experimentos.\n",
        "\n",
        "Logo, estatística descritiva é a etapa inicial da análise de dados e tem como seu principal objetivo descrever os dados observados.\n"
      ],
      "metadata": {
        "id": "PMlzoyPaUCWP"
      }
    },
    {
      "cell_type": "code",
      "source": [
        "# Estatística Descritiva\n",
        "dados.describe()"
      ],
      "metadata": {
        "colab": {
          "base_uri": "https://localhost:8080/",
          "height": 300
        },
        "id": "UjFcmV-bTqyM",
        "outputId": "1d238cbb-4152-4c6f-f424-d5745061cdb8"
      },
      "execution_count": 6,
      "outputs": [
        {
          "output_type": "execute_result",
          "data": {
            "text/plain": [
              "             Open        High         Low       Close   Adj Close  \\\n",
              "count  250.000000  250.000000  250.000000  250.000000  250.000000   \n",
              "mean    16.087160   16.631560   15.509000   15.999760   15.999760   \n",
              "std      8.224887    8.427637    7.991743    8.192631    8.192631   \n",
              "min      0.800000    0.870000    0.640000    0.710000    0.710000   \n",
              "25%     10.992500   11.312500   10.400000   10.977500   10.977500   \n",
              "50%     15.625000   16.240001   15.200000   15.555000   15.555000   \n",
              "75%     21.230000   22.090001   20.669999   21.347500   21.347500   \n",
              "max     34.660000   35.250000   33.830002   34.650002   34.650002   \n",
              "\n",
              "             Volume  \n",
              "count  2.500000e+02  \n",
              "mean   3.354347e+07  \n",
              "std    4.633268e+07  \n",
              "min    3.248200e+06  \n",
              "25%    9.468375e+06  \n",
              "50%    1.953690e+07  \n",
              "75%    3.322265e+07  \n",
              "max    2.926335e+08  "
            ],
            "text/html": [
              "\n",
              "  <div id=\"df-d62e0115-941b-443f-b08b-d3bfce57c80c\">\n",
              "    <div class=\"colab-df-container\">\n",
              "      <div>\n",
              "<style scoped>\n",
              "    .dataframe tbody tr th:only-of-type {\n",
              "        vertical-align: middle;\n",
              "    }\n",
              "\n",
              "    .dataframe tbody tr th {\n",
              "        vertical-align: top;\n",
              "    }\n",
              "\n",
              "    .dataframe thead th {\n",
              "        text-align: right;\n",
              "    }\n",
              "</style>\n",
              "<table border=\"1\" class=\"dataframe\">\n",
              "  <thead>\n",
              "    <tr style=\"text-align: right;\">\n",
              "      <th></th>\n",
              "      <th>Open</th>\n",
              "      <th>High</th>\n",
              "      <th>Low</th>\n",
              "      <th>Close</th>\n",
              "      <th>Adj Close</th>\n",
              "      <th>Volume</th>\n",
              "    </tr>\n",
              "  </thead>\n",
              "  <tbody>\n",
              "    <tr>\n",
              "      <th>count</th>\n",
              "      <td>250.000000</td>\n",
              "      <td>250.000000</td>\n",
              "      <td>250.000000</td>\n",
              "      <td>250.000000</td>\n",
              "      <td>250.000000</td>\n",
              "      <td>2.500000e+02</td>\n",
              "    </tr>\n",
              "    <tr>\n",
              "      <th>mean</th>\n",
              "      <td>16.087160</td>\n",
              "      <td>16.631560</td>\n",
              "      <td>15.509000</td>\n",
              "      <td>15.999760</td>\n",
              "      <td>15.999760</td>\n",
              "      <td>3.354347e+07</td>\n",
              "    </tr>\n",
              "    <tr>\n",
              "      <th>std</th>\n",
              "      <td>8.224887</td>\n",
              "      <td>8.427637</td>\n",
              "      <td>7.991743</td>\n",
              "      <td>8.192631</td>\n",
              "      <td>8.192631</td>\n",
              "      <td>4.633268e+07</td>\n",
              "    </tr>\n",
              "    <tr>\n",
              "      <th>min</th>\n",
              "      <td>0.800000</td>\n",
              "      <td>0.870000</td>\n",
              "      <td>0.640000</td>\n",
              "      <td>0.710000</td>\n",
              "      <td>0.710000</td>\n",
              "      <td>3.248200e+06</td>\n",
              "    </tr>\n",
              "    <tr>\n",
              "      <th>25%</th>\n",
              "      <td>10.992500</td>\n",
              "      <td>11.312500</td>\n",
              "      <td>10.400000</td>\n",
              "      <td>10.977500</td>\n",
              "      <td>10.977500</td>\n",
              "      <td>9.468375e+06</td>\n",
              "    </tr>\n",
              "    <tr>\n",
              "      <th>50%</th>\n",
              "      <td>15.625000</td>\n",
              "      <td>16.240001</td>\n",
              "      <td>15.200000</td>\n",
              "      <td>15.555000</td>\n",
              "      <td>15.555000</td>\n",
              "      <td>1.953690e+07</td>\n",
              "    </tr>\n",
              "    <tr>\n",
              "      <th>75%</th>\n",
              "      <td>21.230000</td>\n",
              "      <td>22.090001</td>\n",
              "      <td>20.669999</td>\n",
              "      <td>21.347500</td>\n",
              "      <td>21.347500</td>\n",
              "      <td>3.322265e+07</td>\n",
              "    </tr>\n",
              "    <tr>\n",
              "      <th>max</th>\n",
              "      <td>34.660000</td>\n",
              "      <td>35.250000</td>\n",
              "      <td>33.830002</td>\n",
              "      <td>34.650002</td>\n",
              "      <td>34.650002</td>\n",
              "      <td>2.926335e+08</td>\n",
              "    </tr>\n",
              "  </tbody>\n",
              "</table>\n",
              "</div>\n",
              "      <button class=\"colab-df-convert\" onclick=\"convertToInteractive('df-d62e0115-941b-443f-b08b-d3bfce57c80c')\"\n",
              "              title=\"Convert this dataframe to an interactive table.\"\n",
              "              style=\"display:none;\">\n",
              "        \n",
              "  <svg xmlns=\"http://www.w3.org/2000/svg\" height=\"24px\"viewBox=\"0 0 24 24\"\n",
              "       width=\"24px\">\n",
              "    <path d=\"M0 0h24v24H0V0z\" fill=\"none\"/>\n",
              "    <path d=\"M18.56 5.44l.94 2.06.94-2.06 2.06-.94-2.06-.94-.94-2.06-.94 2.06-2.06.94zm-11 1L8.5 8.5l.94-2.06 2.06-.94-2.06-.94L8.5 2.5l-.94 2.06-2.06.94zm10 10l.94 2.06.94-2.06 2.06-.94-2.06-.94-.94-2.06-.94 2.06-2.06.94z\"/><path d=\"M17.41 7.96l-1.37-1.37c-.4-.4-.92-.59-1.43-.59-.52 0-1.04.2-1.43.59L10.3 9.45l-7.72 7.72c-.78.78-.78 2.05 0 2.83L4 21.41c.39.39.9.59 1.41.59.51 0 1.02-.2 1.41-.59l7.78-7.78 2.81-2.81c.8-.78.8-2.07 0-2.86zM5.41 20L4 18.59l7.72-7.72 1.47 1.35L5.41 20z\"/>\n",
              "  </svg>\n",
              "      </button>\n",
              "      \n",
              "  <style>\n",
              "    .colab-df-container {\n",
              "      display:flex;\n",
              "      flex-wrap:wrap;\n",
              "      gap: 12px;\n",
              "    }\n",
              "\n",
              "    .colab-df-convert {\n",
              "      background-color: #E8F0FE;\n",
              "      border: none;\n",
              "      border-radius: 50%;\n",
              "      cursor: pointer;\n",
              "      display: none;\n",
              "      fill: #1967D2;\n",
              "      height: 32px;\n",
              "      padding: 0 0 0 0;\n",
              "      width: 32px;\n",
              "    }\n",
              "\n",
              "    .colab-df-convert:hover {\n",
              "      background-color: #E2EBFA;\n",
              "      box-shadow: 0px 1px 2px rgba(60, 64, 67, 0.3), 0px 1px 3px 1px rgba(60, 64, 67, 0.15);\n",
              "      fill: #174EA6;\n",
              "    }\n",
              "\n",
              "    [theme=dark] .colab-df-convert {\n",
              "      background-color: #3B4455;\n",
              "      fill: #D2E3FC;\n",
              "    }\n",
              "\n",
              "    [theme=dark] .colab-df-convert:hover {\n",
              "      background-color: #434B5C;\n",
              "      box-shadow: 0px 1px 3px 1px rgba(0, 0, 0, 0.15);\n",
              "      filter: drop-shadow(0px 1px 2px rgba(0, 0, 0, 0.3));\n",
              "      fill: #FFFFFF;\n",
              "    }\n",
              "  </style>\n",
              "\n",
              "      <script>\n",
              "        const buttonEl =\n",
              "          document.querySelector('#df-d62e0115-941b-443f-b08b-d3bfce57c80c button.colab-df-convert');\n",
              "        buttonEl.style.display =\n",
              "          google.colab.kernel.accessAllowed ? 'block' : 'none';\n",
              "\n",
              "        async function convertToInteractive(key) {\n",
              "          const element = document.querySelector('#df-d62e0115-941b-443f-b08b-d3bfce57c80c');\n",
              "          const dataTable =\n",
              "            await google.colab.kernel.invokeFunction('convertToInteractive',\n",
              "                                                     [key], {});\n",
              "          if (!dataTable) return;\n",
              "\n",
              "          const docLinkHtml = 'Like what you see? Visit the ' +\n",
              "            '<a target=\"_blank\" href=https://colab.research.google.com/notebooks/data_table.ipynb>data table notebook</a>'\n",
              "            + ' to learn more about interactive tables.';\n",
              "          element.innerHTML = '';\n",
              "          dataTable['output_type'] = 'display_data';\n",
              "          await google.colab.output.renderOutput(dataTable, element);\n",
              "          const docLink = document.createElement('div');\n",
              "          docLink.innerHTML = docLinkHtml;\n",
              "          element.appendChild(docLink);\n",
              "        }\n",
              "      </script>\n",
              "    </div>\n",
              "  </div>\n",
              "  "
            ]
          },
          "metadata": {},
          "execution_count": 6
        }
      ]
    },
    {
      "cell_type": "code",
      "source": [
        "# Carregar as informações referente ao dataframe criado\n",
        "dados.info()"
      ],
      "metadata": {
        "colab": {
          "base_uri": "https://localhost:8080/"
        },
        "id": "wk3tAeMpTzG4",
        "outputId": "92e1e61a-f7df-4214-b1bd-212772d93fed"
      },
      "execution_count": 7,
      "outputs": [
        {
          "output_type": "stream",
          "name": "stdout",
          "text": [
            "<class 'pandas.core.frame.DataFrame'>\n",
            "DatetimeIndex: 250 entries, 2022-02-23 to 2023-02-23\n",
            "Data columns (total 6 columns):\n",
            " #   Column     Non-Null Count  Dtype  \n",
            "---  ------     --------------  -----  \n",
            " 0   Open       250 non-null    float64\n",
            " 1   High       250 non-null    float64\n",
            " 2   Low        250 non-null    float64\n",
            " 3   Close      250 non-null    float64\n",
            " 4   Adj Close  250 non-null    float64\n",
            " 5   Volume     250 non-null    int64  \n",
            "dtypes: float64(5), int64(1)\n",
            "memory usage: 13.7 KB\n"
          ]
        }
      ]
    },
    {
      "cell_type": "markdown",
      "source": [
        "# MÉDIA MÓVEL\n",
        "\n",
        "A média móvel é um indicador que faz parte da análise técnica das ações, com ela é possível identificar o equilíbrio dos preços no mercado, observando as tendências de alta, neutra ou baixa. A representação gráfica das médias móveis é normalmente feita por uma linha, que se movimenta conforme os dados novos recebidos para o cálculo.\n",
        "\n",
        "- Como fazer esse cálculo?\n",
        "Utilizar a fórmula: MMA = soma dos preços de fechamento/número de dias.\n",
        "\n"
      ],
      "metadata": {
        "id": "kbmcA527U8vL"
      }
    },
    {
      "cell_type": "code",
      "source": [
        "from statistics import mean as media\n",
        "\n",
        "# Media simples\n",
        "list = [11, 12, 13, 14, 15, 16, 17]\n",
        "print(f'Media: { media(list) }')\n",
        "print(f'Media: { (11+12+13+14+15+16+17) / len(list)} ')"
      ],
      "metadata": {
        "colab": {
          "base_uri": "https://localhost:8080/"
        },
        "id": "rQrh8PILWXNM",
        "outputId": "fbfb736f-8de7-451a-c2a8-f815135817d3"
      },
      "execution_count": 8,
      "outputs": [
        {
          "output_type": "stream",
          "name": "stdout",
          "text": [
            "Media: 14\n",
            "Media: 14.0 \n"
          ]
        }
      ]
    },
    {
      "cell_type": "code",
      "source": [
        "# Período de média móvel\n",
        "\n",
        "n = 5\n",
        "\n",
        "for intervalo in range(3):\n",
        "  print(f'{intervalo}ª Dia: { sum(list[intervalo:n]) / 5}')"
      ],
      "metadata": {
        "colab": {
          "base_uri": "https://localhost:8080/"
        },
        "id": "_1PUSjC2Wbfa",
        "outputId": "cac8402a-d168-416a-958b-6a4990985830"
      },
      "execution_count": 9,
      "outputs": [
        {
          "output_type": "stream",
          "name": "stdout",
          "text": [
            "0ª Dia: 13.0\n",
            "1ª Dia: 10.8\n",
            "2ª Dia: 8.4\n"
          ]
        }
      ]
    },
    {
      "cell_type": "code",
      "source": [
        "# Plot\n",
        "plt.plot(dados['Close'])\n",
        "plt.title('Preço Fechamento')"
      ],
      "metadata": {
        "colab": {
          "base_uri": "https://localhost:8080/",
          "height": 299
        },
        "id": "gQJDGHNWWwrL",
        "outputId": "817541ca-3aa9-4374-d304-a2c157134f3e"
      },
      "execution_count": 10,
      "outputs": [
        {
          "output_type": "execute_result",
          "data": {
            "text/plain": [
              "Text(0.5, 1.0, 'Preço Fechamento')"
            ]
          },
          "metadata": {},
          "execution_count": 10
        },
        {
          "output_type": "display_data",
          "data": {
            "text/plain": [
              "<Figure size 432x288 with 1 Axes>"
            ],
            "image/png": "[encoded data removed]"
          },
          "metadata": {
            "needs_background": "light"
          }
        }
      ]
    },
    {
      "cell_type": "markdown",
      "source": [
        "# Função Rolling\n",
        "\n",
        "A função rolling() é uma função do pandas que permite calcular estatísticas em janelas deslizantes de dados.\n",
        "Ela é muito útil para calcular médias móveis, desvios padrão, somatórios, mínimos e máximos, entre outras estatísticas.\n"
      ],
      "metadata": {
        "id": "FEB9WLv0XZEP"
      }
    },
    {
      "cell_type": "code",
      "source": [
        "from pandas.core import window\n",
        "\n",
        "periodo = 5\n",
        "dados['Close'].rolling( window=periodo ).mean()\n",
        "\n",
        "# Tamanho da imagem\n",
        "plt.figure( figsize=(12, 6) )\n",
        "\n",
        "plt.plot( dados['Close'] )\n",
        "plt.plot( dados['Close'].rolling( window=periodo ).mean() )\n",
        "plt.plot( dados['Close'].rolling( window=periodo + 20 ).mean() )\n",
        "plt.title('Preço Fechamento')\n",
        "plt.legend(['Valor Fechamento', 'Media 5 dias', 'Media 25 dias'])\n",
        "plt.ylabel('Valor de Fechamento')\n",
        "plt.xlabel('Periodo');"
      ],
      "metadata": {
        "colab": {
          "base_uri": "https://localhost:8080/",
          "height": 404
        },
        "id": "Lgjue-g-XdUE",
        "outputId": "c6855071-e27f-4a57-c7b2-709317319803"
      },
      "execution_count": 11,
      "outputs": [
        {
          "output_type": "display_data",
          "data": {
            "text/plain": [
              "<Figure size 864x432 with 1 Axes>"
            ],
            "image/png": "[encoded data removed]"
          },
          "metadata": {
            "needs_background": "light"
          }
        }
      ]
    },
    {
      "cell_type": "markdown",
      "source": [
        "# Library Ploty\n",
        "\n",
        "É uma biblioteca de plotagem interativa e de código aberto, oferece suporte +40 tipos de gráficos exclusivos e abrange uma variedade de casos de uso, como: estatística, finanças, geografia, científica e tri-dimensionais.\n",
        "\n",
        "Utilizar:\n",
        "ploty.express(px) -> uma forma rápida de criar visualizações dinâmica de dados.\n",
        "ploty.graph_objects(go) -> é a forma de utilizar a API que oferece maior controle sobre as suas visualizações, porém mais intensiva no código.\n",
        "\n"
      ],
      "metadata": {
        "id": "3c303_RjoID7"
      }
    },
    {
      "cell_type": "code",
      "source": [
        "periodo = 5\n",
        "\n",
        "dados['Media Movel'] = dados['Close'].rolling(window=periodo).mean()\n",
        "Figure = px.line(\n",
        "    dados,\n",
        "    y='Close',\n",
        "    title='Fechamento'\n",
        ")\n",
        "\n",
        "Figure.show()"
      ],
      "metadata": {
        "colab": {
          "base_uri": "https://localhost:8080/",
          "height": 542
        },
        "id": "9tHwRSBepCBU",
        "outputId": "08a3fcd5-194b-4bf1-ddf1-8810457a595e"
      },
      "execution_count": 12,
      "outputs": [
        {
          "output_type": "display_data",
          "data": {
            "text/html": [
              "<html>\n",
              "<head><meta charset=\"utf-8\" /></head>\n",
              "<body>\n",
              "    <div>            <script src=\"https://cdnjs.cloudflare.com/ajax/libs/mathjax/2.7.5/MathJax.js?config=TeX-AMS-MML_SVG\"></script><script type=\"text/javascript\">if (window.MathJax) {MathJax.Hub.Config({SVG: {font: \"STIX-Web\"}});}</script>                <script type=\"text/javascript\">window.PlotlyConfig = {MathJaxConfig: 'local'};</script>\n",
              "        <script src=\"https://cdn.plot.ly/plotly-2.8.3.min.js\"></script>                <div id=\"66124fb7-039d-4553-a796-df5d6da428e5\" class=\"plotly-graph-div\" style=\"height:525px; width:100%;\"></div>            <script type=\"text/javascript\">                                    window.PLOTLYENV=window.PLOTLYENV || {};                                    if (document.getElementById(\"66124fb7-039d-4553-a796-df5d6da428e5\")) {                    Plotly.newPlot(                        \"66124fb7-039d-4553-a796-df5d6da428e5\",                        [{\"hovertemplate\":\"Date=%{x}<br>Close=%{y}<extra></extra>\",\"legendgroup\":\"\",\"line\":{\"color\":\"#636efa\",\"dash\":\"solid\"},\"marker\":{\"symbol\":\"circle\"},\"mode\":\"lines\",\"name\":\"\",\"orientation\":\"v\",\"showlegend\":false,\"x\":[\"2022-02-23T00:00:00\",\"2022-02-24T00:00:00\",\"2022-02-25T00:00:00\",\"2022-03-02T00:00:00\",\"2022-03-03T00:00:00\",\"2022-03-04T00:00:00\",\"2022-03-07T00:00:00\",\"2022-03-08T00:00:00\",\"2022-03-09T00:00:00\",\"2022-03-10T00:00:00\",\"2022-03-11T00:00:00\",\"2022-03-14T00:00:00\",\"2022-03-15T00:00:00\",\"2022-03-16T00:00:00\",\"2022-03-17T00:00:00\",\"2022-03-18T00:00:00\",\"2022-03-21T00:00:00\",\"2022-03-22T00:00:00\",\"2022-03-23T00:00:00\",\"2022-03-24T00:00:00\",\"2022-03-25T00:00:00\",\"2022-03-28T00:00:00\",\"2022-03-29T00:00:00\",\"2022-03-30T00:00:00\",\"2022-03-31T00:00:00\",\"2022-04-01T00:00:00\",\"2022-04-04T00:00:00\",\"2022-04-05T00:00:00\",\"2022-04-06T00:00:00\",\"2022-04-07T00:00:00\",\"2022-04-08T00:00:00\",\"2022-04-11T00:00:00\",\"2022-04-12T00:00:00\",\"2022-04-13T00:00:00\",\"2022-04-14T00:00:00\",\"2022-04-18T00:00:00\",\"2022-04-19T00:00:00\",\"2022-04-20T00:00:00\",\"2022-04-22T00:00:00\",\"2022-04-25T00:00:00\",\"2022-04-26T00:00:00\",\"2022-04-27T00:00:00\",\"2022-04-28T00:00:00\",\"2022-04-29T00:00:00\",\"2022-05-02T00:00:00\",\"2022-05-03T00:00:00\",\"2022-05-04T00:00:00\",\"2022-05-05T00:00:00\",\"2022-05-06T00:00:00\",\"2022-05-09T00:00:00\",\"2022-05-10T00:00:00\",\"2022-05-11T00:00:00\",\"2022-05-12T00:00:00\",\"2022-05-13T00:00:00\",\"2022-05-16T00:00:00\",\"2022-05-17T00:00:00\",\"2022-05-18T00:00:00\",\"2022-05-19T00:00:00\",\"2022-05-20T00:00:00\",\"2022-05-23T00:00:00\",\"2022-05-24T00:00:00\",\"2022-05-25T00:00:00\",\"2022-05-26T00:00:00\",\"2022-05-27T00:00:00\",\"2022-05-30T00:00:00\",\"2022-05-31T00:00:00\",\"2022-06-01T00:00:00\",\"2022-06-02T00:00:00\",\"2022-06-03T00:00:00\",\"2022-06-06T00:00:00\",\"2022-06-07T00:00:00\",\"2022-06-08T00:00:00\",\"2022-06-09T00:00:00\",\"2022-06-10T00:00:00\",\"2022-06-13T00:00:00\",\"2022-06-14T00:00:00\",\"2022-06-15T00:00:00\",\"2022-06-17T00:00:00\",\"2022-06-20T00:00:00\",\"2022-06-21T00:00:00\",\"2022-06-22T00:00:00\",\"2022-06-23T00:00:00\",\"2022-06-24T00:00:00\",\"2022-06-27T00:00:00\",\"2022-06-28T00:00:00\",\"2022-06-29T00:00:00\",\"2022-06-30T00:00:00\",\"2022-07-01T00:00:00\",\"2022-07-04T00:00:00\",\"2022-07-05T00:00:00\",\"2022-07-06T00:00:00\",\"2022-07-07T00:00:00\",\"2022-07-08T00:00:00\",\"2022-07-11T00:00:00\",\"2022-07-12T00:00:00\",\"2022-07-13T00:00:00\",\"2022-07-14T00:00:00\",\"2022-07-15T00:00:00\",\"2022-07-18T00:00:00\",\"2022-07-19T00:00:00\",\"2022-07-20T00:00:00\",\"2022-07-21T00:00:00\",\"2022-07-22T00:00:00\",\"2022-07-25T00:00:00\",\"2022-07-26T00:00:00\",\"2022-07-27T00:00:00\",\"2022-07-28T00:00:00\",\"2022-07-29T00:00:00\",\"2022-08-01T00:00:00\",\"2022-08-02T00:00:00\",\"2022-08-03T00:00:00\",\"2022-08-04T00:00:00\",\"2022-08-05T00:00:00\",\"2022-08-08T00:00:00\",\"2022-08-09T00:00:00\",\"2022-08-10T00:00:00\",\"2022-08-11T00:00:00\",\"2022-08-12T00:00:00\",\"2022-08-15T00:00:00\",\"2022-08-16T00:00:00\",\"2022-08-17T00:00:00\",\"2022-08-18T00:00:00\",\"2022-08-19T00:00:00\",\"2022-08-22T00:00:00\",\"2022-08-23T00:00:00\",\"2022-08-24T00:00:00\",\"2022-08-25T00:00:00\",\"2022-08-26T00:00:00\",\"2022-08-29T00:00:00\",\"2022-08-30T00:00:00\",\"2022-08-31T00:00:00\",\"2022-09-01T00:00:00\",\"2022-09-02T00:00:00\",\"2022-09-05T00:00:00\",\"2022-09-06T00:00:00\",\"2022-09-08T00:00:00\",\"2022-09-09T00:00:00\",\"2022-09-12T00:00:00\",\"2022-09-13T00:00:00\",\"2022-09-14T00:00:00\",\"2022-09-15T00:00:00\",\"2022-09-16T00:00:00\",\"2022-09-19T00:00:00\",\"2022-09-20T00:00:00\",\"2022-09-21T00:00:00\",\"2022-09-22T00:00:00\",\"2022-09-23T00:00:00\",\"2022-09-26T00:00:00\",\"2022-09-27T00:00:00\",\"2022-09-28T00:00:00\",\"2022-09-29T00:00:00\",\"2022-09-30T00:00:00\",\"2022-10-03T00:00:00\",\"2022-10-04T00:00:00\",\"2022-10-05T00:00:00\",\"2022-10-06T00:00:00\",\"2022-10-07T00:00:00\",\"2022-10-10T00:00:00\",\"2022-10-11T00:00:00\",\"2022-10-13T00:00:00\",\"2022-10-14T00:00:00\",\"2022-10-17T00:00:00\",\"2022-10-18T00:00:00\",\"2022-10-19T00:00:00\",\"2022-10-20T00:00:00\",\"2022-10-21T00:00:00\",\"2022-10-24T00:00:00\",\"2022-10-25T00:00:00\",\"2022-10-26T00:00:00\",\"2022-10-27T00:00:00\",\"2022-10-28T00:00:00\",\"2022-10-31T00:00:00\",\"2022-11-01T00:00:00\",\"2022-11-03T00:00:00\",\"2022-11-04T00:00:00\",\"2022-11-07T00:00:00\",\"2022-11-08T00:00:00\",\"2022-11-09T00:00:00\",\"2022-11-10T00:00:00\",\"2022-11-11T00:00:00\",\"2022-11-14T00:00:00\",\"2022-11-16T00:00:00\",\"2022-11-17T00:00:00\",\"2022-11-18T00:00:00\",\"2022-11-21T00:00:00\",\"2022-11-22T00:00:00\",\"2022-11-23T00:00:00\",\"2022-11-24T00:00:00\",\"2022-11-25T00:00:00\",\"2022-11-28T00:00:00\",\"2022-11-29T00:00:00\",\"2022-11-30T00:00:00\",\"2022-12-01T00:00:00\",\"2022-12-02T00:00:00\",\"2022-12-05T00:00:00\",\"2022-12-06T00:00:00\",\"2022-12-07T00:00:00\",\"2022-12-08T00:00:00\",\"2022-12-09T00:00:00\",\"2022-12-12T00:00:00\",\"2022-12-13T00:00:00\",\"2022-12-14T00:00:00\",\"2022-12-15T00:00:00\",\"2022-12-16T00:00:00\",\"2022-12-19T00:00:00\",\"2022-12-20T00:00:00\",\"2022-12-21T00:00:00\",\"2022-12-22T00:00:00\",\"2022-12-23T00:00:00\",\"2022-12-26T00:00:00\",\"2022-12-27T00:00:00\",\"2022-12-28T00:00:00\",\"2022-12-29T00:00:00\",\"2023-01-02T00:00:00\",\"2023-01-03T00:00:00\",\"2023-01-04T00:00:00\",\"2023-01-05T00:00:00\",\"2023-01-06T00:00:00\",\"2023-01-09T00:00:00\",\"2023-01-10T00:00:00\",\"2023-01-11T00:00:00\",\"2023-01-12T00:00:00\",\"2023-01-13T00:00:00\",\"2023-01-16T00:00:00\",\"2023-01-17T00:00:00\",\"2023-01-18T00:00:00\",\"2023-01-19T00:00:00\",\"2023-01-20T00:00:00\",\"2023-01-23T00:00:00\",\"2023-01-24T00:00:00\",\"2023-01-25T00:00:00\",\"2023-01-26T00:00:00\",\"2023-01-27T00:00:00\",\"2023-01-30T00:00:00\",\"2023-01-31T00:00:00\",\"2023-02-01T00:00:00\",\"2023-02-02T00:00:00\",\"2023-02-03T00:00:00\",\"2023-02-06T00:00:00\",\"2023-02-07T00:00:00\",\"2023-02-08T00:00:00\",\"2023-02-09T00:00:00\",\"2023-02-10T00:00:00\",\"2023-02-13T00:00:00\",\"2023-02-14T00:00:00\",\"2023-02-15T00:00:00\",\"2023-02-16T00:00:00\",\"2023-02-17T00:00:00\",\"2023-02-22T00:00:00\",\"2023-02-23T00:00:00\"],\"xaxis\":\"x\",\"y\":[29.690000534057617,30.200000762939453,30.5,32.45000076293945,31.100000381469727,30.09000015258789,27.010000228881836,26.93000030517578,27.510000228881836,26.700000762939453,24.8799991607666,23.850000381469727,23.25,24.40999984741211,24.6299991607666,26.959999084472656,26.549999237060547,28.31999969482422,28.670000076293945,30.399999618530273,32.279998779296875,31.959999084472656,34.650001525878906,34.54999923706055,32.650001525878906,34.0,33.400001525878906,31.309999465942383,30.25,30.969999313354492,28.579999923706055,28.100000381469727,28.700000762939453,29.239999771118164,28.149999618530273,28.360000610351562,28.010000228881836,27.239999771118164,26.670000076293945,26.389999389648438,25.040000915527344,25.020000457763672,25.209999084472656,24.0,24.010000228881836,23.329999923706055,25.09000015258789,23.290000915527344,22.3799991607666,20.860000610351562,21.43000030517578,21.600000381469727,22.670000076293945,23.049999237060547,23.65999984741211,23.020000457763672,22.950000762939453,23.09000015258789,23.469999313354492,24.06999969482422,22.8799991607666,21.889999389648438,21.5,21.489999771118164,20.700000762939453,20.100000381469727,19.34000015258789,19.540000915527344,18.399999618530273,17.5,17.079999923706055,16.690000534057617,17.030000686645508,15.220000267028809,13.890000343322754,13.300000190734863,13.920000076293945,13.529999732971191,13.319999694824219,13.369999885559082,13.34000015258789,13.930000305175781,13.729999542236328,14.029999732971191,13.420000076293945,13.4399995803833,13.430000305175781,12.729999542236328,12.539999961853027,13.760000228881836,15.380000114440918,15.5,15.800000190734863,15.609999656677246,16.899999618530273,16.65999984741211,16.68000030517578,16.31999969482422,15.739999771118164,16.190000534057617,16.920000076293945,16.93000030517578,15.930000305175781,15.569999694824219,14.8100004196167,15.460000038146973,15.09000015258789,14.0,13.890000343322754,13.760000228881836,14.739999771118164,15.079999923706055,13.899999618530273,14.239999771118164,13.619999885559082,14.65999984741211,13.279999732971191,12.960000038146973,15.329999923706055,15.170000076293945,14.239999771118164,13.630000114440918,13.029999732971191,15.960000038146973,18.5,18.43000030517578,18.790000915527344,18.100000381469727,17.510000228881836,17.040000915527344,16.34000015258789,16.18000030517578,15.510000228881836,15.449999809265137,14.640000343322754,15.149999618530273,16.559999465942383,17.290000915527344,17.059999465942383,16.739999771118164,16.1200008392334,16.510000228881836,17.420000076293945,17.389999389648438,17.510000228881836,17.239999771118164,17.530000686645508,17.479999542236328,16.989999771118164,17.139999389648438,15.869999885559082,16.979999542236328,18.229999542236328,19.329999923706055,19.8700008392334,20.81999969482422,21.100000381469727,20.68000030517578,20.559999465942383,19.049999237060547,17.440000534057617,17.649999618530273,17.610000610351562,16.40999984741211,14.270000457763672,14.529999732971191,14.640000343322754,14.670000076293945,13.8100004196167,14.460000038146973,15.15999984741211,15.539999961853027,15.899999618530273,16.520000457763672,16.670000076293945,15.170000076293945,15.170000076293945,13.890000343322754,12.640000343322754,12.210000038146973,12.539999961853027,11.3100004196167,10.90999984741211,10.380000114440918,11.0600004196167,10.640000343322754,10.069999694824219,11.180000305175781,10.949999809265137,9.890000343322754,10.239999771118164,10.5600004196167,9.829999923706055,9.670000076293945,9.0,9.069999694824219,8.979999542236328,8.600000381469727,8.369999885559082,8.449999809265137,8.380000114440918,8.140000343322754,7.980000019073486,7.349999904632568,8.279999732971191,8.760000228881836,8.819999694824219,9.0600004196167,9.180000305175781,9.34000015258789,9.15999984741211,9.720000267028809,9.649999618530273,9.029999732971191,8.520000457763672,8.729999542236328,9.6899995803833,10.40999984741211,11.079999923706055,11.90999984741211,12.0,2.7200000286102295,3.1500000953674316,1.940000057220459,1.899999976158142,1.7400000095367432,1.0,0.7099999785423279,0.800000011920929,0.800000011920929,0.9399999976158142,1.0299999713897705,1.2000000476837158,1.4500000476837158,1.75,2.0899999141693115,1.6799999475479126,1.6299999952316284,1.7300000190734863,1.3600000143051147,1.0700000524520874,0.9900000095367432,1.100000023841858,1.1299999952316284,1.1100000143051147,1.1299999952316284,1.2200000286102295,1.1699999570846558,1.1100000143051147,1.1100000143051147],\"yaxis\":\"y\",\"type\":\"scatter\"}],                        {\"template\":{\"data\":{\"bar\":[{\"error_x\":{\"color\":\"#2a3f5f\"},\"error_y\":{\"color\":\"#2a3f5f\"},\"marker\":{\"line\":{\"color\":\"#E5ECF6\",\"width\":0.5},\"pattern\":{\"fillmode\":\"overlay\",\"size\":10,\"solidity\":0.2}},\"type\":\"bar\"}],\"barpolar\":[{\"marker\":{\"line\":{\"color\":\"#E5ECF6\",\"width\":0.5},\"pattern\":{\"fillmode\":\"overlay\",\"size\":10,\"solidity\":0.2}},\"type\":\"barpolar\"}],\"carpet\":[{\"aaxis\":{\"endlinecolor\":\"#2a3f5f\",\"gridcolor\":\"white\",\"linecolor\":\"white\",\"minorgridcolor\":\"white\",\"startlinecolor\":\"#2a3f5f\"},\"baxis\":{\"endlinecolor\":\"#2a3f5f\",\"gridcolor\":\"white\",\"linecolor\":\"white\",\"minorgridcolor\":\"white\",\"startlinecolor\":\"#2a3f5f\"},\"type\":\"carpet\"}],\"choropleth\":[{\"colorbar\":{\"outlinewidth\":0,\"ticks\":\"\"},\"type\":\"choropleth\"}],\"contour\":[{\"colorbar\":{\"outlinewidth\":0,\"ticks\":\"\"},\"colorscale\":[[0.0,\"#0d0887\"],[0.1111111111111111,\"#46039f\"],[0.2222222222222222,\"#7201a8\"],[0.3333333333333333,\"#9c179e\"],[0.4444444444444444,\"#bd3786\"],[0.5555555555555556,\"#d8576b\"],[0.6666666666666666,\"#ed7953\"],[0.7777777777777778,\"#fb9f3a\"],[0.8888888888888888,\"#fdca26\"],[1.0,\"#f0f921\"]],\"type\":\"contour\"}],\"contourcarpet\":[{\"colorbar\":{\"outlinewidth\":0,\"ticks\":\"\"},\"type\":\"contourcarpet\"}],\"heatmap\":[{\"colorbar\":{\"outlinewidth\":0,\"ticks\":\"\"},\"colorscale\":[[0.0,\"#0d0887\"],[0.1111111111111111,\"#46039f\"],[0.2222222222222222,\"#7201a8\"],[0.3333333333333333,\"#9c179e\"],[0.4444444444444444,\"#bd3786\"],[0.5555555555555556,\"#d8576b\"],[0.6666666666666666,\"#ed7953\"],[0.7777777777777778,\"#fb9f3a\"],[0.8888888888888888,\"#fdca26\"],[1.0,\"#f0f921\"]],\"type\":\"heatmap\"}],\"heatmapgl\":[{\"colorbar\":{\"outlinewidth\":0,\"ticks\":\"\"},\"colorscale\":[[0.0,\"#0d0887\"],[0.1111111111111111,\"#46039f\"],[0.2222222222222222,\"#7201a8\"],[0.3333333333333333,\"#9c179e\"],[0.4444444444444444,\"#bd3786\"],[0.5555555555555556,\"#d8576b\"],[0.6666666666666666,\"#ed7953\"],[0.7777777777777778,\"#fb9f3a\"],[0.8888888888888888,\"#fdca26\"],[1.0,\"#f0f921\"]],\"type\":\"heatmapgl\"}],\"histogram\":[{\"marker\":{\"pattern\":{\"fillmode\":\"overlay\",\"size\":10,\"solidity\":0.2}},\"type\":\"histogram\"}],\"histogram2d\":[{\"colorbar\":{\"outlinewidth\":0,\"ticks\":\"\"},\"colorscale\":[[0.0,\"#0d0887\"],[0.1111111111111111,\"#46039f\"],[0.2222222222222222,\"#7201a8\"],[0.3333333333333333,\"#9c179e\"],[0.4444444444444444,\"#bd3786\"],[0.5555555555555556,\"#d8576b\"],[0.6666666666666666,\"#ed7953\"],[0.7777777777777778,\"#fb9f3a\"],[0.8888888888888888,\"#fdca26\"],[1.0,\"#f0f921\"]],\"type\":\"histogram2d\"}],\"histogram2dcontour\":[{\"colorbar\":{\"outlinewidth\":0,\"ticks\":\"\"},\"colorscale\":[[0.0,\"#0d0887\"],[0.1111111111111111,\"#46039f\"],[0.2222222222222222,\"#7201a8\"],[0.3333333333333333,\"#9c179e\"],[0.4444444444444444,\"#bd3786\"],[0.5555555555555556,\"#d8576b\"],[0.6666666666666666,\"#ed7953\"],[0.7777777777777778,\"#fb9f3a\"],[0.8888888888888888,\"#fdca26\"],[1.0,\"#f0f921\"]],\"type\":\"histogram2dcontour\"}],\"mesh3d\":[{\"colorbar\":{\"outlinewidth\":0,\"ticks\":\"\"},\"type\":\"mesh3d\"}],\"parcoords\":[{\"line\":{\"colorbar\":{\"outlinewidth\":0,\"ticks\":\"\"}},\"type\":\"parcoords\"}],\"pie\":[{\"automargin\":true,\"type\":\"pie\"}],\"scatter\":[{\"marker\":{\"colorbar\":{\"outlinewidth\":0,\"ticks\":\"\"}},\"type\":\"scatter\"}],\"scatter3d\":[{\"line\":{\"colorbar\":{\"outlinewidth\":0,\"ticks\":\"\"}},\"marker\":{\"colorbar\":{\"outlinewidth\":0,\"ticks\":\"\"}},\"type\":\"scatter3d\"}],\"scattercarpet\":[{\"marker\":{\"colorbar\":{\"outlinewidth\":0,\"ticks\":\"\"}},\"type\":\"scattercarpet\"}],\"scattergeo\":[{\"marker\":{\"colorbar\":{\"outlinewidth\":0,\"ticks\":\"\"}},\"type\":\"scattergeo\"}],\"scattergl\":[{\"marker\":{\"colorbar\":{\"outlinewidth\":0,\"ticks\":\"\"}},\"type\":\"scattergl\"}],\"scattermapbox\":[{\"marker\":{\"colorbar\":{\"outlinewidth\":0,\"ticks\":\"\"}},\"type\":\"scattermapbox\"}],\"scatterpolar\":[{\"marker\":{\"colorbar\":{\"outlinewidth\":0,\"ticks\":\"\"}},\"type\":\"scatterpolar\"}],\"scatterpolargl\":[{\"marker\":{\"colorbar\":{\"outlinewidth\":0,\"ticks\":\"\"}},\"type\":\"scatterpolargl\"}],\"scatterternary\":[{\"marker\":{\"colorbar\":{\"outlinewidth\":0,\"ticks\":\"\"}},\"type\":\"scatterternary\"}],\"surface\":[{\"colorbar\":{\"outlinewidth\":0,\"ticks\":\"\"},\"colorscale\":[[0.0,\"#0d0887\"],[0.1111111111111111,\"#46039f\"],[0.2222222222222222,\"#7201a8\"],[0.3333333333333333,\"#9c179e\"],[0.4444444444444444,\"#bd3786\"],[0.5555555555555556,\"#d8576b\"],[0.6666666666666666,\"#ed7953\"],[0.7777777777777778,\"#fb9f3a\"],[0.8888888888888888,\"#fdca26\"],[1.0,\"#f0f921\"]],\"type\":\"surface\"}],\"table\":[{\"cells\":{\"fill\":{\"color\":\"#EBF0F8\"},\"line\":{\"color\":\"white\"}},\"header\":{\"fill\":{\"color\":\"#C8D4E3\"},\"line\":{\"color\":\"white\"}},\"type\":\"table\"}]},\"layout\":{\"annotationdefaults\":{\"arrowcolor\":\"#2a3f5f\",\"arrowhead\":0,\"arrowwidth\":1},\"autotypenumbers\":\"strict\",\"coloraxis\":{\"colorbar\":{\"outlinewidth\":0,\"ticks\":\"\"}},\"colorscale\":{\"diverging\":[[0,\"#8e0152\"],[0.1,\"#c51b7d\"],[0.2,\"#de77ae\"],[0.3,\"#f1b6da\"],[0.4,\"#fde0ef\"],[0.5,\"#f7f7f7\"],[0.6,\"#e6f5d0\"],[0.7,\"#b8e186\"],[0.8,\"#7fbc41\"],[0.9,\"#4d9221\"],[1,\"#276419\"]],\"sequential\":[[0.0,\"#0d0887\"],[0.1111111111111111,\"#46039f\"],[0.2222222222222222,\"#7201a8\"],[0.3333333333333333,\"#9c179e\"],[0.4444444444444444,\"#bd3786\"],[0.5555555555555556,\"#d8576b\"],[0.6666666666666666,\"#ed7953\"],[0.7777777777777778,\"#fb9f3a\"],[0.8888888888888888,\"#fdca26\"],[1.0,\"#f0f921\"]],\"sequentialminus\":[[0.0,\"#0d0887\"],[0.1111111111111111,\"#46039f\"],[0.2222222222222222,\"#7201a8\"],[0.3333333333333333,\"#9c179e\"],[0.4444444444444444,\"#bd3786\"],[0.5555555555555556,\"#d8576b\"],[0.6666666666666666,\"#ed7953\"],[0.7777777777777778,\"#fb9f3a\"],[0.8888888888888888,\"#fdca26\"],[1.0,\"#f0f921\"]]},\"colorway\":[\"#636efa\",\"#EF553B\",\"#00cc96\",\"#ab63fa\",\"#FFA15A\",\"#19d3f3\",\"#FF6692\",\"#B6E880\",\"#FF97FF\",\"#FECB52\"],\"font\":{\"color\":\"#2a3f5f\"},\"geo\":{\"bgcolor\":\"white\",\"lakecolor\":\"white\",\"landcolor\":\"#E5ECF6\",\"showlakes\":true,\"showland\":true,\"subunitcolor\":\"white\"},\"hoverlabel\":{\"align\":\"left\"},\"hovermode\":\"closest\",\"mapbox\":{\"style\":\"light\"},\"paper_bgcolor\":\"white\",\"plot_bgcolor\":\"#E5ECF6\",\"polar\":{\"angularaxis\":{\"gridcolor\":\"white\",\"linecolor\":\"white\",\"ticks\":\"\"},\"bgcolor\":\"#E5ECF6\",\"radialaxis\":{\"gridcolor\":\"white\",\"linecolor\":\"white\",\"ticks\":\"\"}},\"scene\":{\"xaxis\":{\"backgroundcolor\":\"#E5ECF6\",\"gridcolor\":\"white\",\"gridwidth\":2,\"linecolor\":\"white\",\"showbackground\":true,\"ticks\":\"\",\"zerolinecolor\":\"white\"},\"yaxis\":{\"backgroundcolor\":\"#E5ECF6\",\"gridcolor\":\"white\",\"gridwidth\":2,\"linecolor\":\"white\",\"showbackground\":true,\"ticks\":\"\",\"zerolinecolor\":\"white\"},\"zaxis\":{\"backgroundcolor\":\"#E5ECF6\",\"gridcolor\":\"white\",\"gridwidth\":2,\"linecolor\":\"white\",\"showbackground\":true,\"ticks\":\"\",\"zerolinecolor\":\"white\"}},\"shapedefaults\":{\"line\":{\"color\":\"#2a3f5f\"}},\"ternary\":{\"aaxis\":{\"gridcolor\":\"white\",\"linecolor\":\"white\",\"ticks\":\"\"},\"baxis\":{\"gridcolor\":\"white\",\"linecolor\":\"white\",\"ticks\":\"\"},\"bgcolor\":\"#E5ECF6\",\"caxis\":{\"gridcolor\":\"white\",\"linecolor\":\"white\",\"ticks\":\"\"}},\"title\":{\"x\":0.05},\"xaxis\":{\"automargin\":true,\"gridcolor\":\"white\",\"linecolor\":\"white\",\"ticks\":\"\",\"title\":{\"standoff\":15},\"zerolinecolor\":\"white\",\"zerolinewidth\":2},\"yaxis\":{\"automargin\":true,\"gridcolor\":\"white\",\"linecolor\":\"white\",\"ticks\":\"\",\"title\":{\"standoff\":15},\"zerolinecolor\":\"white\",\"zerolinewidth\":2}}},\"xaxis\":{\"anchor\":\"y\",\"domain\":[0.0,1.0],\"title\":{\"text\":\"Date\"}},\"yaxis\":{\"anchor\":\"x\",\"domain\":[0.0,1.0],\"title\":{\"text\":\"Close\"}},\"legend\":{\"tracegroupgap\":0},\"title\":{\"text\":\"Fechamento\"}},                        {\"responsive\": true}                    ).then(function(){\n",
              "                            \n",
              "var gd = document.getElementById('66124fb7-039d-4553-a796-df5d6da428e5');\n",
              "var x = new MutationObserver(function (mutations, observer) {{\n",
              "        var display = window.getComputedStyle(gd).display;\n",
              "        if (!display || display === 'none') {{\n",
              "            console.log([gd, 'removed!']);\n",
              "            Plotly.purge(gd);\n",
              "            observer.disconnect();\n",
              "        }}\n",
              "}});\n",
              "\n",
              "// Listen for the removal of the full notebook cells\n",
              "var notebookContainer = gd.closest('#notebook-container');\n",
              "if (notebookContainer) {{\n",
              "    x.observe(notebookContainer, {childList: true});\n",
              "}}\n",
              "\n",
              "// Listen for the clearing of the current output cell\n",
              "var outputEl = gd.closest('.output');\n",
              "if (outputEl) {{\n",
              "    x.observe(outputEl, {childList: true});\n",
              "}}\n",
              "\n",
              "                        })                };                            </script>        </div>\n",
              "</body>\n",
              "</html>"
            ]
          },
          "metadata": {}
        }
      ]
    },
    {
      "cell_type": "code",
      "source": [
        "Figure_02 = go.Figure(\n",
        "    data=go.Scatter(\n",
        "        x=dados.index,\n",
        "        y=dados['Close'],\n",
        "        line=(dict(color='firebrick', width=3))\n",
        "    )\n",
        ")\n",
        "\n",
        "Figure_02.update_layout(\n",
        "    title='Análise de Fechamento',\n",
        "    xaxis_title='Período',\n",
        "    yaxis_title='Preço de Fechamento'\n",
        ")\n",
        "\n",
        "Figure_02.show()"
      ],
      "metadata": {
        "colab": {
          "base_uri": "https://localhost:8080/",
          "height": 542
        },
        "id": "9tjY3vgPpvwz",
        "outputId": "cff66e2e-d0f6-4c5c-b8a8-ae4035bd08ef"
      },
      "execution_count": 13,
      "outputs": [
        {
          "output_type": "display_data",
          "data": {
            "text/html": [
              "<html>\n",
              "<head><meta charset=\"utf-8\" /></head>\n",
              "<body>\n",
              "    <div>            <script src=\"https://cdnjs.cloudflare.com/ajax/libs/mathjax/2.7.5/MathJax.js?config=TeX-AMS-MML_SVG\"></script><script type=\"text/javascript\">if (window.MathJax) {MathJax.Hub.Config({SVG: {font: \"STIX-Web\"}});}</script>                <script type=\"text/javascript\">window.PlotlyConfig = {MathJaxConfig: 'local'};</script>\n",
              "        <script src=\"https://cdn.plot.ly/plotly-2.8.3.min.js\"></script>                <div id=\"12060196-d61b-4174-a43f-c8ce1385fadd\" class=\"plotly-graph-div\" style=\"height:525px; width:100%;\"></div>            <script type=\"text/javascript\">                                    window.PLOTLYENV=window.PLOTLYENV || {};                                    if (document.getElementById(\"12060196-d61b-4174-a43f-c8ce1385fadd\")) {                    Plotly.newPlot(                        \"12060196-d61b-4174-a43f-c8ce1385fadd\",                        [{\"line\":{\"color\":\"firebrick\",\"width\":3},\"x\":[\"2022-02-23T00:00:00\",\"2022-02-24T00:00:00\",\"2022-02-25T00:00:00\",\"2022-03-02T00:00:00\",\"2022-03-03T00:00:00\",\"2022-03-04T00:00:00\",\"2022-03-07T00:00:00\",\"2022-03-08T00:00:00\",\"2022-03-09T00:00:00\",\"2022-03-10T00:00:00\",\"2022-03-11T00:00:00\",\"2022-03-14T00:00:00\",\"2022-03-15T00:00:00\",\"2022-03-16T00:00:00\",\"2022-03-17T00:00:00\",\"2022-03-18T00:00:00\",\"2022-03-21T00:00:00\",\"2022-03-22T00:00:00\",\"2022-03-23T00:00:00\",\"2022-03-24T00:00:00\",\"2022-03-25T00:00:00\",\"2022-03-28T00:00:00\",\"2022-03-29T00:00:00\",\"2022-03-30T00:00:00\",\"2022-03-31T00:00:00\",\"2022-04-01T00:00:00\",\"2022-04-04T00:00:00\",\"2022-04-05T00:00:00\",\"2022-04-06T00:00:00\",\"2022-04-07T00:00:00\",\"2022-04-08T00:00:00\",\"2022-04-11T00:00:00\",\"2022-04-12T00:00:00\",\"2022-04-13T00:00:00\",\"2022-04-14T00:00:00\",\"2022-04-18T00:00:00\",\"2022-04-19T00:00:00\",\"2022-04-20T00:00:00\",\"2022-04-22T00:00:00\",\"2022-04-25T00:00:00\",\"2022-04-26T00:00:00\",\"2022-04-27T00:00:00\",\"2022-04-28T00:00:00\",\"2022-04-29T00:00:00\",\"2022-05-02T00:00:00\",\"2022-05-03T00:00:00\",\"2022-05-04T00:00:00\",\"2022-05-05T00:00:00\",\"2022-05-06T00:00:00\",\"2022-05-09T00:00:00\",\"2022-05-10T00:00:00\",\"2022-05-11T00:00:00\",\"2022-05-12T00:00:00\",\"2022-05-13T00:00:00\",\"2022-05-16T00:00:00\",\"2022-05-17T00:00:00\",\"2022-05-18T00:00:00\",\"2022-05-19T00:00:00\",\"2022-05-20T00:00:00\",\"2022-05-23T00:00:00\",\"2022-05-24T00:00:00\",\"2022-05-25T00:00:00\",\"2022-05-26T00:00:00\",\"2022-05-27T00:00:00\",\"2022-05-30T00:00:00\",\"2022-05-31T00:00:00\",\"2022-06-01T00:00:00\",\"2022-06-02T00:00:00\",\"2022-06-03T00:00:00\",\"2022-06-06T00:00:00\",\"2022-06-07T00:00:00\",\"2022-06-08T00:00:00\",\"2022-06-09T00:00:00\",\"2022-06-10T00:00:00\",\"2022-06-13T00:00:00\",\"2022-06-14T00:00:00\",\"2022-06-15T00:00:00\",\"2022-06-17T00:00:00\",\"2022-06-20T00:00:00\",\"2022-06-21T00:00:00\",\"2022-06-22T00:00:00\",\"2022-06-23T00:00:00\",\"2022-06-24T00:00:00\",\"2022-06-27T00:00:00\",\"2022-06-28T00:00:00\",\"2022-06-29T00:00:00\",\"2022-06-30T00:00:00\",\"2022-07-01T00:00:00\",\"2022-07-04T00:00:00\",\"2022-07-05T00:00:00\",\"2022-07-06T00:00:00\",\"2022-07-07T00:00:00\",\"2022-07-08T00:00:00\",\"2022-07-11T00:00:00\",\"2022-07-12T00:00:00\",\"2022-07-13T00:00:00\",\"2022-07-14T00:00:00\",\"2022-07-15T00:00:00\",\"2022-07-18T00:00:00\",\"2022-07-19T00:00:00\",\"2022-07-20T00:00:00\",\"2022-07-21T00:00:00\",\"2022-07-22T00:00:00\",\"2022-07-25T00:00:00\",\"2022-07-26T00:00:00\",\"2022-07-27T00:00:00\",\"2022-07-28T00:00:00\",\"2022-07-29T00:00:00\",\"2022-08-01T00:00:00\",\"2022-08-02T00:00:00\",\"2022-08-03T00:00:00\",\"2022-08-04T00:00:00\",\"2022-08-05T00:00:00\",\"2022-08-08T00:00:00\",\"2022-08-09T00:00:00\",\"2022-08-10T00:00:00\",\"2022-08-11T00:00:00\",\"2022-08-12T00:00:00\",\"2022-08-15T00:00:00\",\"2022-08-16T00:00:00\",\"2022-08-17T00:00:00\",\"2022-08-18T00:00:00\",\"2022-08-19T00:00:00\",\"2022-08-22T00:00:00\",\"2022-08-23T00:00:00\",\"2022-08-24T00:00:00\",\"2022-08-25T00:00:00\",\"2022-08-26T00:00:00\",\"2022-08-29T00:00:00\",\"2022-08-30T00:00:00\",\"2022-08-31T00:00:00\",\"2022-09-01T00:00:00\",\"2022-09-02T00:00:00\",\"2022-09-05T00:00:00\",\"2022-09-06T00:00:00\",\"2022-09-08T00:00:00\",\"2022-09-09T00:00:00\",\"2022-09-12T00:00:00\",\"2022-09-13T00:00:00\",\"2022-09-14T00:00:00\",\"2022-09-15T00:00:00\",\"2022-09-16T00:00:00\",\"2022-09-19T00:00:00\",\"2022-09-20T00:00:00\",\"2022-09-21T00:00:00\",\"2022-09-22T00:00:00\",\"2022-09-23T00:00:00\",\"2022-09-26T00:00:00\",\"2022-09-27T00:00:00\",\"2022-09-28T00:00:00\",\"2022-09-29T00:00:00\",\"2022-09-30T00:00:00\",\"2022-10-03T00:00:00\",\"2022-10-04T00:00:00\",\"2022-10-05T00:00:00\",\"2022-10-06T00:00:00\",\"2022-10-07T00:00:00\",\"2022-10-10T00:00:00\",\"2022-10-11T00:00:00\",\"2022-10-13T00:00:00\",\"2022-10-14T00:00:00\",\"2022-10-17T00:00:00\",\"2022-10-18T00:00:00\",\"2022-10-19T00:00:00\",\"2022-10-20T00:00:00\",\"2022-10-21T00:00:00\",\"2022-10-24T00:00:00\",\"2022-10-25T00:00:00\",\"2022-10-26T00:00:00\",\"2022-10-27T00:00:00\",\"2022-10-28T00:00:00\",\"2022-10-31T00:00:00\",\"2022-11-01T00:00:00\",\"2022-11-03T00:00:00\",\"2022-11-04T00:00:00\",\"2022-11-07T00:00:00\",\"2022-11-08T00:00:00\",\"2022-11-09T00:00:00\",\"2022-11-10T00:00:00\",\"2022-11-11T00:00:00\",\"2022-11-14T00:00:00\",\"2022-11-16T00:00:00\",\"2022-11-17T00:00:00\",\"2022-11-18T00:00:00\",\"2022-11-21T00:00:00\",\"2022-11-22T00:00:00\",\"2022-11-23T00:00:00\",\"2022-11-24T00:00:00\",\"2022-11-25T00:00:00\",\"2022-11-28T00:00:00\",\"2022-11-29T00:00:00\",\"2022-11-30T00:00:00\",\"2022-12-01T00:00:00\",\"2022-12-02T00:00:00\",\"2022-12-05T00:00:00\",\"2022-12-06T00:00:00\",\"2022-12-07T00:00:00\",\"2022-12-08T00:00:00\",\"2022-12-09T00:00:00\",\"2022-12-12T00:00:00\",\"2022-12-13T00:00:00\",\"2022-12-14T00:00:00\",\"2022-12-15T00:00:00\",\"2022-12-16T00:00:00\",\"2022-12-19T00:00:00\",\"2022-12-20T00:00:00\",\"2022-12-21T00:00:00\",\"2022-12-22T00:00:00\",\"2022-12-23T00:00:00\",\"2022-12-26T00:00:00\",\"2022-12-27T00:00:00\",\"2022-12-28T00:00:00\",\"2022-12-29T00:00:00\",\"2023-01-02T00:00:00\",\"2023-01-03T00:00:00\",\"2023-01-04T00:00:00\",\"2023-01-05T00:00:00\",\"2023-01-06T00:00:00\",\"2023-01-09T00:00:00\",\"2023-01-10T00:00:00\",\"2023-01-11T00:00:00\",\"2023-01-12T00:00:00\",\"2023-01-13T00:00:00\",\"2023-01-16T00:00:00\",\"2023-01-17T00:00:00\",\"2023-01-18T00:00:00\",\"2023-01-19T00:00:00\",\"2023-01-20T00:00:00\",\"2023-01-23T00:00:00\",\"2023-01-24T00:00:00\",\"2023-01-25T00:00:00\",\"2023-01-26T00:00:00\",\"2023-01-27T00:00:00\",\"2023-01-30T00:00:00\",\"2023-01-31T00:00:00\",\"2023-02-01T00:00:00\",\"2023-02-02T00:00:00\",\"2023-02-03T00:00:00\",\"2023-02-06T00:00:00\",\"2023-02-07T00:00:00\",\"2023-02-08T00:00:00\",\"2023-02-09T00:00:00\",\"2023-02-10T00:00:00\",\"2023-02-13T00:00:00\",\"2023-02-14T00:00:00\",\"2023-02-15T00:00:00\",\"2023-02-16T00:00:00\",\"2023-02-17T00:00:00\",\"2023-02-22T00:00:00\",\"2023-02-23T00:00:00\"],\"y\":[29.690000534057617,30.200000762939453,30.5,32.45000076293945,31.100000381469727,30.09000015258789,27.010000228881836,26.93000030517578,27.510000228881836,26.700000762939453,24.8799991607666,23.850000381469727,23.25,24.40999984741211,24.6299991607666,26.959999084472656,26.549999237060547,28.31999969482422,28.670000076293945,30.399999618530273,32.279998779296875,31.959999084472656,34.650001525878906,34.54999923706055,32.650001525878906,34.0,33.400001525878906,31.309999465942383,30.25,30.969999313354492,28.579999923706055,28.100000381469727,28.700000762939453,29.239999771118164,28.149999618530273,28.360000610351562,28.010000228881836,27.239999771118164,26.670000076293945,26.389999389648438,25.040000915527344,25.020000457763672,25.209999084472656,24.0,24.010000228881836,23.329999923706055,25.09000015258789,23.290000915527344,22.3799991607666,20.860000610351562,21.43000030517578,21.600000381469727,22.670000076293945,23.049999237060547,23.65999984741211,23.020000457763672,22.950000762939453,23.09000015258789,23.469999313354492,24.06999969482422,22.8799991607666,21.889999389648438,21.5,21.489999771118164,20.700000762939453,20.100000381469727,19.34000015258789,19.540000915527344,18.399999618530273,17.5,17.079999923706055,16.690000534057617,17.030000686645508,15.220000267028809,13.890000343322754,13.300000190734863,13.920000076293945,13.529999732971191,13.319999694824219,13.369999885559082,13.34000015258789,13.930000305175781,13.729999542236328,14.029999732971191,13.420000076293945,13.4399995803833,13.430000305175781,12.729999542236328,12.539999961853027,13.760000228881836,15.380000114440918,15.5,15.800000190734863,15.609999656677246,16.899999618530273,16.65999984741211,16.68000030517578,16.31999969482422,15.739999771118164,16.190000534057617,16.920000076293945,16.93000030517578,15.930000305175781,15.569999694824219,14.8100004196167,15.460000038146973,15.09000015258789,14.0,13.890000343322754,13.760000228881836,14.739999771118164,15.079999923706055,13.899999618530273,14.239999771118164,13.619999885559082,14.65999984741211,13.279999732971191,12.960000038146973,15.329999923706055,15.170000076293945,14.239999771118164,13.630000114440918,13.029999732971191,15.960000038146973,18.5,18.43000030517578,18.790000915527344,18.100000381469727,17.510000228881836,17.040000915527344,16.34000015258789,16.18000030517578,15.510000228881836,15.449999809265137,14.640000343322754,15.149999618530273,16.559999465942383,17.290000915527344,17.059999465942383,16.739999771118164,16.1200008392334,16.510000228881836,17.420000076293945,17.389999389648438,17.510000228881836,17.239999771118164,17.530000686645508,17.479999542236328,16.989999771118164,17.139999389648438,15.869999885559082,16.979999542236328,18.229999542236328,19.329999923706055,19.8700008392334,20.81999969482422,21.100000381469727,20.68000030517578,20.559999465942383,19.049999237060547,17.440000534057617,17.649999618530273,17.610000610351562,16.40999984741211,14.270000457763672,14.529999732971191,14.640000343322754,14.670000076293945,13.8100004196167,14.460000038146973,15.15999984741211,15.539999961853027,15.899999618530273,16.520000457763672,16.670000076293945,15.170000076293945,15.170000076293945,13.890000343322754,12.640000343322754,12.210000038146973,12.539999961853027,11.3100004196167,10.90999984741211,10.380000114440918,11.0600004196167,10.640000343322754,10.069999694824219,11.180000305175781,10.949999809265137,9.890000343322754,10.239999771118164,10.5600004196167,9.829999923706055,9.670000076293945,9.0,9.069999694824219,8.979999542236328,8.600000381469727,8.369999885559082,8.449999809265137,8.380000114440918,8.140000343322754,7.980000019073486,7.349999904632568,8.279999732971191,8.760000228881836,8.819999694824219,9.0600004196167,9.180000305175781,9.34000015258789,9.15999984741211,9.720000267028809,9.649999618530273,9.029999732971191,8.520000457763672,8.729999542236328,9.6899995803833,10.40999984741211,11.079999923706055,11.90999984741211,12.0,2.7200000286102295,3.1500000953674316,1.940000057220459,1.899999976158142,1.7400000095367432,1.0,0.7099999785423279,0.800000011920929,0.800000011920929,0.9399999976158142,1.0299999713897705,1.2000000476837158,1.4500000476837158,1.75,2.0899999141693115,1.6799999475479126,1.6299999952316284,1.7300000190734863,1.3600000143051147,1.0700000524520874,0.9900000095367432,1.100000023841858,1.1299999952316284,1.1100000143051147,1.1299999952316284,1.2200000286102295,1.1699999570846558,1.1100000143051147,1.1100000143051147],\"type\":\"scatter\"}],                        {\"template\":{\"data\":{\"bar\":[{\"error_x\":{\"color\":\"#2a3f5f\"},\"error_y\":{\"color\":\"#2a3f5f\"},\"marker\":{\"line\":{\"color\":\"#E5ECF6\",\"width\":0.5},\"pattern\":{\"fillmode\":\"overlay\",\"size\":10,\"solidity\":0.2}},\"type\":\"bar\"}],\"barpolar\":[{\"marker\":{\"line\":{\"color\":\"#E5ECF6\",\"width\":0.5},\"pattern\":{\"fillmode\":\"overlay\",\"size\":10,\"solidity\":0.2}},\"type\":\"barpolar\"}],\"carpet\":[{\"aaxis\":{\"endlinecolor\":\"#2a3f5f\",\"gridcolor\":\"white\",\"linecolor\":\"white\",\"minorgridcolor\":\"white\",\"startlinecolor\":\"#2a3f5f\"},\"baxis\":{\"endlinecolor\":\"#2a3f5f\",\"gridcolor\":\"white\",\"linecolor\":\"white\",\"minorgridcolor\":\"white\",\"startlinecolor\":\"#2a3f5f\"},\"type\":\"carpet\"}],\"choropleth\":[{\"colorbar\":{\"outlinewidth\":0,\"ticks\":\"\"},\"type\":\"choropleth\"}],\"contour\":[{\"colorbar\":{\"outlinewidth\":0,\"ticks\":\"\"},\"colorscale\":[[0.0,\"#0d0887\"],[0.1111111111111111,\"#46039f\"],[0.2222222222222222,\"#7201a8\"],[0.3333333333333333,\"#9c179e\"],[0.4444444444444444,\"#bd3786\"],[0.5555555555555556,\"#d8576b\"],[0.6666666666666666,\"#ed7953\"],[0.7777777777777778,\"#fb9f3a\"],[0.8888888888888888,\"#fdca26\"],[1.0,\"#f0f921\"]],\"type\":\"contour\"}],\"contourcarpet\":[{\"colorbar\":{\"outlinewidth\":0,\"ticks\":\"\"},\"type\":\"contourcarpet\"}],\"heatmap\":[{\"colorbar\":{\"outlinewidth\":0,\"ticks\":\"\"},\"colorscale\":[[0.0,\"#0d0887\"],[0.1111111111111111,\"#46039f\"],[0.2222222222222222,\"#7201a8\"],[0.3333333333333333,\"#9c179e\"],[0.4444444444444444,\"#bd3786\"],[0.5555555555555556,\"#d8576b\"],[0.6666666666666666,\"#ed7953\"],[0.7777777777777778,\"#fb9f3a\"],[0.8888888888888888,\"#fdca26\"],[1.0,\"#f0f921\"]],\"type\":\"heatmap\"}],\"heatmapgl\":[{\"colorbar\":{\"outlinewidth\":0,\"ticks\":\"\"},\"colorscale\":[[0.0,\"#0d0887\"],[0.1111111111111111,\"#46039f\"],[0.2222222222222222,\"#7201a8\"],[0.3333333333333333,\"#9c179e\"],[0.4444444444444444,\"#bd3786\"],[0.5555555555555556,\"#d8576b\"],[0.6666666666666666,\"#ed7953\"],[0.7777777777777778,\"#fb9f3a\"],[0.8888888888888888,\"#fdca26\"],[1.0,\"#f0f921\"]],\"type\":\"heatmapgl\"}],\"histogram\":[{\"marker\":{\"pattern\":{\"fillmode\":\"overlay\",\"size\":10,\"solidity\":0.2}},\"type\":\"histogram\"}],\"histogram2d\":[{\"colorbar\":{\"outlinewidth\":0,\"ticks\":\"\"},\"colorscale\":[[0.0,\"#0d0887\"],[0.1111111111111111,\"#46039f\"],[0.2222222222222222,\"#7201a8\"],[0.3333333333333333,\"#9c179e\"],[0.4444444444444444,\"#bd3786\"],[0.5555555555555556,\"#d8576b\"],[0.6666666666666666,\"#ed7953\"],[0.7777777777777778,\"#fb9f3a\"],[0.8888888888888888,\"#fdca26\"],[1.0,\"#f0f921\"]],\"type\":\"histogram2d\"}],\"histogram2dcontour\":[{\"colorbar\":{\"outlinewidth\":0,\"ticks\":\"\"},\"colorscale\":[[0.0,\"#0d0887\"],[0.1111111111111111,\"#46039f\"],[0.2222222222222222,\"#7201a8\"],[0.3333333333333333,\"#9c179e\"],[0.4444444444444444,\"#bd3786\"],[0.5555555555555556,\"#d8576b\"],[0.6666666666666666,\"#ed7953\"],[0.7777777777777778,\"#fb9f3a\"],[0.8888888888888888,\"#fdca26\"],[1.0,\"#f0f921\"]],\"type\":\"histogram2dcontour\"}],\"mesh3d\":[{\"colorbar\":{\"outlinewidth\":0,\"ticks\":\"\"},\"type\":\"mesh3d\"}],\"parcoords\":[{\"line\":{\"colorbar\":{\"outlinewidth\":0,\"ticks\":\"\"}},\"type\":\"parcoords\"}],\"pie\":[{\"automargin\":true,\"type\":\"pie\"}],\"scatter\":[{\"marker\":{\"colorbar\":{\"outlinewidth\":0,\"ticks\":\"\"}},\"type\":\"scatter\"}],\"scatter3d\":[{\"line\":{\"colorbar\":{\"outlinewidth\":0,\"ticks\":\"\"}},\"marker\":{\"colorbar\":{\"outlinewidth\":0,\"ticks\":\"\"}},\"type\":\"scatter3d\"}],\"scattercarpet\":[{\"marker\":{\"colorbar\":{\"outlinewidth\":0,\"ticks\":\"\"}},\"type\":\"scattercarpet\"}],\"scattergeo\":[{\"marker\":{\"colorbar\":{\"outlinewidth\":0,\"ticks\":\"\"}},\"type\":\"scattergeo\"}],\"scattergl\":[{\"marker\":{\"colorbar\":{\"outlinewidth\":0,\"ticks\":\"\"}},\"type\":\"scattergl\"}],\"scattermapbox\":[{\"marker\":{\"colorbar\":{\"outlinewidth\":0,\"ticks\":\"\"}},\"type\":\"scattermapbox\"}],\"scatterpolar\":[{\"marker\":{\"colorbar\":{\"outlinewidth\":0,\"ticks\":\"\"}},\"type\":\"scatterpolar\"}],\"scatterpolargl\":[{\"marker\":{\"colorbar\":{\"outlinewidth\":0,\"ticks\":\"\"}},\"type\":\"scatterpolargl\"}],\"scatterternary\":[{\"marker\":{\"colorbar\":{\"outlinewidth\":0,\"ticks\":\"\"}},\"type\":\"scatterternary\"}],\"surface\":[{\"colorbar\":{\"outlinewidth\":0,\"ticks\":\"\"},\"colorscale\":[[0.0,\"#0d0887\"],[0.1111111111111111,\"#46039f\"],[0.2222222222222222,\"#7201a8\"],[0.3333333333333333,\"#9c179e\"],[0.4444444444444444,\"#bd3786\"],[0.5555555555555556,\"#d8576b\"],[0.6666666666666666,\"#ed7953\"],[0.7777777777777778,\"#fb9f3a\"],[0.8888888888888888,\"#fdca26\"],[1.0,\"#f0f921\"]],\"type\":\"surface\"}],\"table\":[{\"cells\":{\"fill\":{\"color\":\"#EBF0F8\"},\"line\":{\"color\":\"white\"}},\"header\":{\"fill\":{\"color\":\"#C8D4E3\"},\"line\":{\"color\":\"white\"}},\"type\":\"table\"}]},\"layout\":{\"annotationdefaults\":{\"arrowcolor\":\"#2a3f5f\",\"arrowhead\":0,\"arrowwidth\":1},\"autotypenumbers\":\"strict\",\"coloraxis\":{\"colorbar\":{\"outlinewidth\":0,\"ticks\":\"\"}},\"colorscale\":{\"diverging\":[[0,\"#8e0152\"],[0.1,\"#c51b7d\"],[0.2,\"#de77ae\"],[0.3,\"#f1b6da\"],[0.4,\"#fde0ef\"],[0.5,\"#f7f7f7\"],[0.6,\"#e6f5d0\"],[0.7,\"#b8e186\"],[0.8,\"#7fbc41\"],[0.9,\"#4d9221\"],[1,\"#276419\"]],\"sequential\":[[0.0,\"#0d0887\"],[0.1111111111111111,\"#46039f\"],[0.2222222222222222,\"#7201a8\"],[0.3333333333333333,\"#9c179e\"],[0.4444444444444444,\"#bd3786\"],[0.5555555555555556,\"#d8576b\"],[0.6666666666666666,\"#ed7953\"],[0.7777777777777778,\"#fb9f3a\"],[0.8888888888888888,\"#fdca26\"],[1.0,\"#f0f921\"]],\"sequentialminus\":[[0.0,\"#0d0887\"],[0.1111111111111111,\"#46039f\"],[0.2222222222222222,\"#7201a8\"],[0.3333333333333333,\"#9c179e\"],[0.4444444444444444,\"#bd3786\"],[0.5555555555555556,\"#d8576b\"],[0.6666666666666666,\"#ed7953\"],[0.7777777777777778,\"#fb9f3a\"],[0.8888888888888888,\"#fdca26\"],[1.0,\"#f0f921\"]]},\"colorway\":[\"#636efa\",\"#EF553B\",\"#00cc96\",\"#ab63fa\",\"#FFA15A\",\"#19d3f3\",\"#FF6692\",\"#B6E880\",\"#FF97FF\",\"#FECB52\"],\"font\":{\"color\":\"#2a3f5f\"},\"geo\":{\"bgcolor\":\"white\",\"lakecolor\":\"white\",\"landcolor\":\"#E5ECF6\",\"showlakes\":true,\"showland\":true,\"subunitcolor\":\"white\"},\"hoverlabel\":{\"align\":\"left\"},\"hovermode\":\"closest\",\"mapbox\":{\"style\":\"light\"},\"paper_bgcolor\":\"white\",\"plot_bgcolor\":\"#E5ECF6\",\"polar\":{\"angularaxis\":{\"gridcolor\":\"white\",\"linecolor\":\"white\",\"ticks\":\"\"},\"bgcolor\":\"#E5ECF6\",\"radialaxis\":{\"gridcolor\":\"white\",\"linecolor\":\"white\",\"ticks\":\"\"}},\"scene\":{\"xaxis\":{\"backgroundcolor\":\"#E5ECF6\",\"gridcolor\":\"white\",\"gridwidth\":2,\"linecolor\":\"white\",\"showbackground\":true,\"ticks\":\"\",\"zerolinecolor\":\"white\"},\"yaxis\":{\"backgroundcolor\":\"#E5ECF6\",\"gridcolor\":\"white\",\"gridwidth\":2,\"linecolor\":\"white\",\"showbackground\":true,\"ticks\":\"\",\"zerolinecolor\":\"white\"},\"zaxis\":{\"backgroundcolor\":\"#E5ECF6\",\"gridcolor\":\"white\",\"gridwidth\":2,\"linecolor\":\"white\",\"showbackground\":true,\"ticks\":\"\",\"zerolinecolor\":\"white\"}},\"shapedefaults\":{\"line\":{\"color\":\"#2a3f5f\"}},\"ternary\":{\"aaxis\":{\"gridcolor\":\"white\",\"linecolor\":\"white\",\"ticks\":\"\"},\"baxis\":{\"gridcolor\":\"white\",\"linecolor\":\"white\",\"ticks\":\"\"},\"bgcolor\":\"#E5ECF6\",\"caxis\":{\"gridcolor\":\"white\",\"linecolor\":\"white\",\"ticks\":\"\"}},\"title\":{\"x\":0.05},\"xaxis\":{\"automargin\":true,\"gridcolor\":\"white\",\"linecolor\":\"white\",\"ticks\":\"\",\"title\":{\"standoff\":15},\"zerolinecolor\":\"white\",\"zerolinewidth\":2},\"yaxis\":{\"automargin\":true,\"gridcolor\":\"white\",\"linecolor\":\"white\",\"ticks\":\"\",\"title\":{\"standoff\":15},\"zerolinecolor\":\"white\",\"zerolinewidth\":2}}},\"title\":{\"text\":\"An\\u00e1lise de Fechamento\"},\"xaxis\":{\"title\":{\"text\":\"Per\\u00edodo\"}},\"yaxis\":{\"title\":{\"text\":\"Pre\\u00e7o de Fechamento\"}}},                        {\"responsive\": true}                    ).then(function(){\n",
              "                            \n",
              "var gd = document.getElementById('12060196-d61b-4174-a43f-c8ce1385fadd');\n",
              "var x = new MutationObserver(function (mutations, observer) {{\n",
              "        var display = window.getComputedStyle(gd).display;\n",
              "        if (!display || display === 'none') {{\n",
              "            console.log([gd, 'removed!']);\n",
              "            Plotly.purge(gd);\n",
              "            observer.disconnect();\n",
              "        }}\n",
              "}});\n",
              "\n",
              "// Listen for the removal of the full notebook cells\n",
              "var notebookContainer = gd.closest('#notebook-container');\n",
              "if (notebookContainer) {{\n",
              "    x.observe(notebookContainer, {childList: true});\n",
              "}}\n",
              "\n",
              "// Listen for the clearing of the current output cell\n",
              "var outputEl = gd.closest('.output');\n",
              "if (outputEl) {{\n",
              "    x.observe(outputEl, {childList: true});\n",
              "}}\n",
              "\n",
              "                        })                };                            </script>        </div>\n",
              "</body>\n",
              "</html>"
            ]
          },
          "metadata": {}
        }
      ]
    },
    {
      "cell_type": "markdown",
      "source": [
        "# Candlestick Charts\n",
        "\n",
        "É um modelo de gráfico que demonstra a abertura, a alta, a baixa e o fechamento para uma x coordenada (provavelmente, o tempo). As caixas representam a dispersão entre os valores do OPEN e CLOSE, as linhas representam a dispersão entre os valores LOW e HIGH. Os pontos de amostragem onde o valor de fechamento é maior (inferior) do que o valor de abertura, chamados de crescentes (descrecentes). Por padrão, as velas crescentes são desenhadas em verde, enquanto as descrecentes são desenhadas em vermelho"
      ],
      "metadata": {
        "id": "McjS7gUJxATL"
      }
    },
    {
      "cell_type": "code",
      "source": [
        "Grafico_Candlestick = go.Figure(\n",
        "    data=[\n",
        "        go.Candlestick(\n",
        "            x=dados.index,\n",
        "            open=dados['Open'],\n",
        "            high=dados['High'],\n",
        "            low=dados['Low'],\n",
        "            close=dados['Close'],\n",
        "            increasing_line_color='green',\n",
        "            decreasing_line_color='red'\n",
        "        )\n",
        "    ]\n",
        ")\n",
        "\n",
        "\n",
        "Grafico_Candlestick.update_layout(\n",
        "    xaxis_rangeslider_visible=False,\n",
        "    title='Análise Fechamento',\n",
        "    xaxis_title='Periodo',\n",
        "    yaxis_title='Preço de Fechamento'\n",
        ")\n",
        "\n",
        "\n",
        "Grafico_Candlestick.show()"
      ],
      "metadata": {
        "colab": {
          "base_uri": "https://localhost:8080/",
          "height": 542
        },
        "id": "INUeqFkSxx08",
        "outputId": "e8b82f17-c183-478a-9012-6fe8b108ea56"
      },
      "execution_count": 14,
      "outputs": [
        {
          "output_type": "display_data",
          "data": {
            "text/html": [
              "<html>\n",
              "<head><meta charset=\"utf-8\" /></head>\n",
              "<body>\n",
              "    <div>            <script src=\"https://cdnjs.cloudflare.com/ajax/libs/mathjax/2.7.5/MathJax.js?config=TeX-AMS-MML_SVG\"></script><script type=\"text/javascript\">if (window.MathJax) {MathJax.Hub.Config({SVG: {font: \"STIX-Web\"}});}</script>                <script type=\"text/javascript\">window.PlotlyConfig = {MathJaxConfig: 'local'};</script>\n",
              "        <script src=\"https://cdn.plot.ly/plotly-2.8.3.min.js\"></script>                <div id=\"d7282d33-d73e-484f-9171-b0bdf8563b93\" class=\"plotly-graph-div\" style=\"height:525px; width:100%;\"></div>            <script type=\"text/javascript\">                                    window.PLOTLYENV=window.PLOTLYENV || {};                                    if (document.getElementById(\"d7282d33-d73e-484f-9171-b0bdf8563b93\")) {                    Plotly.newPlot(                        \"d7282d33-d73e-484f-9171-b0bdf8563b93\",                        [{\"close\":[29.690000534057617,30.200000762939453,30.5,32.45000076293945,31.100000381469727,30.09000015258789,27.010000228881836,26.93000030517578,27.510000228881836,26.700000762939453,24.8799991607666,23.850000381469727,23.25,24.40999984741211,24.6299991607666,26.959999084472656,26.549999237060547,28.31999969482422,28.670000076293945,30.399999618530273,32.279998779296875,31.959999084472656,34.650001525878906,34.54999923706055,32.650001525878906,34.0,33.400001525878906,31.309999465942383,30.25,30.969999313354492,28.579999923706055,28.100000381469727,28.700000762939453,29.239999771118164,28.149999618530273,28.360000610351562,28.010000228881836,27.239999771118164,26.670000076293945,26.389999389648438,25.040000915527344,25.020000457763672,25.209999084472656,24.0,24.010000228881836,23.329999923706055,25.09000015258789,23.290000915527344,22.3799991607666,20.860000610351562,21.43000030517578,21.600000381469727,22.670000076293945,23.049999237060547,23.65999984741211,23.020000457763672,22.950000762939453,23.09000015258789,23.469999313354492,24.06999969482422,22.8799991607666,21.889999389648438,21.5,21.489999771118164,20.700000762939453,20.100000381469727,19.34000015258789,19.540000915527344,18.399999618530273,17.5,17.079999923706055,16.690000534057617,17.030000686645508,15.220000267028809,13.890000343322754,13.300000190734863,13.920000076293945,13.529999732971191,13.319999694824219,13.369999885559082,13.34000015258789,13.930000305175781,13.729999542236328,14.029999732971191,13.420000076293945,13.4399995803833,13.430000305175781,12.729999542236328,12.539999961853027,13.760000228881836,15.380000114440918,15.5,15.800000190734863,15.609999656677246,16.899999618530273,16.65999984741211,16.68000030517578,16.31999969482422,15.739999771118164,16.190000534057617,16.920000076293945,16.93000030517578,15.930000305175781,15.569999694824219,14.8100004196167,15.460000038146973,15.09000015258789,14.0,13.890000343322754,13.760000228881836,14.739999771118164,15.079999923706055,13.899999618530273,14.239999771118164,13.619999885559082,14.65999984741211,13.279999732971191,12.960000038146973,15.329999923706055,15.170000076293945,14.239999771118164,13.630000114440918,13.029999732971191,15.960000038146973,18.5,18.43000030517578,18.790000915527344,18.100000381469727,17.510000228881836,17.040000915527344,16.34000015258789,16.18000030517578,15.510000228881836,15.449999809265137,14.640000343322754,15.149999618530273,16.559999465942383,17.290000915527344,17.059999465942383,16.739999771118164,16.1200008392334,16.510000228881836,17.420000076293945,17.389999389648438,17.510000228881836,17.239999771118164,17.530000686645508,17.479999542236328,16.989999771118164,17.139999389648438,15.869999885559082,16.979999542236328,18.229999542236328,19.329999923706055,19.8700008392334,20.81999969482422,21.100000381469727,20.68000030517578,20.559999465942383,19.049999237060547,17.440000534057617,17.649999618530273,17.610000610351562,16.40999984741211,14.270000457763672,14.529999732971191,14.640000343322754,14.670000076293945,13.8100004196167,14.460000038146973,15.15999984741211,15.539999961853027,15.899999618530273,16.520000457763672,16.670000076293945,15.170000076293945,15.170000076293945,13.890000343322754,12.640000343322754,12.210000038146973,12.539999961853027,11.3100004196167,10.90999984741211,10.380000114440918,11.0600004196167,10.640000343322754,10.069999694824219,11.180000305175781,10.949999809265137,9.890000343322754,10.239999771118164,10.5600004196167,9.829999923706055,9.670000076293945,9.0,9.069999694824219,8.979999542236328,8.600000381469727,8.369999885559082,8.449999809265137,8.380000114440918,8.140000343322754,7.980000019073486,7.349999904632568,8.279999732971191,8.760000228881836,8.819999694824219,9.0600004196167,9.180000305175781,9.34000015258789,9.15999984741211,9.720000267028809,9.649999618530273,9.029999732971191,8.520000457763672,8.729999542236328,9.6899995803833,10.40999984741211,11.079999923706055,11.90999984741211,12.0,2.7200000286102295,3.1500000953674316,1.940000057220459,1.899999976158142,1.7400000095367432,1.0,0.7099999785423279,0.800000011920929,0.800000011920929,0.9399999976158142,1.0299999713897705,1.2000000476837158,1.4500000476837158,1.75,2.0899999141693115,1.6799999475479126,1.6299999952316284,1.7300000190734863,1.3600000143051147,1.0700000524520874,0.9900000095367432,1.100000023841858,1.1299999952316284,1.1100000143051147,1.1299999952316284,1.2200000286102295,1.1699999570846558,1.1100000143051147,1.1100000143051147],\"decreasing\":{\"line\":{\"color\":\"red\"}},\"high\":[32.2400016784668,30.610000610351562,30.56999969482422,32.75,32.86000061035156,31.68000030517578,29.940000534057617,28.0,28.399999618530273,27.540000915527344,27.6299991607666,25.18000030517578,24.260000228881836,24.559999465942383,24.8799991607666,27.09000015258789,27.270000457763672,28.459999084472656,28.780000686645508,30.5,32.90999984741211,32.52000045776367,35.20000076293945,35.25,34.88999938964844,34.22999954223633,34.5,34.189998626708984,30.8700008392334,31.450000762939453,30.700000762939453,28.940000534057617,29.899999618530273,30.299999237060547,29.31999969482422,28.729999542236328,28.549999237060547,28.450000762939453,27.420000076293945,27.059999465942383,26.479999542236328,26.889999389648438,25.93000030517578,25.969999313354492,24.209999084472656,24.149999618530273,25.219999313354492,24.43000030517578,23.399999618530273,22.110000610351562,22.030000686645508,22.1299991607666,23.260000228881836,24.6200008392334,23.959999084472656,24.25,23.5,23.59000015258789,23.670000076293945,24.229999542236328,23.780000686645508,22.729999542236328,22.399999618530273,22.0,22.15999984741211,21.290000915527344,20.209999084472656,19.8799991607666,19.3700008392334,18.649999618530273,17.3799991607666,17.290000915527344,17.469999313354492,17.309999465942383,14.640000343322754,14.119999885559082,14.229999542236328,13.850000381469727,14.0,14.039999961853027,13.75,14.220000267028809,14.270000457763672,14.180000305175781,14.449999809265137,13.770000457763672,13.670000076293945,13.329999923706055,13.029999732971191,13.84000015258789,15.470000267028809,15.800000190734863,15.9399995803833,15.90999984741211,17.549999237060547,17.139999389648438,17.329999923706055,16.940000534057617,17.06999969482422,16.459999084472656,17.31999969482422,17.15999984741211,17.200000762939453,16.290000915527344,15.550000190734863,15.489999771118164,15.579999923706055,15.180000305175781,14.279999732971191,14.039999961853027,14.760000228881836,15.649999618530273,15.1899995803833,14.880000114440918,14.510000228881836,14.829999923706055,14.920000076293945,13.479999542236328,15.489999771118164,15.9399995803833,15.479999542236328,14.5,13.460000038146973,15.960000038146973,18.799999237060547,20.309999465942383,19.5,19.09000015258789,18.510000228881836,18.079999923706055,17.34000015258789,16.6299991607666,16.579999923706055,15.800000190734863,15.350000381469727,15.380000114440918,16.700000762939453,17.360000610351562,17.549999237060547,17.280000686645508,17.200000762939453,16.690000534057617,17.59000015258789,17.780000686645508,18.09000015258789,18.270000457763672,17.799999237060547,17.950000762939453,18.100000381469727,17.530000686645508,16.889999389648438,17.170000076293945,18.43000030517578,19.489999771118164,20.360000610351562,21.899999618530273,21.799999237060547,21.540000915527344,21.190000534057617,20.09000015258789,19.299999237060547,18.700000762939453,18.15999984741211,17.389999389648438,16.3700008392334,14.949999809265137,14.800000190734863,15.34000015258789,14.59000015258789,14.699999809265137,15.40999984741211,15.779999732971191,16.190000534057617,16.889999389648438,17.1299991607666,16.989999771118164,15.920000076293945,14.630000114440918,13.350000381469727,13.470000267028809,12.850000381469727,12.649999618530273,11.15999984741211,11.640000343322754,11.3100004196167,11.300000190734863,10.630000114440918,11.319999694824219,11.539999961853027,10.949999809265137,10.5,10.569999694824219,10.479999542236328,10.229999542236328,9.65999984741211,9.460000038146973,9.329999923706055,9.09000015258789,8.789999961853027,8.59000015258789,8.920000076293945,8.289999961853027,8.550000190734863,8.079999923706055,8.5600004196167,9.609999656677246,9.039999961853027,9.0600004196167,9.6899995803833,9.380000114440918,9.550000190734863,9.899999618530273,10.029999732971191,9.510000228881836,9.270000457763672,8.800000190734863,9.819999694824219,10.430000305175781,11.210000038146973,12.210000038146973,12.079999923706055,2.950000047683716,4.380000114440918,2.4100000858306885,2.3499999046325684,2.0299999713897705,1.4800000190734863,1.1799999475479126,0.8799999952316284,0.8700000047683716,1.059999942779541,1.0499999523162842,1.2000000476837158,1.6399999856948853,1.75,2.140000104904175,2.0899999141693115,1.8200000524520874,1.840000033378601,1.7799999713897705,1.4199999570846558,1.1699999570846558,1.149999976158142,1.1699999570846558,1.159999966621399,1.190000057220459,1.2699999809265137,1.2300000190734863,1.1699999570846558,1.1699999570846558],\"increasing\":{\"line\":{\"color\":\"green\"}},\"low\":[29.530000686645508,27.510000228881836,29.0,30.100000381469727,31.049999237060547,29.68000030517578,26.90999984741211,26.260000228881836,27.200000762939453,26.110000610351562,24.799999237060547,23.81999969482422,23.09000015258789,23.31999969482422,23.799999237060547,24.15999984741211,26.100000381469727,26.75,27.5,28.170000076293945,30.200000762939453,31.3799991607666,32.7400016784668,33.83000183105469,32.31999969482422,32.95000076293945,33.20000076293945,31.049999237060547,29.010000228881836,29.6200008392334,28.399999618530273,27.540000915527344,28.399999618530273,28.34000015258789,28.010000228881836,27.65999984741211,27.559999465942383,27.049999237060547,26.329999923706055,26.020000457763672,24.75,24.959999084472656,24.43000030517578,23.920000076293945,23.219999313354492,22.969999313354492,22.520000457763672,22.920000076293945,22.290000915527344,20.709999084472656,20.280000686645508,20.920000076293945,21.010000228881836,22.739999771118164,22.200000762939453,23.020000457763672,22.559999465942383,22.75,22.799999237060547,23.239999771118164,22.6299991607666,21.65999984741211,21.489999771118164,21.200000762939453,20.399999618530273,20.09000015258789,19.299999237060547,18.850000381469727,18.399999618530273,17.440000534057617,16.850000381469727,16.649999618530273,16.350000381469727,15.220000267028809,13.84000015258789,13.170000076293945,13.420000076293945,13.119999885559082,13.050000190734863,13.270000457763672,12.75,13.170000076293945,13.449999809265137,13.710000038146973,13.3100004196167,13.15999984741211,12.770000457763672,12.720000267028809,12.390000343322754,12.09000015258789,13.5600004196167,15.15999984741211,15.069999694824219,15.199999809265137,15.369999885559082,16.299999237060547,16.170000076293945,16.299999237060547,15.65999984741211,15.270000457763672,16.219999313354492,16.540000915527344,15.729999542236328,15.470000267028809,14.649999618530273,14.770000457763672,14.75,13.920000076293945,13.579999923706055,13.579999923706055,13.710000038146973,14.880000114440918,13.699999809265137,14.010000228881836,13.210000038146973,13.84000015258789,13.149999618530273,12.609999656677246,12.670000076293945,14.619999885559082,14.140000343322754,13.520000457763672,12.890000343322754,14.850000381469727,15.550000190734863,17.920000076293945,18.3799991607666,17.709999084472656,17.469999313354492,16.149999618530273,16.200000762939453,15.5,15.399999618530273,15.260000228881836,14.239999771118164,14.319999694824219,15.270000457763672,16.510000228881836,16.209999084472656,16.43000030517578,16.09000015258789,15.40999984741211,16.239999771118164,17.09000015258789,17.079999923706055,16.959999084472656,16.84000015258789,17.18000030517578,16.690000534057617,16.649999618530273,15.75,15.600000381469727,17.290000915527344,18.479999542236328,19.280000686645508,19.790000915527344,20.489999771118164,20.549999237060547,20.18000030517578,19.049999237060547,17.34000015258789,17.520000457763672,16.549999237060547,15.960000038146973,14.010000228881836,13.59000015258789,14.050000190734863,14.460000038146973,13.699999809265137,13.800000190734863,14.09000015258789,14.84000015258789,15.199999809265137,15.430000305175781,16.549999237060547,15.170000076293945,14.9399995803833,13.8100004196167,12.520000457763672,11.600000381469727,12.229999542236328,11.140000343322754,10.390000343322754,10.329999923706055,10.430000305175781,10.470000267028809,10.010000228881836,10.239999771118164,10.539999961853027,9.819999694824219,9.609999656677246,10.039999961853027,9.8100004196167,9.5600004196167,8.90999984741211,8.949999809265137,8.9399995803833,8.510000228881836,8.300000190734863,8.079999923706055,8.300000190734863,7.75,7.940000057220459,7.320000171661377,7.369999885559082,8.0,8.199999809265137,8.5,9.069999694824219,8.90999984741211,8.970000267028809,9.15999984741211,9.359999656677246,8.970000267028809,8.399999618530273,8.399999618530273,8.600000381469727,9.579999923706055,10.069999694824219,10.75,11.390000343322754,2.4000000953674316,2.700000047683716,1.7999999523162842,1.8899999856948853,1.7100000381469727,1.0,0.6399999856948853,0.7400000095367432,0.7799999713897705,0.8199999928474426,0.9399999976158142,1.0399999618530273,1.2799999713897705,1.5800000429153442,1.75,1.4900000095367432,1.559999942779541,1.7000000476837158,1.3200000524520874,1.0499999523162842,0.9599999785423279,1.0299999713897705,1.0800000429153442,1.0800000429153442,1.0700000524520874,1.159999966621399,1.149999976158142,1.100000023841858,1.100000023841858],\"open\":[30.149999618530273,28.110000610351562,30.420000076293945,30.5,32.45000076293945,31.1200008392334,29.889999389648438,27.5,27.290000915527344,27.540000915527344,27.049999237060547,24.969999313354492,23.549999237060547,23.420000076293945,24.350000381469727,24.540000915527344,26.690000534057617,26.75,28.149999618530273,28.75,30.200000762939453,32.5,33.0,34.41999816894531,34.65999984741211,32.95000076293945,34.20000076293945,33.25,30.690000534057617,30.270000457763672,30.649999618530273,28.049999237060547,28.829999923706055,29.100000381469727,29.059999465942383,28.170000076293945,28.010000228881836,28.110000610351562,27.0,26.5,26.1200008392334,25.520000457763672,25.309999465942383,25.6200008392334,23.989999771118164,24.149999618530273,23.059999465942383,24.399999618530273,23.290000915527344,21.93000030517578,21.229999542236328,21.0,21.170000076293945,22.93000030517578,23.100000381469727,24.190000534057617,22.940000534057617,22.90999984741211,23.450000762939453,23.59000015258789,23.700000762939453,22.649999618530273,21.959999084472656,21.579999923706055,21.649999618530273,20.68000030517578,20.15999984741211,19.489999771118164,19.360000610351562,18.59000015258789,17.149999618530273,16.90999984741211,16.65999984741211,16.90999984741211,14.5,13.989999771118164,13.5600004196167,13.359999656677246,13.5600004196167,13.5,13.109999656677246,13.470000267028809,14.149999618530273,13.779999732971191,14.199999809265137,13.449999809265137,13.199999809265137,13.300000190734863,12.699999809265137,12.319999694824219,13.600000381469727,15.630000114440918,15.4399995803833,15.569999694824219,15.640000343322754,16.5,16.350000381469727,16.889999389648438,16.479999542236328,15.699999809265137,16.280000686645508,16.889999389648438,17.0,16.010000228881836,15.550000190734863,14.850000381469727,15.399999618530273,15.180000305175781,13.930000305175781,13.75,13.829999923706055,14.880000114440918,14.989999771118164,14.100000381469727,14.420000076293945,14.09000015258789,14.90999984741211,13.300000190734863,12.819999694824219,15.619999885559082,14.84000015258789,14.449999809265137,13.460000038146973,14.899999618530273,15.970000267028809,18.1200008392334,18.950000762939453,19.0,17.84000015258789,17.899999618530273,17.190000534057617,16.399999618530273,16.399999618530273,15.65999984741211,15.350000381469727,14.75,15.510000228881836,16.959999084472656,16.489999771118164,16.950000762939453,16.790000915527344,16.0,16.25,17.459999084472656,17.40999984741211,18.020000457763672,16.8700008392334,17.43000030517578,17.860000610351562,17.040000915527344,16.799999237060547,15.899999618530273,17.690000534057617,18.639999389648438,19.950000762939453,19.950000762939453,20.809999465942383,21.229999542236328,20.600000381469727,20.09000015258789,19.260000228881836,17.829999923706055,18.049999237060547,17.350000381469727,16.350000381469727,14.0,14.359999656677246,14.600000381469727,14.489999771118164,13.899999618530273,14.289999961853027,15.0,15.569999694824219,15.520000457763672,16.90999984741211,16.59000015258789,15.100000381469727,14.630000114440918,13.1899995803833,12.489999771118164,12.359999656677246,12.649999618530273,11.050000190734863,11.199999809265137,10.75,11.0600004196167,10.600000381469727,10.289999961853027,11.0,10.949999809265137,10.069999694824219,10.270000457763672,10.460000038146973,9.850000381469727,9.619999885559082,9.149999618530273,9.0,9.0,8.770000457763672,8.210000038146973,8.520000457763672,8.279999732971191,7.989999771118164,7.96999979019165,7.389999866485596,8.119999885559082,9.0,8.770000457763672,9.1899995803833,9.210000038146973,9.380000114440918,9.220000267028809,9.720000267028809,9.470000267028809,9.079999923706055,8.649999618530273,8.800000190734863,9.699999809265137,10.199999809265137,10.989999771118164,11.989999771118164,2.799999952316284,2.75,2.4000000953674316,1.9700000286102295,2.0,1.4800000190734863,0.9900000095367432,0.8500000238418579,0.800000011920929,0.8500000238418579,0.949999988079071,1.0499999523162842,1.309999942779541,1.6100000143051147,1.9700000286102295,2.049999952316284,1.5800000429153442,1.8200000524520874,1.7699999809265137,1.399999976158142,1.0199999809265137,1.0499999523162842,1.159999966621399,1.1399999856948853,1.1200000047683716,1.190000057220459,1.2100000381469727,1.159999966621399,1.1200000047683716],\"x\":[\"2022-02-23T00:00:00\",\"2022-02-24T00:00:00\",\"2022-02-25T00:00:00\",\"2022-03-02T00:00:00\",\"2022-03-03T00:00:00\",\"2022-03-04T00:00:00\",\"2022-03-07T00:00:00\",\"2022-03-08T00:00:00\",\"2022-03-09T00:00:00\",\"2022-03-10T00:00:00\",\"2022-03-11T00:00:00\",\"2022-03-14T00:00:00\",\"2022-03-15T00:00:00\",\"2022-03-16T00:00:00\",\"2022-03-17T00:00:00\",\"2022-03-18T00:00:00\",\"2022-03-21T00:00:00\",\"2022-03-22T00:00:00\",\"2022-03-23T00:00:00\",\"2022-03-24T00:00:00\",\"2022-03-25T00:00:00\",\"2022-03-28T00:00:00\",\"2022-03-29T00:00:00\",\"2022-03-30T00:00:00\",\"2022-03-31T00:00:00\",\"2022-04-01T00:00:00\",\"2022-04-04T00:00:00\",\"2022-04-05T00:00:00\",\"2022-04-06T00:00:00\",\"2022-04-07T00:00:00\",\"2022-04-08T00:00:00\",\"2022-04-11T00:00:00\",\"2022-04-12T00:00:00\",\"2022-04-13T00:00:00\",\"2022-04-14T00:00:00\",\"2022-04-18T00:00:00\",\"2022-04-19T00:00:00\",\"2022-04-20T00:00:00\",\"2022-04-22T00:00:00\",\"2022-04-25T00:00:00\",\"2022-04-26T00:00:00\",\"2022-04-27T00:00:00\",\"2022-04-28T00:00:00\",\"2022-04-29T00:00:00\",\"2022-05-02T00:00:00\",\"2022-05-03T00:00:00\",\"2022-05-04T00:00:00\",\"2022-05-05T00:00:00\",\"2022-05-06T00:00:00\",\"2022-05-09T00:00:00\",\"2022-05-10T00:00:00\",\"2022-05-11T00:00:00\",\"2022-05-12T00:00:00\",\"2022-05-13T00:00:00\",\"2022-05-16T00:00:00\",\"2022-05-17T00:00:00\",\"2022-05-18T00:00:00\",\"2022-05-19T00:00:00\",\"2022-05-20T00:00:00\",\"2022-05-23T00:00:00\",\"2022-05-24T00:00:00\",\"2022-05-25T00:00:00\",\"2022-05-26T00:00:00\",\"2022-05-27T00:00:00\",\"2022-05-30T00:00:00\",\"2022-05-31T00:00:00\",\"2022-06-01T00:00:00\",\"2022-06-02T00:00:00\",\"2022-06-03T00:00:00\",\"2022-06-06T00:00:00\",\"2022-06-07T00:00:00\",\"2022-06-08T00:00:00\",\"2022-06-09T00:00:00\",\"2022-06-10T00:00:00\",\"2022-06-13T00:00:00\",\"2022-06-14T00:00:00\",\"2022-06-15T00:00:00\",\"2022-06-17T00:00:00\",\"2022-06-20T00:00:00\",\"2022-06-21T00:00:00\",\"2022-06-22T00:00:00\",\"2022-06-23T00:00:00\",\"2022-06-24T00:00:00\",\"2022-06-27T00:00:00\",\"2022-06-28T00:00:00\",\"2022-06-29T00:00:00\",\"2022-06-30T00:00:00\",\"2022-07-01T00:00:00\",\"2022-07-04T00:00:00\",\"2022-07-05T00:00:00\",\"2022-07-06T00:00:00\",\"2022-07-07T00:00:00\",\"2022-07-08T00:00:00\",\"2022-07-11T00:00:00\",\"2022-07-12T00:00:00\",\"2022-07-13T00:00:00\",\"2022-07-14T00:00:00\",\"2022-07-15T00:00:00\",\"2022-07-18T00:00:00\",\"2022-07-19T00:00:00\",\"2022-07-20T00:00:00\",\"2022-07-21T00:00:00\",\"2022-07-22T00:00:00\",\"2022-07-25T00:00:00\",\"2022-07-26T00:00:00\",\"2022-07-27T00:00:00\",\"2022-07-28T00:00:00\",\"2022-07-29T00:00:00\",\"2022-08-01T00:00:00\",\"2022-08-02T00:00:00\",\"2022-08-03T00:00:00\",\"2022-08-04T00:00:00\",\"2022-08-05T00:00:00\",\"2022-08-08T00:00:00\",\"2022-08-09T00:00:00\",\"2022-08-10T00:00:00\",\"2022-08-11T00:00:00\",\"2022-08-12T00:00:00\",\"2022-08-15T00:00:00\",\"2022-08-16T00:00:00\",\"2022-08-17T00:00:00\",\"2022-08-18T00:00:00\",\"2022-08-19T00:00:00\",\"2022-08-22T00:00:00\",\"2022-08-23T00:00:00\",\"2022-08-24T00:00:00\",\"2022-08-25T00:00:00\",\"2022-08-26T00:00:00\",\"2022-08-29T00:00:00\",\"2022-08-30T00:00:00\",\"2022-08-31T00:00:00\",\"2022-09-01T00:00:00\",\"2022-09-02T00:00:00\",\"2022-09-05T00:00:00\",\"2022-09-06T00:00:00\",\"2022-09-08T00:00:00\",\"2022-09-09T00:00:00\",\"2022-09-12T00:00:00\",\"2022-09-13T00:00:00\",\"2022-09-14T00:00:00\",\"2022-09-15T00:00:00\",\"2022-09-16T00:00:00\",\"2022-09-19T00:00:00\",\"2022-09-20T00:00:00\",\"2022-09-21T00:00:00\",\"2022-09-22T00:00:00\",\"2022-09-23T00:00:00\",\"2022-09-26T00:00:00\",\"2022-09-27T00:00:00\",\"2022-09-28T00:00:00\",\"2022-09-29T00:00:00\",\"2022-09-30T00:00:00\",\"2022-10-03T00:00:00\",\"2022-10-04T00:00:00\",\"2022-10-05T00:00:00\",\"2022-10-06T00:00:00\",\"2022-10-07T00:00:00\",\"2022-10-10T00:00:00\",\"2022-10-11T00:00:00\",\"2022-10-13T00:00:00\",\"2022-10-14T00:00:00\",\"2022-10-17T00:00:00\",\"2022-10-18T00:00:00\",\"2022-10-19T00:00:00\",\"2022-10-20T00:00:00\",\"2022-10-21T00:00:00\",\"2022-10-24T00:00:00\",\"2022-10-25T00:00:00\",\"2022-10-26T00:00:00\",\"2022-10-27T00:00:00\",\"2022-10-28T00:00:00\",\"2022-10-31T00:00:00\",\"2022-11-01T00:00:00\",\"2022-11-03T00:00:00\",\"2022-11-04T00:00:00\",\"2022-11-07T00:00:00\",\"2022-11-08T00:00:00\",\"2022-11-09T00:00:00\",\"2022-11-10T00:00:00\",\"2022-11-11T00:00:00\",\"2022-11-14T00:00:00\",\"2022-11-16T00:00:00\",\"2022-11-17T00:00:00\",\"2022-11-18T00:00:00\",\"2022-11-21T00:00:00\",\"2022-11-22T00:00:00\",\"2022-11-23T00:00:00\",\"2022-11-24T00:00:00\",\"2022-11-25T00:00:00\",\"2022-11-28T00:00:00\",\"2022-11-29T00:00:00\",\"2022-11-30T00:00:00\",\"2022-12-01T00:00:00\",\"2022-12-02T00:00:00\",\"2022-12-05T00:00:00\",\"2022-12-06T00:00:00\",\"2022-12-07T00:00:00\",\"2022-12-08T00:00:00\",\"2022-12-09T00:00:00\",\"2022-12-12T00:00:00\",\"2022-12-13T00:00:00\",\"2022-12-14T00:00:00\",\"2022-12-15T00:00:00\",\"2022-12-16T00:00:00\",\"2022-12-19T00:00:00\",\"2022-12-20T00:00:00\",\"2022-12-21T00:00:00\",\"2022-12-22T00:00:00\",\"2022-12-23T00:00:00\",\"2022-12-26T00:00:00\",\"2022-12-27T00:00:00\",\"2022-12-28T00:00:00\",\"2022-12-29T00:00:00\",\"2023-01-02T00:00:00\",\"2023-01-03T00:00:00\",\"2023-01-04T00:00:00\",\"2023-01-05T00:00:00\",\"2023-01-06T00:00:00\",\"2023-01-09T00:00:00\",\"2023-01-10T00:00:00\",\"2023-01-11T00:00:00\",\"2023-01-12T00:00:00\",\"2023-01-13T00:00:00\",\"2023-01-16T00:00:00\",\"2023-01-17T00:00:00\",\"2023-01-18T00:00:00\",\"2023-01-19T00:00:00\",\"2023-01-20T00:00:00\",\"2023-01-23T00:00:00\",\"2023-01-24T00:00:00\",\"2023-01-25T00:00:00\",\"2023-01-26T00:00:00\",\"2023-01-27T00:00:00\",\"2023-01-30T00:00:00\",\"2023-01-31T00:00:00\",\"2023-02-01T00:00:00\",\"2023-02-02T00:00:00\",\"2023-02-03T00:00:00\",\"2023-02-06T00:00:00\",\"2023-02-07T00:00:00\",\"2023-02-08T00:00:00\",\"2023-02-09T00:00:00\",\"2023-02-10T00:00:00\",\"2023-02-13T00:00:00\",\"2023-02-14T00:00:00\",\"2023-02-15T00:00:00\",\"2023-02-16T00:00:00\",\"2023-02-17T00:00:00\",\"2023-02-22T00:00:00\",\"2023-02-23T00:00:00\"],\"type\":\"candlestick\"}],                        {\"template\":{\"data\":{\"bar\":[{\"error_x\":{\"color\":\"#2a3f5f\"},\"error_y\":{\"color\":\"#2a3f5f\"},\"marker\":{\"line\":{\"color\":\"#E5ECF6\",\"width\":0.5},\"pattern\":{\"fillmode\":\"overlay\",\"size\":10,\"solidity\":0.2}},\"type\":\"bar\"}],\"barpolar\":[{\"marker\":{\"line\":{\"color\":\"#E5ECF6\",\"width\":0.5},\"pattern\":{\"fillmode\":\"overlay\",\"size\":10,\"solidity\":0.2}},\"type\":\"barpolar\"}],\"carpet\":[{\"aaxis\":{\"endlinecolor\":\"#2a3f5f\",\"gridcolor\":\"white\",\"linecolor\":\"white\",\"minorgridcolor\":\"white\",\"startlinecolor\":\"#2a3f5f\"},\"baxis\":{\"endlinecolor\":\"#2a3f5f\",\"gridcolor\":\"white\",\"linecolor\":\"white\",\"minorgridcolor\":\"white\",\"startlinecolor\":\"#2a3f5f\"},\"type\":\"carpet\"}],\"choropleth\":[{\"colorbar\":{\"outlinewidth\":0,\"ticks\":\"\"},\"type\":\"choropleth\"}],\"contour\":[{\"colorbar\":{\"outlinewidth\":0,\"ticks\":\"\"},\"colorscale\":[[0.0,\"#0d0887\"],[0.1111111111111111,\"#46039f\"],[0.2222222222222222,\"#7201a8\"],[0.3333333333333333,\"#9c179e\"],[0.4444444444444444,\"#bd3786\"],[0.5555555555555556,\"#d8576b\"],[0.6666666666666666,\"#ed7953\"],[0.7777777777777778,\"#fb9f3a\"],[0.8888888888888888,\"#fdca26\"],[1.0,\"#f0f921\"]],\"type\":\"contour\"}],\"contourcarpet\":[{\"colorbar\":{\"outlinewidth\":0,\"ticks\":\"\"},\"type\":\"contourcarpet\"}],\"heatmap\":[{\"colorbar\":{\"outlinewidth\":0,\"ticks\":\"\"},\"colorscale\":[[0.0,\"#0d0887\"],[0.1111111111111111,\"#46039f\"],[0.2222222222222222,\"#7201a8\"],[0.3333333333333333,\"#9c179e\"],[0.4444444444444444,\"#bd3786\"],[0.5555555555555556,\"#d8576b\"],[0.6666666666666666,\"#ed7953\"],[0.7777777777777778,\"#fb9f3a\"],[0.8888888888888888,\"#fdca26\"],[1.0,\"#f0f921\"]],\"type\":\"heatmap\"}],\"heatmapgl\":[{\"colorbar\":{\"outlinewidth\":0,\"ticks\":\"\"},\"colorscale\":[[0.0,\"#0d0887\"],[0.1111111111111111,\"#46039f\"],[0.2222222222222222,\"#7201a8\"],[0.3333333333333333,\"#9c179e\"],[0.4444444444444444,\"#bd3786\"],[0.5555555555555556,\"#d8576b\"],[0.6666666666666666,\"#ed7953\"],[0.7777777777777778,\"#fb9f3a\"],[0.8888888888888888,\"#fdca26\"],[1.0,\"#f0f921\"]],\"type\":\"heatmapgl\"}],\"histogram\":[{\"marker\":{\"pattern\":{\"fillmode\":\"overlay\",\"size\":10,\"solidity\":0.2}},\"type\":\"histogram\"}],\"histogram2d\":[{\"colorbar\":{\"outlinewidth\":0,\"ticks\":\"\"},\"colorscale\":[[0.0,\"#0d0887\"],[0.1111111111111111,\"#46039f\"],[0.2222222222222222,\"#7201a8\"],[0.3333333333333333,\"#9c179e\"],[0.4444444444444444,\"#bd3786\"],[0.5555555555555556,\"#d8576b\"],[0.6666666666666666,\"#ed7953\"],[0.7777777777777778,\"#fb9f3a\"],[0.8888888888888888,\"#fdca26\"],[1.0,\"#f0f921\"]],\"type\":\"histogram2d\"}],\"histogram2dcontour\":[{\"colorbar\":{\"outlinewidth\":0,\"ticks\":\"\"},\"colorscale\":[[0.0,\"#0d0887\"],[0.1111111111111111,\"#46039f\"],[0.2222222222222222,\"#7201a8\"],[0.3333333333333333,\"#9c179e\"],[0.4444444444444444,\"#bd3786\"],[0.5555555555555556,\"#d8576b\"],[0.6666666666666666,\"#ed7953\"],[0.7777777777777778,\"#fb9f3a\"],[0.8888888888888888,\"#fdca26\"],[1.0,\"#f0f921\"]],\"type\":\"histogram2dcontour\"}],\"mesh3d\":[{\"colorbar\":{\"outlinewidth\":0,\"ticks\":\"\"},\"type\":\"mesh3d\"}],\"parcoords\":[{\"line\":{\"colorbar\":{\"outlinewidth\":0,\"ticks\":\"\"}},\"type\":\"parcoords\"}],\"pie\":[{\"automargin\":true,\"type\":\"pie\"}],\"scatter\":[{\"marker\":{\"colorbar\":{\"outlinewidth\":0,\"ticks\":\"\"}},\"type\":\"scatter\"}],\"scatter3d\":[{\"line\":{\"colorbar\":{\"outlinewidth\":0,\"ticks\":\"\"}},\"marker\":{\"colorbar\":{\"outlinewidth\":0,\"ticks\":\"\"}},\"type\":\"scatter3d\"}],\"scattercarpet\":[{\"marker\":{\"colorbar\":{\"outlinewidth\":0,\"ticks\":\"\"}},\"type\":\"scattercarpet\"}],\"scattergeo\":[{\"marker\":{\"colorbar\":{\"outlinewidth\":0,\"ticks\":\"\"}},\"type\":\"scattergeo\"}],\"scattergl\":[{\"marker\":{\"colorbar\":{\"outlinewidth\":0,\"ticks\":\"\"}},\"type\":\"scattergl\"}],\"scattermapbox\":[{\"marker\":{\"colorbar\":{\"outlinewidth\":0,\"ticks\":\"\"}},\"type\":\"scattermapbox\"}],\"scatterpolar\":[{\"marker\":{\"colorbar\":{\"outlinewidth\":0,\"ticks\":\"\"}},\"type\":\"scatterpolar\"}],\"scatterpolargl\":[{\"marker\":{\"colorbar\":{\"outlinewidth\":0,\"ticks\":\"\"}},\"type\":\"scatterpolargl\"}],\"scatterternary\":[{\"marker\":{\"colorbar\":{\"outlinewidth\":0,\"ticks\":\"\"}},\"type\":\"scatterternary\"}],\"surface\":[{\"colorbar\":{\"outlinewidth\":0,\"ticks\":\"\"},\"colorscale\":[[0.0,\"#0d0887\"],[0.1111111111111111,\"#46039f\"],[0.2222222222222222,\"#7201a8\"],[0.3333333333333333,\"#9c179e\"],[0.4444444444444444,\"#bd3786\"],[0.5555555555555556,\"#d8576b\"],[0.6666666666666666,\"#ed7953\"],[0.7777777777777778,\"#fb9f3a\"],[0.8888888888888888,\"#fdca26\"],[1.0,\"#f0f921\"]],\"type\":\"surface\"}],\"table\":[{\"cells\":{\"fill\":{\"color\":\"#EBF0F8\"},\"line\":{\"color\":\"white\"}},\"header\":{\"fill\":{\"color\":\"#C8D4E3\"},\"line\":{\"color\":\"white\"}},\"type\":\"table\"}]},\"layout\":{\"annotationdefaults\":{\"arrowcolor\":\"#2a3f5f\",\"arrowhead\":0,\"arrowwidth\":1},\"autotypenumbers\":\"strict\",\"coloraxis\":{\"colorbar\":{\"outlinewidth\":0,\"ticks\":\"\"}},\"colorscale\":{\"diverging\":[[0,\"#8e0152\"],[0.1,\"#c51b7d\"],[0.2,\"#de77ae\"],[0.3,\"#f1b6da\"],[0.4,\"#fde0ef\"],[0.5,\"#f7f7f7\"],[0.6,\"#e6f5d0\"],[0.7,\"#b8e186\"],[0.8,\"#7fbc41\"],[0.9,\"#4d9221\"],[1,\"#276419\"]],\"sequential\":[[0.0,\"#0d0887\"],[0.1111111111111111,\"#46039f\"],[0.2222222222222222,\"#7201a8\"],[0.3333333333333333,\"#9c179e\"],[0.4444444444444444,\"#bd3786\"],[0.5555555555555556,\"#d8576b\"],[0.6666666666666666,\"#ed7953\"],[0.7777777777777778,\"#fb9f3a\"],[0.8888888888888888,\"#fdca26\"],[1.0,\"#f0f921\"]],\"sequentialminus\":[[0.0,\"#0d0887\"],[0.1111111111111111,\"#46039f\"],[0.2222222222222222,\"#7201a8\"],[0.3333333333333333,\"#9c179e\"],[0.4444444444444444,\"#bd3786\"],[0.5555555555555556,\"#d8576b\"],[0.6666666666666666,\"#ed7953\"],[0.7777777777777778,\"#fb9f3a\"],[0.8888888888888888,\"#fdca26\"],[1.0,\"#f0f921\"]]},\"colorway\":[\"#636efa\",\"#EF553B\",\"#00cc96\",\"#ab63fa\",\"#FFA15A\",\"#19d3f3\",\"#FF6692\",\"#B6E880\",\"#FF97FF\",\"#FECB52\"],\"font\":{\"color\":\"#2a3f5f\"},\"geo\":{\"bgcolor\":\"white\",\"lakecolor\":\"white\",\"landcolor\":\"#E5ECF6\",\"showlakes\":true,\"showland\":true,\"subunitcolor\":\"white\"},\"hoverlabel\":{\"align\":\"left\"},\"hovermode\":\"closest\",\"mapbox\":{\"style\":\"light\"},\"paper_bgcolor\":\"white\",\"plot_bgcolor\":\"#E5ECF6\",\"polar\":{\"angularaxis\":{\"gridcolor\":\"white\",\"linecolor\":\"white\",\"ticks\":\"\"},\"bgcolor\":\"#E5ECF6\",\"radialaxis\":{\"gridcolor\":\"white\",\"linecolor\":\"white\",\"ticks\":\"\"}},\"scene\":{\"xaxis\":{\"backgroundcolor\":\"#E5ECF6\",\"gridcolor\":\"white\",\"gridwidth\":2,\"linecolor\":\"white\",\"showbackground\":true,\"ticks\":\"\",\"zerolinecolor\":\"white\"},\"yaxis\":{\"backgroundcolor\":\"#E5ECF6\",\"gridcolor\":\"white\",\"gridwidth\":2,\"linecolor\":\"white\",\"showbackground\":true,\"ticks\":\"\",\"zerolinecolor\":\"white\"},\"zaxis\":{\"backgroundcolor\":\"#E5ECF6\",\"gridcolor\":\"white\",\"gridwidth\":2,\"linecolor\":\"white\",\"showbackground\":true,\"ticks\":\"\",\"zerolinecolor\":\"white\"}},\"shapedefaults\":{\"line\":{\"color\":\"#2a3f5f\"}},\"ternary\":{\"aaxis\":{\"gridcolor\":\"white\",\"linecolor\":\"white\",\"ticks\":\"\"},\"baxis\":{\"gridcolor\":\"white\",\"linecolor\":\"white\",\"ticks\":\"\"},\"bgcolor\":\"#E5ECF6\",\"caxis\":{\"gridcolor\":\"white\",\"linecolor\":\"white\",\"ticks\":\"\"}},\"title\":{\"x\":0.05},\"xaxis\":{\"automargin\":true,\"gridcolor\":\"white\",\"linecolor\":\"white\",\"ticks\":\"\",\"title\":{\"standoff\":15},\"zerolinecolor\":\"white\",\"zerolinewidth\":2},\"yaxis\":{\"automargin\":true,\"gridcolor\":\"white\",\"linecolor\":\"white\",\"ticks\":\"\",\"title\":{\"standoff\":15},\"zerolinecolor\":\"white\",\"zerolinewidth\":2}}},\"xaxis\":{\"rangeslider\":{\"visible\":false},\"title\":{\"text\":\"Periodo\"}},\"title\":{\"text\":\"An\\u00e1lise Fechamento\"},\"yaxis\":{\"title\":{\"text\":\"Pre\\u00e7o de Fechamento\"}}},                        {\"responsive\": true}                    ).then(function(){\n",
              "                            \n",
              "var gd = document.getElementById('d7282d33-d73e-484f-9171-b0bdf8563b93');\n",
              "var x = new MutationObserver(function (mutations, observer) {{\n",
              "        var display = window.getComputedStyle(gd).display;\n",
              "        if (!display || display === 'none') {{\n",
              "            console.log([gd, 'removed!']);\n",
              "            Plotly.purge(gd);\n",
              "            observer.disconnect();\n",
              "        }}\n",
              "}});\n",
              "\n",
              "// Listen for the removal of the full notebook cells\n",
              "var notebookContainer = gd.closest('#notebook-container');\n",
              "if (notebookContainer) {{\n",
              "    x.observe(notebookContainer, {childList: true});\n",
              "}}\n",
              "\n",
              "// Listen for the clearing of the current output cell\n",
              "var outputEl = gd.closest('.output');\n",
              "if (outputEl) {{\n",
              "    x.observe(outputEl, {childList: true});\n",
              "}}\n",
              "\n",
              "                        })                };                            </script>        </div>\n",
              "</body>\n",
              "</html>"
            ]
          },
          "metadata": {}
        }
      ]
    },
    {
      "cell_type": "markdown",
      "source": [
        "# Customizando o Relatório\n",
        "\n"
      ],
      "metadata": {
        "id": "oDtaNo-Lx8Pf"
      }
    },
    {
      "cell_type": "code",
      "source": [
        "# Criar a Figura\n",
        "Figura = make_subplots(\n",
        "    rows=2,\n",
        "    cols=1,\n",
        "    specs=[\n",
        "        [{'type':'scatter'}],\n",
        "        [{'type':'scatter'}]\n",
        "    ],\n",
        "    vertical_spacing=0.075,\n",
        "    shared_xaxes=True,\n",
        "    subplot_titles=('Cotação', 'Fechamento')\n",
        ")\n",
        "\n",
        "# Layout e Dimensão\n",
        "Figura.update_layout(\n",
        "    width=1000,\n",
        "    height=800,\n",
        "    title_text='<b>Análise de Mercado</b> <br>Americanas SA.'\n",
        ")\n",
        "\n",
        "# Adicionado um gráfico na 1º Posição\n",
        "Figura.add_trace(\n",
        "    go.Candlestick(\n",
        "        x=dados.index,\n",
        "        open=dados['Open'],\n",
        "        high=dados['High'],\n",
        "        low=dados['Low'],\n",
        "        close=dados['Close'],\n",
        "        increasing_line_color='red',\n",
        "        decreasing_line_color='green'\n",
        "    ),\n",
        "    row=1, col=1\n",
        ")\n",
        "\n",
        "Figura.add_trace(\n",
        "    go.Scatter(\n",
        "        x=dados.index,\n",
        "        y=dados['Media Movel'],\n",
        "        mode='lines',\n",
        "        name='Média Móvel',\n",
        "        line=dict(color='yellow')\n",
        "    ),\n",
        "    row=1, col=1\n",
        ")\n",
        "\n",
        "Figura.update_layout(\n",
        "    xaxis_rangeslider_visible=False\n",
        ")\n",
        "\n",
        "# Adicionado um gráfico na 2º Posição\n",
        "Figura.add_trace(\n",
        "    go.Scatter(\n",
        "        x=dados.index,\n",
        "        y=dados['Close'],\n",
        "        mode='lines',\n",
        "        name='Fechamento',\n",
        "        line=dict(color='green')\n",
        "    ),\n",
        "    row=2, col=1\n",
        ")\n",
        "\n",
        "Figura.add_trace(\n",
        "    go.Scatter(\n",
        "        x=dados.index,\n",
        "        y=dados['Media Movel'],\n",
        "        mode='lines',\n",
        "        name='Média Móvel',\n",
        "        line=dict(color='red')\n",
        "    ),\n",
        "    row=2, col=1\n",
        ")\n",
        "\n",
        "Figura.update_layout(\n",
        "    legend=dict(\n",
        "        orientation='h',\n",
        "        yanchor='bottom',\n",
        "        y=1.02,\n",
        "        xanchor='right',\n",
        "        x=1,\n",
        "        font=dict( size=10) \n",
        "    )\n",
        ")\n",
        "\n",
        "Figura.add_annotation(\n",
        "    showarrow=False,\n",
        "    text='Análise feita utilizando o Python',\n",
        "    font=dict(size=14),\n",
        "    xref='x domain',\n",
        "    x=1,\n",
        "    yref='y domain',\n",
        "    y=-1.4\n",
        ")\n",
        "\n",
        "Figura.add_annotation(\n",
        "    showarrow=False,\n",
        "    text='BY: @camihshm - Camila da Silva Monteiro',\n",
        "    font=dict(size=14),\n",
        "    xref='x domain',\n",
        "    x=0,\n",
        "    yref='y domain',\n",
        "    y=-1.4\n",
        ")\n",
        "\n",
        "Figura.show()"
      ],
      "metadata": {
        "colab": {
          "base_uri": "https://localhost:8080/",
          "height": 817
        },
        "id": "PnY1ClwCx_NI",
        "outputId": "2fd5ab64-1114-4614-8e0b-c32f127cc945"
      },
      "execution_count": 19,
      "outputs": [
        {
          "output_type": "display_data",
          "data": {
            "text/html": [
              "<html>\n",
              "<head><meta charset=\"utf-8\" /></head>\n",
              "<body>\n",
              "    <div>            <script src=\"https://cdnjs.cloudflare.com/ajax/libs/mathjax/2.7.5/MathJax.js?config=TeX-AMS-MML_SVG\"></script><script type=\"text/javascript\">if (window.MathJax) {MathJax.Hub.Config({SVG: {font: \"STIX-Web\"}});}</script>                <script type=\"text/javascript\">window.PlotlyConfig = {MathJaxConfig: 'local'};</script>\n",
              "        <script src=\"https://cdn.plot.ly/plotly-2.8.3.min.js\"></script>                <div id=\"69d886ab-2af0-41ae-a0c2-945eb333ee78\" class=\"plotly-graph-div\" style=\"height:800px; width:1000px;\"></div>            <script type=\"text/javascript\">                                    window.PLOTLYENV=window.PLOTLYENV || {};                                    if (document.getElementById(\"69d886ab-2af0-41ae-a0c2-945eb333ee78\")) {                    Plotly.newPlot(                        \"69d886ab-2af0-41ae-a0c2-945eb333ee78\",                        [{\"close\":[29.690000534057617,30.200000762939453,30.5,32.45000076293945,31.100000381469727,30.09000015258789,27.010000228881836,26.93000030517578,27.510000228881836,26.700000762939453,24.8799991607666,23.850000381469727,23.25,24.40999984741211,24.6299991607666,26.959999084472656,26.549999237060547,28.31999969482422,28.670000076293945,30.399999618530273,32.279998779296875,31.959999084472656,34.650001525878906,34.54999923706055,32.650001525878906,34.0,33.400001525878906,31.309999465942383,30.25,30.969999313354492,28.579999923706055,28.100000381469727,28.700000762939453,29.239999771118164,28.149999618530273,28.360000610351562,28.010000228881836,27.239999771118164,26.670000076293945,26.389999389648438,25.040000915527344,25.020000457763672,25.209999084472656,24.0,24.010000228881836,23.329999923706055,25.09000015258789,23.290000915527344,22.3799991607666,20.860000610351562,21.43000030517578,21.600000381469727,22.670000076293945,23.049999237060547,23.65999984741211,23.020000457763672,22.950000762939453,23.09000015258789,23.469999313354492,24.06999969482422,22.8799991607666,21.889999389648438,21.5,21.489999771118164,20.700000762939453,20.100000381469727,19.34000015258789,19.540000915527344,18.399999618530273,17.5,17.079999923706055,16.690000534057617,17.030000686645508,15.220000267028809,13.890000343322754,13.300000190734863,13.920000076293945,13.529999732971191,13.319999694824219,13.369999885559082,13.34000015258789,13.930000305175781,13.729999542236328,14.029999732971191,13.420000076293945,13.4399995803833,13.430000305175781,12.729999542236328,12.539999961853027,13.760000228881836,15.380000114440918,15.5,15.800000190734863,15.609999656677246,16.899999618530273,16.65999984741211,16.68000030517578,16.31999969482422,15.739999771118164,16.190000534057617,16.920000076293945,16.93000030517578,15.930000305175781,15.569999694824219,14.8100004196167,15.460000038146973,15.09000015258789,14.0,13.890000343322754,13.760000228881836,14.739999771118164,15.079999923706055,13.899999618530273,14.239999771118164,13.619999885559082,14.65999984741211,13.279999732971191,12.960000038146973,15.329999923706055,15.170000076293945,14.239999771118164,13.630000114440918,13.029999732971191,15.960000038146973,18.5,18.43000030517578,18.790000915527344,18.100000381469727,17.510000228881836,17.040000915527344,16.34000015258789,16.18000030517578,15.510000228881836,15.449999809265137,14.640000343322754,15.149999618530273,16.559999465942383,17.290000915527344,17.059999465942383,16.739999771118164,16.1200008392334,16.510000228881836,17.420000076293945,17.389999389648438,17.510000228881836,17.239999771118164,17.530000686645508,17.479999542236328,16.989999771118164,17.139999389648438,15.869999885559082,16.979999542236328,18.229999542236328,19.329999923706055,19.8700008392334,20.81999969482422,21.100000381469727,20.68000030517578,20.559999465942383,19.049999237060547,17.440000534057617,17.649999618530273,17.610000610351562,16.40999984741211,14.270000457763672,14.529999732971191,14.640000343322754,14.670000076293945,13.8100004196167,14.460000038146973,15.15999984741211,15.539999961853027,15.899999618530273,16.520000457763672,16.670000076293945,15.170000076293945,15.170000076293945,13.890000343322754,12.640000343322754,12.210000038146973,12.539999961853027,11.3100004196167,10.90999984741211,10.380000114440918,11.0600004196167,10.640000343322754,10.069999694824219,11.180000305175781,10.949999809265137,9.890000343322754,10.239999771118164,10.5600004196167,9.829999923706055,9.670000076293945,9.0,9.069999694824219,8.979999542236328,8.600000381469727,8.369999885559082,8.449999809265137,8.380000114440918,8.140000343322754,7.980000019073486,7.349999904632568,8.279999732971191,8.760000228881836,8.819999694824219,9.0600004196167,9.180000305175781,9.34000015258789,9.15999984741211,9.720000267028809,9.649999618530273,9.029999732971191,8.520000457763672,8.729999542236328,9.6899995803833,10.40999984741211,11.079999923706055,11.90999984741211,12.0,2.7200000286102295,3.1500000953674316,1.940000057220459,1.899999976158142,1.7400000095367432,1.0,0.7099999785423279,0.800000011920929,0.800000011920929,0.9399999976158142,1.0299999713897705,1.2000000476837158,1.4500000476837158,1.75,2.0899999141693115,1.6799999475479126,1.6299999952316284,1.7300000190734863,1.3600000143051147,1.0700000524520874,0.9900000095367432,1.100000023841858,1.1299999952316284,1.1100000143051147,1.1299999952316284,1.2200000286102295,1.1699999570846558,1.1100000143051147,1.1100000143051147],\"decreasing\":{\"line\":{\"color\":\"green\"}},\"high\":[32.2400016784668,30.610000610351562,30.56999969482422,32.75,32.86000061035156,31.68000030517578,29.940000534057617,28.0,28.399999618530273,27.540000915527344,27.6299991607666,25.18000030517578,24.260000228881836,24.559999465942383,24.8799991607666,27.09000015258789,27.270000457763672,28.459999084472656,28.780000686645508,30.5,32.90999984741211,32.52000045776367,35.20000076293945,35.25,34.88999938964844,34.22999954223633,34.5,34.189998626708984,30.8700008392334,31.450000762939453,30.700000762939453,28.940000534057617,29.899999618530273,30.299999237060547,29.31999969482422,28.729999542236328,28.549999237060547,28.450000762939453,27.420000076293945,27.059999465942383,26.479999542236328,26.889999389648438,25.93000030517578,25.969999313354492,24.209999084472656,24.149999618530273,25.219999313354492,24.43000030517578,23.399999618530273,22.110000610351562,22.030000686645508,22.1299991607666,23.260000228881836,24.6200008392334,23.959999084472656,24.25,23.5,23.59000015258789,23.670000076293945,24.229999542236328,23.780000686645508,22.729999542236328,22.399999618530273,22.0,22.15999984741211,21.290000915527344,20.209999084472656,19.8799991607666,19.3700008392334,18.649999618530273,17.3799991607666,17.290000915527344,17.469999313354492,17.309999465942383,14.640000343322754,14.119999885559082,14.229999542236328,13.850000381469727,14.0,14.039999961853027,13.75,14.220000267028809,14.270000457763672,14.180000305175781,14.449999809265137,13.770000457763672,13.670000076293945,13.329999923706055,13.029999732971191,13.84000015258789,15.470000267028809,15.800000190734863,15.9399995803833,15.90999984741211,17.549999237060547,17.139999389648438,17.329999923706055,16.940000534057617,17.06999969482422,16.459999084472656,17.31999969482422,17.15999984741211,17.200000762939453,16.290000915527344,15.550000190734863,15.489999771118164,15.579999923706055,15.180000305175781,14.279999732971191,14.039999961853027,14.760000228881836,15.649999618530273,15.1899995803833,14.880000114440918,14.510000228881836,14.829999923706055,14.920000076293945,13.479999542236328,15.489999771118164,15.9399995803833,15.479999542236328,14.5,13.460000038146973,15.960000038146973,18.799999237060547,20.309999465942383,19.5,19.09000015258789,18.510000228881836,18.079999923706055,17.34000015258789,16.6299991607666,16.579999923706055,15.800000190734863,15.350000381469727,15.380000114440918,16.700000762939453,17.360000610351562,17.549999237060547,17.280000686645508,17.200000762939453,16.690000534057617,17.59000015258789,17.780000686645508,18.09000015258789,18.270000457763672,17.799999237060547,17.950000762939453,18.100000381469727,17.530000686645508,16.889999389648438,17.170000076293945,18.43000030517578,19.489999771118164,20.360000610351562,21.899999618530273,21.799999237060547,21.540000915527344,21.190000534057617,20.09000015258789,19.299999237060547,18.700000762939453,18.15999984741211,17.389999389648438,16.3700008392334,14.949999809265137,14.800000190734863,15.34000015258789,14.59000015258789,14.699999809265137,15.40999984741211,15.779999732971191,16.190000534057617,16.889999389648438,17.1299991607666,16.989999771118164,15.920000076293945,14.630000114440918,13.350000381469727,13.470000267028809,12.850000381469727,12.649999618530273,11.15999984741211,11.640000343322754,11.3100004196167,11.300000190734863,10.630000114440918,11.319999694824219,11.539999961853027,10.949999809265137,10.5,10.569999694824219,10.479999542236328,10.229999542236328,9.65999984741211,9.460000038146973,9.329999923706055,9.09000015258789,8.789999961853027,8.59000015258789,8.920000076293945,8.289999961853027,8.550000190734863,8.079999923706055,8.5600004196167,9.609999656677246,9.039999961853027,9.0600004196167,9.6899995803833,9.380000114440918,9.550000190734863,9.899999618530273,10.029999732971191,9.510000228881836,9.270000457763672,8.800000190734863,9.819999694824219,10.430000305175781,11.210000038146973,12.210000038146973,12.079999923706055,2.950000047683716,4.380000114440918,2.4100000858306885,2.3499999046325684,2.0299999713897705,1.4800000190734863,1.1799999475479126,0.8799999952316284,0.8700000047683716,1.059999942779541,1.0499999523162842,1.2000000476837158,1.6399999856948853,1.75,2.140000104904175,2.0899999141693115,1.8200000524520874,1.840000033378601,1.7799999713897705,1.4199999570846558,1.1699999570846558,1.149999976158142,1.1699999570846558,1.159999966621399,1.190000057220459,1.2699999809265137,1.2300000190734863,1.1699999570846558,1.1699999570846558],\"increasing\":{\"line\":{\"color\":\"red\"}},\"low\":[29.530000686645508,27.510000228881836,29.0,30.100000381469727,31.049999237060547,29.68000030517578,26.90999984741211,26.260000228881836,27.200000762939453,26.110000610351562,24.799999237060547,23.81999969482422,23.09000015258789,23.31999969482422,23.799999237060547,24.15999984741211,26.100000381469727,26.75,27.5,28.170000076293945,30.200000762939453,31.3799991607666,32.7400016784668,33.83000183105469,32.31999969482422,32.95000076293945,33.20000076293945,31.049999237060547,29.010000228881836,29.6200008392334,28.399999618530273,27.540000915527344,28.399999618530273,28.34000015258789,28.010000228881836,27.65999984741211,27.559999465942383,27.049999237060547,26.329999923706055,26.020000457763672,24.75,24.959999084472656,24.43000030517578,23.920000076293945,23.219999313354492,22.969999313354492,22.520000457763672,22.920000076293945,22.290000915527344,20.709999084472656,20.280000686645508,20.920000076293945,21.010000228881836,22.739999771118164,22.200000762939453,23.020000457763672,22.559999465942383,22.75,22.799999237060547,23.239999771118164,22.6299991607666,21.65999984741211,21.489999771118164,21.200000762939453,20.399999618530273,20.09000015258789,19.299999237060547,18.850000381469727,18.399999618530273,17.440000534057617,16.850000381469727,16.649999618530273,16.350000381469727,15.220000267028809,13.84000015258789,13.170000076293945,13.420000076293945,13.119999885559082,13.050000190734863,13.270000457763672,12.75,13.170000076293945,13.449999809265137,13.710000038146973,13.3100004196167,13.15999984741211,12.770000457763672,12.720000267028809,12.390000343322754,12.09000015258789,13.5600004196167,15.15999984741211,15.069999694824219,15.199999809265137,15.369999885559082,16.299999237060547,16.170000076293945,16.299999237060547,15.65999984741211,15.270000457763672,16.219999313354492,16.540000915527344,15.729999542236328,15.470000267028809,14.649999618530273,14.770000457763672,14.75,13.920000076293945,13.579999923706055,13.579999923706055,13.710000038146973,14.880000114440918,13.699999809265137,14.010000228881836,13.210000038146973,13.84000015258789,13.149999618530273,12.609999656677246,12.670000076293945,14.619999885559082,14.140000343322754,13.520000457763672,12.890000343322754,14.850000381469727,15.550000190734863,17.920000076293945,18.3799991607666,17.709999084472656,17.469999313354492,16.149999618530273,16.200000762939453,15.5,15.399999618530273,15.260000228881836,14.239999771118164,14.319999694824219,15.270000457763672,16.510000228881836,16.209999084472656,16.43000030517578,16.09000015258789,15.40999984741211,16.239999771118164,17.09000015258789,17.079999923706055,16.959999084472656,16.84000015258789,17.18000030517578,16.690000534057617,16.649999618530273,15.75,15.600000381469727,17.290000915527344,18.479999542236328,19.280000686645508,19.790000915527344,20.489999771118164,20.549999237060547,20.18000030517578,19.049999237060547,17.34000015258789,17.520000457763672,16.549999237060547,15.960000038146973,14.010000228881836,13.59000015258789,14.050000190734863,14.460000038146973,13.699999809265137,13.800000190734863,14.09000015258789,14.84000015258789,15.199999809265137,15.430000305175781,16.549999237060547,15.170000076293945,14.9399995803833,13.8100004196167,12.520000457763672,11.600000381469727,12.229999542236328,11.140000343322754,10.390000343322754,10.329999923706055,10.430000305175781,10.470000267028809,10.010000228881836,10.239999771118164,10.539999961853027,9.819999694824219,9.609999656677246,10.039999961853027,9.8100004196167,9.5600004196167,8.90999984741211,8.949999809265137,8.9399995803833,8.510000228881836,8.300000190734863,8.079999923706055,8.300000190734863,7.75,7.940000057220459,7.320000171661377,7.369999885559082,8.0,8.199999809265137,8.5,9.069999694824219,8.90999984741211,8.970000267028809,9.15999984741211,9.359999656677246,8.970000267028809,8.399999618530273,8.399999618530273,8.600000381469727,9.579999923706055,10.069999694824219,10.75,11.390000343322754,2.4000000953674316,2.700000047683716,1.7999999523162842,1.8899999856948853,1.7100000381469727,1.0,0.6399999856948853,0.7400000095367432,0.7799999713897705,0.8199999928474426,0.9399999976158142,1.0399999618530273,1.2799999713897705,1.5800000429153442,1.75,1.4900000095367432,1.559999942779541,1.7000000476837158,1.3200000524520874,1.0499999523162842,0.9599999785423279,1.0299999713897705,1.0800000429153442,1.0800000429153442,1.0700000524520874,1.159999966621399,1.149999976158142,1.100000023841858,1.100000023841858],\"open\":[30.149999618530273,28.110000610351562,30.420000076293945,30.5,32.45000076293945,31.1200008392334,29.889999389648438,27.5,27.290000915527344,27.540000915527344,27.049999237060547,24.969999313354492,23.549999237060547,23.420000076293945,24.350000381469727,24.540000915527344,26.690000534057617,26.75,28.149999618530273,28.75,30.200000762939453,32.5,33.0,34.41999816894531,34.65999984741211,32.95000076293945,34.20000076293945,33.25,30.690000534057617,30.270000457763672,30.649999618530273,28.049999237060547,28.829999923706055,29.100000381469727,29.059999465942383,28.170000076293945,28.010000228881836,28.110000610351562,27.0,26.5,26.1200008392334,25.520000457763672,25.309999465942383,25.6200008392334,23.989999771118164,24.149999618530273,23.059999465942383,24.399999618530273,23.290000915527344,21.93000030517578,21.229999542236328,21.0,21.170000076293945,22.93000030517578,23.100000381469727,24.190000534057617,22.940000534057617,22.90999984741211,23.450000762939453,23.59000015258789,23.700000762939453,22.649999618530273,21.959999084472656,21.579999923706055,21.649999618530273,20.68000030517578,20.15999984741211,19.489999771118164,19.360000610351562,18.59000015258789,17.149999618530273,16.90999984741211,16.65999984741211,16.90999984741211,14.5,13.989999771118164,13.5600004196167,13.359999656677246,13.5600004196167,13.5,13.109999656677246,13.470000267028809,14.149999618530273,13.779999732971191,14.199999809265137,13.449999809265137,13.199999809265137,13.300000190734863,12.699999809265137,12.319999694824219,13.600000381469727,15.630000114440918,15.4399995803833,15.569999694824219,15.640000343322754,16.5,16.350000381469727,16.889999389648438,16.479999542236328,15.699999809265137,16.280000686645508,16.889999389648438,17.0,16.010000228881836,15.550000190734863,14.850000381469727,15.399999618530273,15.180000305175781,13.930000305175781,13.75,13.829999923706055,14.880000114440918,14.989999771118164,14.100000381469727,14.420000076293945,14.09000015258789,14.90999984741211,13.300000190734863,12.819999694824219,15.619999885559082,14.84000015258789,14.449999809265137,13.460000038146973,14.899999618530273,15.970000267028809,18.1200008392334,18.950000762939453,19.0,17.84000015258789,17.899999618530273,17.190000534057617,16.399999618530273,16.399999618530273,15.65999984741211,15.350000381469727,14.75,15.510000228881836,16.959999084472656,16.489999771118164,16.950000762939453,16.790000915527344,16.0,16.25,17.459999084472656,17.40999984741211,18.020000457763672,16.8700008392334,17.43000030517578,17.860000610351562,17.040000915527344,16.799999237060547,15.899999618530273,17.690000534057617,18.639999389648438,19.950000762939453,19.950000762939453,20.809999465942383,21.229999542236328,20.600000381469727,20.09000015258789,19.260000228881836,17.829999923706055,18.049999237060547,17.350000381469727,16.350000381469727,14.0,14.359999656677246,14.600000381469727,14.489999771118164,13.899999618530273,14.289999961853027,15.0,15.569999694824219,15.520000457763672,16.90999984741211,16.59000015258789,15.100000381469727,14.630000114440918,13.1899995803833,12.489999771118164,12.359999656677246,12.649999618530273,11.050000190734863,11.199999809265137,10.75,11.0600004196167,10.600000381469727,10.289999961853027,11.0,10.949999809265137,10.069999694824219,10.270000457763672,10.460000038146973,9.850000381469727,9.619999885559082,9.149999618530273,9.0,9.0,8.770000457763672,8.210000038146973,8.520000457763672,8.279999732971191,7.989999771118164,7.96999979019165,7.389999866485596,8.119999885559082,9.0,8.770000457763672,9.1899995803833,9.210000038146973,9.380000114440918,9.220000267028809,9.720000267028809,9.470000267028809,9.079999923706055,8.649999618530273,8.800000190734863,9.699999809265137,10.199999809265137,10.989999771118164,11.989999771118164,2.799999952316284,2.75,2.4000000953674316,1.9700000286102295,2.0,1.4800000190734863,0.9900000095367432,0.8500000238418579,0.800000011920929,0.8500000238418579,0.949999988079071,1.0499999523162842,1.309999942779541,1.6100000143051147,1.9700000286102295,2.049999952316284,1.5800000429153442,1.8200000524520874,1.7699999809265137,1.399999976158142,1.0199999809265137,1.0499999523162842,1.159999966621399,1.1399999856948853,1.1200000047683716,1.190000057220459,1.2100000381469727,1.159999966621399,1.1200000047683716],\"x\":[\"2022-02-23T00:00:00\",\"2022-02-24T00:00:00\",\"2022-02-25T00:00:00\",\"2022-03-02T00:00:00\",\"2022-03-03T00:00:00\",\"2022-03-04T00:00:00\",\"2022-03-07T00:00:00\",\"2022-03-08T00:00:00\",\"2022-03-09T00:00:00\",\"2022-03-10T00:00:00\",\"2022-03-11T00:00:00\",\"2022-03-14T00:00:00\",\"2022-03-15T00:00:00\",\"2022-03-16T00:00:00\",\"2022-03-17T00:00:00\",\"2022-03-18T00:00:00\",\"2022-03-21T00:00:00\",\"2022-03-22T00:00:00\",\"2022-03-23T00:00:00\",\"2022-03-24T00:00:00\",\"2022-03-25T00:00:00\",\"2022-03-28T00:00:00\",\"2022-03-29T00:00:00\",\"2022-03-30T00:00:00\",\"2022-03-31T00:00:00\",\"2022-04-01T00:00:00\",\"2022-04-04T00:00:00\",\"2022-04-05T00:00:00\",\"2022-04-06T00:00:00\",\"2022-04-07T00:00:00\",\"2022-04-08T00:00:00\",\"2022-04-11T00:00:00\",\"2022-04-12T00:00:00\",\"2022-04-13T00:00:00\",\"2022-04-14T00:00:00\",\"2022-04-18T00:00:00\",\"2022-04-19T00:00:00\",\"2022-04-20T00:00:00\",\"2022-04-22T00:00:00\",\"2022-04-25T00:00:00\",\"2022-04-26T00:00:00\",\"2022-04-27T00:00:00\",\"2022-04-28T00:00:00\",\"2022-04-29T00:00:00\",\"2022-05-02T00:00:00\",\"2022-05-03T00:00:00\",\"2022-05-04T00:00:00\",\"2022-05-05T00:00:00\",\"2022-05-06T00:00:00\",\"2022-05-09T00:00:00\",\"2022-05-10T00:00:00\",\"2022-05-11T00:00:00\",\"2022-05-12T00:00:00\",\"2022-05-13T00:00:00\",\"2022-05-16T00:00:00\",\"2022-05-17T00:00:00\",\"2022-05-18T00:00:00\",\"2022-05-19T00:00:00\",\"2022-05-20T00:00:00\",\"2022-05-23T00:00:00\",\"2022-05-24T00:00:00\",\"2022-05-25T00:00:00\",\"2022-05-26T00:00:00\",\"2022-05-27T00:00:00\",\"2022-05-30T00:00:00\",\"2022-05-31T00:00:00\",\"2022-06-01T00:00:00\",\"2022-06-02T00:00:00\",\"2022-06-03T00:00:00\",\"2022-06-06T00:00:00\",\"2022-06-07T00:00:00\",\"2022-06-08T00:00:00\",\"2022-06-09T00:00:00\",\"2022-06-10T00:00:00\",\"2022-06-13T00:00:00\",\"2022-06-14T00:00:00\",\"2022-06-15T00:00:00\",\"2022-06-17T00:00:00\",\"2022-06-20T00:00:00\",\"2022-06-21T00:00:00\",\"2022-06-22T00:00:00\",\"2022-06-23T00:00:00\",\"2022-06-24T00:00:00\",\"2022-06-27T00:00:00\",\"2022-06-28T00:00:00\",\"2022-06-29T00:00:00\",\"2022-06-30T00:00:00\",\"2022-07-01T00:00:00\",\"2022-07-04T00:00:00\",\"2022-07-05T00:00:00\",\"2022-07-06T00:00:00\",\"2022-07-07T00:00:00\",\"2022-07-08T00:00:00\",\"2022-07-11T00:00:00\",\"2022-07-12T00:00:00\",\"2022-07-13T00:00:00\",\"2022-07-14T00:00:00\",\"2022-07-15T00:00:00\",\"2022-07-18T00:00:00\",\"2022-07-19T00:00:00\",\"2022-07-20T00:00:00\",\"2022-07-21T00:00:00\",\"2022-07-22T00:00:00\",\"2022-07-25T00:00:00\",\"2022-07-26T00:00:00\",\"2022-07-27T00:00:00\",\"2022-07-28T00:00:00\",\"2022-07-29T00:00:00\",\"2022-08-01T00:00:00\",\"2022-08-02T00:00:00\",\"2022-08-03T00:00:00\",\"2022-08-04T00:00:00\",\"2022-08-05T00:00:00\",\"2022-08-08T00:00:00\",\"2022-08-09T00:00:00\",\"2022-08-10T00:00:00\",\"2022-08-11T00:00:00\",\"2022-08-12T00:00:00\",\"2022-08-15T00:00:00\",\"2022-08-16T00:00:00\",\"2022-08-17T00:00:00\",\"2022-08-18T00:00:00\",\"2022-08-19T00:00:00\",\"2022-08-22T00:00:00\",\"2022-08-23T00:00:00\",\"2022-08-24T00:00:00\",\"2022-08-25T00:00:00\",\"2022-08-26T00:00:00\",\"2022-08-29T00:00:00\",\"2022-08-30T00:00:00\",\"2022-08-31T00:00:00\",\"2022-09-01T00:00:00\",\"2022-09-02T00:00:00\",\"2022-09-05T00:00:00\",\"2022-09-06T00:00:00\",\"2022-09-08T00:00:00\",\"2022-09-09T00:00:00\",\"2022-09-12T00:00:00\",\"2022-09-13T00:00:00\",\"2022-09-14T00:00:00\",\"2022-09-15T00:00:00\",\"2022-09-16T00:00:00\",\"2022-09-19T00:00:00\",\"2022-09-20T00:00:00\",\"2022-09-21T00:00:00\",\"2022-09-22T00:00:00\",\"2022-09-23T00:00:00\",\"2022-09-26T00:00:00\",\"2022-09-27T00:00:00\",\"2022-09-28T00:00:00\",\"2022-09-29T00:00:00\",\"2022-09-30T00:00:00\",\"2022-10-03T00:00:00\",\"2022-10-04T00:00:00\",\"2022-10-05T00:00:00\",\"2022-10-06T00:00:00\",\"2022-10-07T00:00:00\",\"2022-10-10T00:00:00\",\"2022-10-11T00:00:00\",\"2022-10-13T00:00:00\",\"2022-10-14T00:00:00\",\"2022-10-17T00:00:00\",\"2022-10-18T00:00:00\",\"2022-10-19T00:00:00\",\"2022-10-20T00:00:00\",\"2022-10-21T00:00:00\",\"2022-10-24T00:00:00\",\"2022-10-25T00:00:00\",\"2022-10-26T00:00:00\",\"2022-10-27T00:00:00\",\"2022-10-28T00:00:00\",\"2022-10-31T00:00:00\",\"2022-11-01T00:00:00\",\"2022-11-03T00:00:00\",\"2022-11-04T00:00:00\",\"2022-11-07T00:00:00\",\"2022-11-08T00:00:00\",\"2022-11-09T00:00:00\",\"2022-11-10T00:00:00\",\"2022-11-11T00:00:00\",\"2022-11-14T00:00:00\",\"2022-11-16T00:00:00\",\"2022-11-17T00:00:00\",\"2022-11-18T00:00:00\",\"2022-11-21T00:00:00\",\"2022-11-22T00:00:00\",\"2022-11-23T00:00:00\",\"2022-11-24T00:00:00\",\"2022-11-25T00:00:00\",\"2022-11-28T00:00:00\",\"2022-11-29T00:00:00\",\"2022-11-30T00:00:00\",\"2022-12-01T00:00:00\",\"2022-12-02T00:00:00\",\"2022-12-05T00:00:00\",\"2022-12-06T00:00:00\",\"2022-12-07T00:00:00\",\"2022-12-08T00:00:00\",\"2022-12-09T00:00:00\",\"2022-12-12T00:00:00\",\"2022-12-13T00:00:00\",\"2022-12-14T00:00:00\",\"2022-12-15T00:00:00\",\"2022-12-16T00:00:00\",\"2022-12-19T00:00:00\",\"2022-12-20T00:00:00\",\"2022-12-21T00:00:00\",\"2022-12-22T00:00:00\",\"2022-12-23T00:00:00\",\"2022-12-26T00:00:00\",\"2022-12-27T00:00:00\",\"2022-12-28T00:00:00\",\"2022-12-29T00:00:00\",\"2023-01-02T00:00:00\",\"2023-01-03T00:00:00\",\"2023-01-04T00:00:00\",\"2023-01-05T00:00:00\",\"2023-01-06T00:00:00\",\"2023-01-09T00:00:00\",\"2023-01-10T00:00:00\",\"2023-01-11T00:00:00\",\"2023-01-12T00:00:00\",\"2023-01-13T00:00:00\",\"2023-01-16T00:00:00\",\"2023-01-17T00:00:00\",\"2023-01-18T00:00:00\",\"2023-01-19T00:00:00\",\"2023-01-20T00:00:00\",\"2023-01-23T00:00:00\",\"2023-01-24T00:00:00\",\"2023-01-25T00:00:00\",\"2023-01-26T00:00:00\",\"2023-01-27T00:00:00\",\"2023-01-30T00:00:00\",\"2023-01-31T00:00:00\",\"2023-02-01T00:00:00\",\"2023-02-02T00:00:00\",\"2023-02-03T00:00:00\",\"2023-02-06T00:00:00\",\"2023-02-07T00:00:00\",\"2023-02-08T00:00:00\",\"2023-02-09T00:00:00\",\"2023-02-10T00:00:00\",\"2023-02-13T00:00:00\",\"2023-02-14T00:00:00\",\"2023-02-15T00:00:00\",\"2023-02-16T00:00:00\",\"2023-02-17T00:00:00\",\"2023-02-22T00:00:00\",\"2023-02-23T00:00:00\"],\"type\":\"candlestick\",\"xaxis\":\"x\",\"yaxis\":\"y\"},{\"line\":{\"color\":\"yellow\"},\"mode\":\"lines\",\"name\":\"M\\u00e9dia M\\u00f3vel\",\"x\":[\"2022-02-23T00:00:00\",\"2022-02-24T00:00:00\",\"2022-02-25T00:00:00\",\"2022-03-02T00:00:00\",\"2022-03-03T00:00:00\",\"2022-03-04T00:00:00\",\"2022-03-07T00:00:00\",\"2022-03-08T00:00:00\",\"2022-03-09T00:00:00\",\"2022-03-10T00:00:00\",\"2022-03-11T00:00:00\",\"2022-03-14T00:00:00\",\"2022-03-15T00:00:00\",\"2022-03-16T00:00:00\",\"2022-03-17T00:00:00\",\"2022-03-18T00:00:00\",\"2022-03-21T00:00:00\",\"2022-03-22T00:00:00\",\"2022-03-23T00:00:00\",\"2022-03-24T00:00:00\",\"2022-03-25T00:00:00\",\"2022-03-28T00:00:00\",\"2022-03-29T00:00:00\",\"2022-03-30T00:00:00\",\"2022-03-31T00:00:00\",\"2022-04-01T00:00:00\",\"2022-04-04T00:00:00\",\"2022-04-05T00:00:00\",\"2022-04-06T00:00:00\",\"2022-04-07T00:00:00\",\"2022-04-08T00:00:00\",\"2022-04-11T00:00:00\",\"2022-04-12T00:00:00\",\"2022-04-13T00:00:00\",\"2022-04-14T00:00:00\",\"2022-04-18T00:00:00\",\"2022-04-19T00:00:00\",\"2022-04-20T00:00:00\",\"2022-04-22T00:00:00\",\"2022-04-25T00:00:00\",\"2022-04-26T00:00:00\",\"2022-04-27T00:00:00\",\"2022-04-28T00:00:00\",\"2022-04-29T00:00:00\",\"2022-05-02T00:00:00\",\"2022-05-03T00:00:00\",\"2022-05-04T00:00:00\",\"2022-05-05T00:00:00\",\"2022-05-06T00:00:00\",\"2022-05-09T00:00:00\",\"2022-05-10T00:00:00\",\"2022-05-11T00:00:00\",\"2022-05-12T00:00:00\",\"2022-05-13T00:00:00\",\"2022-05-16T00:00:00\",\"2022-05-17T00:00:00\",\"2022-05-18T00:00:00\",\"2022-05-19T00:00:00\",\"2022-05-20T00:00:00\",\"2022-05-23T00:00:00\",\"2022-05-24T00:00:00\",\"2022-05-25T00:00:00\",\"2022-05-26T00:00:00\",\"2022-05-27T00:00:00\",\"2022-05-30T00:00:00\",\"2022-05-31T00:00:00\",\"2022-06-01T00:00:00\",\"2022-06-02T00:00:00\",\"2022-06-03T00:00:00\",\"2022-06-06T00:00:00\",\"2022-06-07T00:00:00\",\"2022-06-08T00:00:00\",\"2022-06-09T00:00:00\",\"2022-06-10T00:00:00\",\"2022-06-13T00:00:00\",\"2022-06-14T00:00:00\",\"2022-06-15T00:00:00\",\"2022-06-17T00:00:00\",\"2022-06-20T00:00:00\",\"2022-06-21T00:00:00\",\"2022-06-22T00:00:00\",\"2022-06-23T00:00:00\",\"2022-06-24T00:00:00\",\"2022-06-27T00:00:00\",\"2022-06-28T00:00:00\",\"2022-06-29T00:00:00\",\"2022-06-30T00:00:00\",\"2022-07-01T00:00:00\",\"2022-07-04T00:00:00\",\"2022-07-05T00:00:00\",\"2022-07-06T00:00:00\",\"2022-07-07T00:00:00\",\"2022-07-08T00:00:00\",\"2022-07-11T00:00:00\",\"2022-07-12T00:00:00\",\"2022-07-13T00:00:00\",\"2022-07-14T00:00:00\",\"2022-07-15T00:00:00\",\"2022-07-18T00:00:00\",\"2022-07-19T00:00:00\",\"2022-07-20T00:00:00\",\"2022-07-21T00:00:00\",\"2022-07-22T00:00:00\",\"2022-07-25T00:00:00\",\"2022-07-26T00:00:00\",\"2022-07-27T00:00:00\",\"2022-07-28T00:00:00\",\"2022-07-29T00:00:00\",\"2022-08-01T00:00:00\",\"2022-08-02T00:00:00\",\"2022-08-03T00:00:00\",\"2022-08-04T00:00:00\",\"2022-08-05T00:00:00\",\"2022-08-08T00:00:00\",\"2022-08-09T00:00:00\",\"2022-08-10T00:00:00\",\"2022-08-11T00:00:00\",\"2022-08-12T00:00:00\",\"2022-08-15T00:00:00\",\"2022-08-16T00:00:00\",\"2022-08-17T00:00:00\",\"2022-08-18T00:00:00\",\"2022-08-19T00:00:00\",\"2022-08-22T00:00:00\",\"2022-08-23T00:00:00\",\"2022-08-24T00:00:00\",\"2022-08-25T00:00:00\",\"2022-08-26T00:00:00\",\"2022-08-29T00:00:00\",\"2022-08-30T00:00:00\",\"2022-08-31T00:00:00\",\"2022-09-01T00:00:00\",\"2022-09-02T00:00:00\",\"2022-09-05T00:00:00\",\"2022-09-06T00:00:00\",\"2022-09-08T00:00:00\",\"2022-09-09T00:00:00\",\"2022-09-12T00:00:00\",\"2022-09-13T00:00:00\",\"2022-09-14T00:00:00\",\"2022-09-15T00:00:00\",\"2022-09-16T00:00:00\",\"2022-09-19T00:00:00\",\"2022-09-20T00:00:00\",\"2022-09-21T00:00:00\",\"2022-09-22T00:00:00\",\"2022-09-23T00:00:00\",\"2022-09-26T00:00:00\",\"2022-09-27T00:00:00\",\"2022-09-28T00:00:00\",\"2022-09-29T00:00:00\",\"2022-09-30T00:00:00\",\"2022-10-03T00:00:00\",\"2022-10-04T00:00:00\",\"2022-10-05T00:00:00\",\"2022-10-06T00:00:00\",\"2022-10-07T00:00:00\",\"2022-10-10T00:00:00\",\"2022-10-11T00:00:00\",\"2022-10-13T00:00:00\",\"2022-10-14T00:00:00\",\"2022-10-17T00:00:00\",\"2022-10-18T00:00:00\",\"2022-10-19T00:00:00\",\"2022-10-20T00:00:00\",\"2022-10-21T00:00:00\",\"2022-10-24T00:00:00\",\"2022-10-25T00:00:00\",\"2022-10-26T00:00:00\",\"2022-10-27T00:00:00\",\"2022-10-28T00:00:00\",\"2022-10-31T00:00:00\",\"2022-11-01T00:00:00\",\"2022-11-03T00:00:00\",\"2022-11-04T00:00:00\",\"2022-11-07T00:00:00\",\"2022-11-08T00:00:00\",\"2022-11-09T00:00:00\",\"2022-11-10T00:00:00\",\"2022-11-11T00:00:00\",\"2022-11-14T00:00:00\",\"2022-11-16T00:00:00\",\"2022-11-17T00:00:00\",\"2022-11-18T00:00:00\",\"2022-11-21T00:00:00\",\"2022-11-22T00:00:00\",\"2022-11-23T00:00:00\",\"2022-11-24T00:00:00\",\"2022-11-25T00:00:00\",\"2022-11-28T00:00:00\",\"2022-11-29T00:00:00\",\"2022-11-30T00:00:00\",\"2022-12-01T00:00:00\",\"2022-12-02T00:00:00\",\"2022-12-05T00:00:00\",\"2022-12-06T00:00:00\",\"2022-12-07T00:00:00\",\"2022-12-08T00:00:00\",\"2022-12-09T00:00:00\",\"2022-12-12T00:00:00\",\"2022-12-13T00:00:00\",\"2022-12-14T00:00:00\",\"2022-12-15T00:00:00\",\"2022-12-16T00:00:00\",\"2022-12-19T00:00:00\",\"2022-12-20T00:00:00\",\"2022-12-21T00:00:00\",\"2022-12-22T00:00:00\",\"2022-12-23T00:00:00\",\"2022-12-26T00:00:00\",\"2022-12-27T00:00:00\",\"2022-12-28T00:00:00\",\"2022-12-29T00:00:00\",\"2023-01-02T00:00:00\",\"2023-01-03T00:00:00\",\"2023-01-04T00:00:00\",\"2023-01-05T00:00:00\",\"2023-01-06T00:00:00\",\"2023-01-09T00:00:00\",\"2023-01-10T00:00:00\",\"2023-01-11T00:00:00\",\"2023-01-12T00:00:00\",\"2023-01-13T00:00:00\",\"2023-01-16T00:00:00\",\"2023-01-17T00:00:00\",\"2023-01-18T00:00:00\",\"2023-01-19T00:00:00\",\"2023-01-20T00:00:00\",\"2023-01-23T00:00:00\",\"2023-01-24T00:00:00\",\"2023-01-25T00:00:00\",\"2023-01-26T00:00:00\",\"2023-01-27T00:00:00\",\"2023-01-30T00:00:00\",\"2023-01-31T00:00:00\",\"2023-02-01T00:00:00\",\"2023-02-02T00:00:00\",\"2023-02-03T00:00:00\",\"2023-02-06T00:00:00\",\"2023-02-07T00:00:00\",\"2023-02-08T00:00:00\",\"2023-02-09T00:00:00\",\"2023-02-10T00:00:00\",\"2023-02-13T00:00:00\",\"2023-02-14T00:00:00\",\"2023-02-15T00:00:00\",\"2023-02-16T00:00:00\",\"2023-02-17T00:00:00\",\"2023-02-22T00:00:00\",\"2023-02-23T00:00:00\"],\"y\":[null,null,null,null,30.78800048828125,30.868000411987303,30.230000305175782,29.51600036621094,28.528000259399413,27.64800033569336,26.6060001373291,25.97400016784668,25.238000106811523,24.618000030517578,24.203999710083007,24.61999969482422,25.159999465942384,26.173999404907228,27.025999450683592,28.179999542236327,29.243999481201172,30.325999450683593,31.591999816894532,32.76799964904785,33.21800003051758,33.5620002746582,33.85000076293945,33.18200035095215,32.32200050354004,31.986000061035156,30.90200004577637,29.841999816894532,29.320000076293944,29.118000030517578,28.554000091552734,28.510000228881836,28.49200019836426,28.2,27.686000061035156,27.334000015258788,26.670000076293945,26.072000122070314,25.665999984741212,25.131999969482422,24.6560001373291,24.313999938964844,24.327999877929688,23.944000244140625,23.620000076293945,22.99000015258789,22.610000228881837,21.912000274658205,21.788000106811523,21.922000122070312,22.481999969482423,22.8,23.070000076293944,23.154000091552735,23.238000106811523,23.320000076293944,23.29199981689453,23.07999954223633,22.76199951171875,22.365999603271483,21.69199981689453,21.136000061035155,20.626000213623048,20.234000396728515,19.616000366210937,18.976000213623045,18.37200012207031,17.842000198364257,17.34000015258789,16.7040002822876,15.982000350952148,15.22600040435791,14.672000312805176,13.972000122070312,13.592000007629395,13.48799991607666,13.495999908447265,13.497999954223634,13.53799991607666,13.679999923706054,13.689999961853028,13.70999984741211,13.609999847412109,13.40999984741211,13.111999893188477,13.179999923706054,13.568000030517577,13.981999969482422,14.59600009918213,15.210000038146973,15.83799991607666,16.0939998626709,16.329999923706055,16.433999824523926,16.45999984741211,16.318000030517577,16.370000076293945,16.420000076293945,16.342000198364257,16.30800018310547,16.032000160217287,15.740000152587891,15.372000122070313,14.986000061035156,14.650000190734863,14.44000015258789,14.296000099182129,14.294000053405762,14.273999977111817,14.343999862670898,14.315999794006348,14.299999809265136,13.939999771118163,13.751999855041504,13.969999885559082,14.279999923706054,14.195999908447266,14.26599998474121,14.279999923706054,14.405999946594239,15.07199993133545,15.910000038146972,16.94200019836426,17.956000328063965,18.26600036621094,17.974000549316408,17.55600051879883,17.034000396728516,16.51600036621094,16.104000282287597,15.62400016784668,15.386000061035157,15.461999893188477,15.818000030517577,16.13999996185303,16.559999847412108,16.754000091552733,16.744000244140626,16.770000076293947,16.836000061035158,16.99000015258789,17.213999938964843,17.41800003051758,17.429999923706056,17.35,17.27599983215332,17.001999855041504,16.891999626159667,17.04199962615967,17.509999656677245,18.055999946594238,19.045999908447264,19.870000076293945,20.360000228881837,20.6060001373291,20.44199981689453,19.76599998474121,19.07599983215332,18.461999893188477,17.631999969482422,16.67600021362305,16.09400005340576,15.492000198364257,14.904000091552735,14.384000205993653,14.422000122070312,14.548000144958497,14.728000068664551,14.973999977111816,15.51599998474121,15.957999992370606,15.960000038146973,15.886000061035157,15.484000205993652,14.708000183105469,13.816000175476074,13.29000015258789,12.518000221252441,11.922000122070312,11.470000076293946,11.240000152587891,10.860000228881836,10.61200008392334,10.666000175476075,10.780000114440918,10.546000099182129,10.465999984741211,10.564000129699707,10.294000053405762,10.038000106811523,9.860000038146973,9.626000022888183,9.30999984741211,9.063999938964844,8.803999900817871,8.693999862670898,8.555999946594238,8.388000106811523,8.264000034332275,8.060000038146972,8.026000022888184,8.102000045776368,8.23799991607666,8.453999996185303,8.820000076293946,9.032000160217285,9.11200008392334,9.292000198364258,9.410000038146972,9.379999923706055,9.215999984741211,9.129999923706055,9.123999786376952,9.275999832153321,9.685999870300293,10.36399974822998,11.017999839782714,9.6239999294281,8.171999979019166,6.344000005722046,4.342000031471253,2.2900000333786013,1.9460000276565552,1.4580000042915344,1.2299999952316285,1.0100000023841857,0.85,0.8559999942779541,0.9540000081062316,1.084000015258789,1.2740000128746032,1.5039999961853028,1.6339999914169312,1.7199999809265136,1.7759999752044677,1.6979999780654906,1.494000005722046,1.356000018119812,1.2500000238418578,1.1300000190734862,1.0800000190734864,1.0920000076293945,1.1380000114440918,1.1519999980926514,1.1480000019073486,1.1480000019073486],\"type\":\"scatter\",\"xaxis\":\"x\",\"yaxis\":\"y\"},{\"line\":{\"color\":\"green\"},\"mode\":\"lines\",\"name\":\"Fechamento\",\"x\":[\"2022-02-23T00:00:00\",\"2022-02-24T00:00:00\",\"2022-02-25T00:00:00\",\"2022-03-02T00:00:00\",\"2022-03-03T00:00:00\",\"2022-03-04T00:00:00\",\"2022-03-07T00:00:00\",\"2022-03-08T00:00:00\",\"2022-03-09T00:00:00\",\"2022-03-10T00:00:00\",\"2022-03-11T00:00:00\",\"2022-03-14T00:00:00\",\"2022-03-15T00:00:00\",\"2022-03-16T00:00:00\",\"2022-03-17T00:00:00\",\"2022-03-18T00:00:00\",\"2022-03-21T00:00:00\",\"2022-03-22T00:00:00\",\"2022-03-23T00:00:00\",\"2022-03-24T00:00:00\",\"2022-03-25T00:00:00\",\"2022-03-28T00:00:00\",\"2022-03-29T00:00:00\",\"2022-03-30T00:00:00\",\"2022-03-31T00:00:00\",\"2022-04-01T00:00:00\",\"2022-04-04T00:00:00\",\"2022-04-05T00:00:00\",\"2022-04-06T00:00:00\",\"2022-04-07T00:00:00\",\"2022-04-08T00:00:00\",\"2022-04-11T00:00:00\",\"2022-04-12T00:00:00\",\"2022-04-13T00:00:00\",\"2022-04-14T00:00:00\",\"2022-04-18T00:00:00\",\"2022-04-19T00:00:00\",\"2022-04-20T00:00:00\",\"2022-04-22T00:00:00\",\"2022-04-25T00:00:00\",\"2022-04-26T00:00:00\",\"2022-04-27T00:00:00\",\"2022-04-28T00:00:00\",\"2022-04-29T00:00:00\",\"2022-05-02T00:00:00\",\"2022-05-03T00:00:00\",\"2022-05-04T00:00:00\",\"2022-05-05T00:00:00\",\"2022-05-06T00:00:00\",\"2022-05-09T00:00:00\",\"2022-05-10T00:00:00\",\"2022-05-11T00:00:00\",\"2022-05-12T00:00:00\",\"2022-05-13T00:00:00\",\"2022-05-16T00:00:00\",\"2022-05-17T00:00:00\",\"2022-05-18T00:00:00\",\"2022-05-19T00:00:00\",\"2022-05-20T00:00:00\",\"2022-05-23T00:00:00\",\"2022-05-24T00:00:00\",\"2022-05-25T00:00:00\",\"2022-05-26T00:00:00\",\"2022-05-27T00:00:00\",\"2022-05-30T00:00:00\",\"2022-05-31T00:00:00\",\"2022-06-01T00:00:00\",\"2022-06-02T00:00:00\",\"2022-06-03T00:00:00\",\"2022-06-06T00:00:00\",\"2022-06-07T00:00:00\",\"2022-06-08T00:00:00\",\"2022-06-09T00:00:00\",\"2022-06-10T00:00:00\",\"2022-06-13T00:00:00\",\"2022-06-14T00:00:00\",\"2022-06-15T00:00:00\",\"2022-06-17T00:00:00\",\"2022-06-20T00:00:00\",\"2022-06-21T00:00:00\",\"2022-06-22T00:00:00\",\"2022-06-23T00:00:00\",\"2022-06-24T00:00:00\",\"2022-06-27T00:00:00\",\"2022-06-28T00:00:00\",\"2022-06-29T00:00:00\",\"2022-06-30T00:00:00\",\"2022-07-01T00:00:00\",\"2022-07-04T00:00:00\",\"2022-07-05T00:00:00\",\"2022-07-06T00:00:00\",\"2022-07-07T00:00:00\",\"2022-07-08T00:00:00\",\"2022-07-11T00:00:00\",\"2022-07-12T00:00:00\",\"2022-07-13T00:00:00\",\"2022-07-14T00:00:00\",\"2022-07-15T00:00:00\",\"2022-07-18T00:00:00\",\"2022-07-19T00:00:00\",\"2022-07-20T00:00:00\",\"2022-07-21T00:00:00\",\"2022-07-22T00:00:00\",\"2022-07-25T00:00:00\",\"2022-07-26T00:00:00\",\"2022-07-27T00:00:00\",\"2022-07-28T00:00:00\",\"2022-07-29T00:00:00\",\"2022-08-01T00:00:00\",\"2022-08-02T00:00:00\",\"2022-08-03T00:00:00\",\"2022-08-04T00:00:00\",\"2022-08-05T00:00:00\",\"2022-08-08T00:00:00\",\"2022-08-09T00:00:00\",\"2022-08-10T00:00:00\",\"2022-08-11T00:00:00\",\"2022-08-12T00:00:00\",\"2022-08-15T00:00:00\",\"2022-08-16T00:00:00\",\"2022-08-17T00:00:00\",\"2022-08-18T00:00:00\",\"2022-08-19T00:00:00\",\"2022-08-22T00:00:00\",\"2022-08-23T00:00:00\",\"2022-08-24T00:00:00\",\"2022-08-25T00:00:00\",\"2022-08-26T00:00:00\",\"2022-08-29T00:00:00\",\"2022-08-30T00:00:00\",\"2022-08-31T00:00:00\",\"2022-09-01T00:00:00\",\"2022-09-02T00:00:00\",\"2022-09-05T00:00:00\",\"2022-09-06T00:00:00\",\"2022-09-08T00:00:00\",\"2022-09-09T00:00:00\",\"2022-09-12T00:00:00\",\"2022-09-13T00:00:00\",\"2022-09-14T00:00:00\",\"2022-09-15T00:00:00\",\"2022-09-16T00:00:00\",\"2022-09-19T00:00:00\",\"2022-09-20T00:00:00\",\"2022-09-21T00:00:00\",\"2022-09-22T00:00:00\",\"2022-09-23T00:00:00\",\"2022-09-26T00:00:00\",\"2022-09-27T00:00:00\",\"2022-09-28T00:00:00\",\"2022-09-29T00:00:00\",\"2022-09-30T00:00:00\",\"2022-10-03T00:00:00\",\"2022-10-04T00:00:00\",\"2022-10-05T00:00:00\",\"2022-10-06T00:00:00\",\"2022-10-07T00:00:00\",\"2022-10-10T00:00:00\",\"2022-10-11T00:00:00\",\"2022-10-13T00:00:00\",\"2022-10-14T00:00:00\",\"2022-10-17T00:00:00\",\"2022-10-18T00:00:00\",\"2022-10-19T00:00:00\",\"2022-10-20T00:00:00\",\"2022-10-21T00:00:00\",\"2022-10-24T00:00:00\",\"2022-10-25T00:00:00\",\"2022-10-26T00:00:00\",\"2022-10-27T00:00:00\",\"2022-10-28T00:00:00\",\"2022-10-31T00:00:00\",\"2022-11-01T00:00:00\",\"2022-11-03T00:00:00\",\"2022-11-04T00:00:00\",\"2022-11-07T00:00:00\",\"2022-11-08T00:00:00\",\"2022-11-09T00:00:00\",\"2022-11-10T00:00:00\",\"2022-11-11T00:00:00\",\"2022-11-14T00:00:00\",\"2022-11-16T00:00:00\",\"2022-11-17T00:00:00\",\"2022-11-18T00:00:00\",\"2022-11-21T00:00:00\",\"2022-11-22T00:00:00\",\"2022-11-23T00:00:00\",\"2022-11-24T00:00:00\",\"2022-11-25T00:00:00\",\"2022-11-28T00:00:00\",\"2022-11-29T00:00:00\",\"2022-11-30T00:00:00\",\"2022-12-01T00:00:00\",\"2022-12-02T00:00:00\",\"2022-12-05T00:00:00\",\"2022-12-06T00:00:00\",\"2022-12-07T00:00:00\",\"2022-12-08T00:00:00\",\"2022-12-09T00:00:00\",\"2022-12-12T00:00:00\",\"2022-12-13T00:00:00\",\"2022-12-14T00:00:00\",\"2022-12-15T00:00:00\",\"2022-12-16T00:00:00\",\"2022-12-19T00:00:00\",\"2022-12-20T00:00:00\",\"2022-12-21T00:00:00\",\"2022-12-22T00:00:00\",\"2022-12-23T00:00:00\",\"2022-12-26T00:00:00\",\"2022-12-27T00:00:00\",\"2022-12-28T00:00:00\",\"2022-12-29T00:00:00\",\"2023-01-02T00:00:00\",\"2023-01-03T00:00:00\",\"2023-01-04T00:00:00\",\"2023-01-05T00:00:00\",\"2023-01-06T00:00:00\",\"2023-01-09T00:00:00\",\"2023-01-10T00:00:00\",\"2023-01-11T00:00:00\",\"2023-01-12T00:00:00\",\"2023-01-13T00:00:00\",\"2023-01-16T00:00:00\",\"2023-01-17T00:00:00\",\"2023-01-18T00:00:00\",\"2023-01-19T00:00:00\",\"2023-01-20T00:00:00\",\"2023-01-23T00:00:00\",\"2023-01-24T00:00:00\",\"2023-01-25T00:00:00\",\"2023-01-26T00:00:00\",\"2023-01-27T00:00:00\",\"2023-01-30T00:00:00\",\"2023-01-31T00:00:00\",\"2023-02-01T00:00:00\",\"2023-02-02T00:00:00\",\"2023-02-03T00:00:00\",\"2023-02-06T00:00:00\",\"2023-02-07T00:00:00\",\"2023-02-08T00:00:00\",\"2023-02-09T00:00:00\",\"2023-02-10T00:00:00\",\"2023-02-13T00:00:00\",\"2023-02-14T00:00:00\",\"2023-02-15T00:00:00\",\"2023-02-16T00:00:00\",\"2023-02-17T00:00:00\",\"2023-02-22T00:00:00\",\"2023-02-23T00:00:00\"],\"y\":[29.690000534057617,30.200000762939453,30.5,32.45000076293945,31.100000381469727,30.09000015258789,27.010000228881836,26.93000030517578,27.510000228881836,26.700000762939453,24.8799991607666,23.850000381469727,23.25,24.40999984741211,24.6299991607666,26.959999084472656,26.549999237060547,28.31999969482422,28.670000076293945,30.399999618530273,32.279998779296875,31.959999084472656,34.650001525878906,34.54999923706055,32.650001525878906,34.0,33.400001525878906,31.309999465942383,30.25,30.969999313354492,28.579999923706055,28.100000381469727,28.700000762939453,29.239999771118164,28.149999618530273,28.360000610351562,28.010000228881836,27.239999771118164,26.670000076293945,26.389999389648438,25.040000915527344,25.020000457763672,25.209999084472656,24.0,24.010000228881836,23.329999923706055,25.09000015258789,23.290000915527344,22.3799991607666,20.860000610351562,21.43000030517578,21.600000381469727,22.670000076293945,23.049999237060547,23.65999984741211,23.020000457763672,22.950000762939453,23.09000015258789,23.469999313354492,24.06999969482422,22.8799991607666,21.889999389648438,21.5,21.489999771118164,20.700000762939453,20.100000381469727,19.34000015258789,19.540000915527344,18.399999618530273,17.5,17.079999923706055,16.690000534057617,17.030000686645508,15.220000267028809,13.890000343322754,13.300000190734863,13.920000076293945,13.529999732971191,13.319999694824219,13.369999885559082,13.34000015258789,13.930000305175781,13.729999542236328,14.029999732971191,13.420000076293945,13.4399995803833,13.430000305175781,12.729999542236328,12.539999961853027,13.760000228881836,15.380000114440918,15.5,15.800000190734863,15.609999656677246,16.899999618530273,16.65999984741211,16.68000030517578,16.31999969482422,15.739999771118164,16.190000534057617,16.920000076293945,16.93000030517578,15.930000305175781,15.569999694824219,14.8100004196167,15.460000038146973,15.09000015258789,14.0,13.890000343322754,13.760000228881836,14.739999771118164,15.079999923706055,13.899999618530273,14.239999771118164,13.619999885559082,14.65999984741211,13.279999732971191,12.960000038146973,15.329999923706055,15.170000076293945,14.239999771118164,13.630000114440918,13.029999732971191,15.960000038146973,18.5,18.43000030517578,18.790000915527344,18.100000381469727,17.510000228881836,17.040000915527344,16.34000015258789,16.18000030517578,15.510000228881836,15.449999809265137,14.640000343322754,15.149999618530273,16.559999465942383,17.290000915527344,17.059999465942383,16.739999771118164,16.1200008392334,16.510000228881836,17.420000076293945,17.389999389648438,17.510000228881836,17.239999771118164,17.530000686645508,17.479999542236328,16.989999771118164,17.139999389648438,15.869999885559082,16.979999542236328,18.229999542236328,19.329999923706055,19.8700008392334,20.81999969482422,21.100000381469727,20.68000030517578,20.559999465942383,19.049999237060547,17.440000534057617,17.649999618530273,17.610000610351562,16.40999984741211,14.270000457763672,14.529999732971191,14.640000343322754,14.670000076293945,13.8100004196167,14.460000038146973,15.15999984741211,15.539999961853027,15.899999618530273,16.520000457763672,16.670000076293945,15.170000076293945,15.170000076293945,13.890000343322754,12.640000343322754,12.210000038146973,12.539999961853027,11.3100004196167,10.90999984741211,10.380000114440918,11.0600004196167,10.640000343322754,10.069999694824219,11.180000305175781,10.949999809265137,9.890000343322754,10.239999771118164,10.5600004196167,9.829999923706055,9.670000076293945,9.0,9.069999694824219,8.979999542236328,8.600000381469727,8.369999885559082,8.449999809265137,8.380000114440918,8.140000343322754,7.980000019073486,7.349999904632568,8.279999732971191,8.760000228881836,8.819999694824219,9.0600004196167,9.180000305175781,9.34000015258789,9.15999984741211,9.720000267028809,9.649999618530273,9.029999732971191,8.520000457763672,8.729999542236328,9.6899995803833,10.40999984741211,11.079999923706055,11.90999984741211,12.0,2.7200000286102295,3.1500000953674316,1.940000057220459,1.899999976158142,1.7400000095367432,1.0,0.7099999785423279,0.800000011920929,0.800000011920929,0.9399999976158142,1.0299999713897705,1.2000000476837158,1.4500000476837158,1.75,2.0899999141693115,1.6799999475479126,1.6299999952316284,1.7300000190734863,1.3600000143051147,1.0700000524520874,0.9900000095367432,1.100000023841858,1.1299999952316284,1.1100000143051147,1.1299999952316284,1.2200000286102295,1.1699999570846558,1.1100000143051147,1.1100000143051147],\"type\":\"scatter\",\"xaxis\":\"x2\",\"yaxis\":\"y2\"},{\"line\":{\"color\":\"red\"},\"mode\":\"lines\",\"name\":\"M\\u00e9dia M\\u00f3vel\",\"x\":[\"2022-02-23T00:00:00\",\"2022-02-24T00:00:00\",\"2022-02-25T00:00:00\",\"2022-03-02T00:00:00\",\"2022-03-03T00:00:00\",\"2022-03-04T00:00:00\",\"2022-03-07T00:00:00\",\"2022-03-08T00:00:00\",\"2022-03-09T00:00:00\",\"2022-03-10T00:00:00\",\"2022-03-11T00:00:00\",\"2022-03-14T00:00:00\",\"2022-03-15T00:00:00\",\"2022-03-16T00:00:00\",\"2022-03-17T00:00:00\",\"2022-03-18T00:00:00\",\"2022-03-21T00:00:00\",\"2022-03-22T00:00:00\",\"2022-03-23T00:00:00\",\"2022-03-24T00:00:00\",\"2022-03-25T00:00:00\",\"2022-03-28T00:00:00\",\"2022-03-29T00:00:00\",\"2022-03-30T00:00:00\",\"2022-03-31T00:00:00\",\"2022-04-01T00:00:00\",\"2022-04-04T00:00:00\",\"2022-04-05T00:00:00\",\"2022-04-06T00:00:00\",\"2022-04-07T00:00:00\",\"2022-04-08T00:00:00\",\"2022-04-11T00:00:00\",\"2022-04-12T00:00:00\",\"2022-04-13T00:00:00\",\"2022-04-14T00:00:00\",\"2022-04-18T00:00:00\",\"2022-04-19T00:00:00\",\"2022-04-20T00:00:00\",\"2022-04-22T00:00:00\",\"2022-04-25T00:00:00\",\"2022-04-26T00:00:00\",\"2022-04-27T00:00:00\",\"2022-04-28T00:00:00\",\"2022-04-29T00:00:00\",\"2022-05-02T00:00:00\",\"2022-05-03T00:00:00\",\"2022-05-04T00:00:00\",\"2022-05-05T00:00:00\",\"2022-05-06T00:00:00\",\"2022-05-09T00:00:00\",\"2022-05-10T00:00:00\",\"2022-05-11T00:00:00\",\"2022-05-12T00:00:00\",\"2022-05-13T00:00:00\",\"2022-05-16T00:00:00\",\"2022-05-17T00:00:00\",\"2022-05-18T00:00:00\",\"2022-05-19T00:00:00\",\"2022-05-20T00:00:00\",\"2022-05-23T00:00:00\",\"2022-05-24T00:00:00\",\"2022-05-25T00:00:00\",\"2022-05-26T00:00:00\",\"2022-05-27T00:00:00\",\"2022-05-30T00:00:00\",\"2022-05-31T00:00:00\",\"2022-06-01T00:00:00\",\"2022-06-02T00:00:00\",\"2022-06-03T00:00:00\",\"2022-06-06T00:00:00\",\"2022-06-07T00:00:00\",\"2022-06-08T00:00:00\",\"2022-06-09T00:00:00\",\"2022-06-10T00:00:00\",\"2022-06-13T00:00:00\",\"2022-06-14T00:00:00\",\"2022-06-15T00:00:00\",\"2022-06-17T00:00:00\",\"2022-06-20T00:00:00\",\"2022-06-21T00:00:00\",\"2022-06-22T00:00:00\",\"2022-06-23T00:00:00\",\"2022-06-24T00:00:00\",\"2022-06-27T00:00:00\",\"2022-06-28T00:00:00\",\"2022-06-29T00:00:00\",\"2022-06-30T00:00:00\",\"2022-07-01T00:00:00\",\"2022-07-04T00:00:00\",\"2022-07-05T00:00:00\",\"2022-07-06T00:00:00\",\"2022-07-07T00:00:00\",\"2022-07-08T00:00:00\",\"2022-07-11T00:00:00\",\"2022-07-12T00:00:00\",\"2022-07-13T00:00:00\",\"2022-07-14T00:00:00\",\"2022-07-15T00:00:00\",\"2022-07-18T00:00:00\",\"2022-07-19T00:00:00\",\"2022-07-20T00:00:00\",\"2022-07-21T00:00:00\",\"2022-07-22T00:00:00\",\"2022-07-25T00:00:00\",\"2022-07-26T00:00:00\",\"2022-07-27T00:00:00\",\"2022-07-28T00:00:00\",\"2022-07-29T00:00:00\",\"2022-08-01T00:00:00\",\"2022-08-02T00:00:00\",\"2022-08-03T00:00:00\",\"2022-08-04T00:00:00\",\"2022-08-05T00:00:00\",\"2022-08-08T00:00:00\",\"2022-08-09T00:00:00\",\"2022-08-10T00:00:00\",\"2022-08-11T00:00:00\",\"2022-08-12T00:00:00\",\"2022-08-15T00:00:00\",\"2022-08-16T00:00:00\",\"2022-08-17T00:00:00\",\"2022-08-18T00:00:00\",\"2022-08-19T00:00:00\",\"2022-08-22T00:00:00\",\"2022-08-23T00:00:00\",\"2022-08-24T00:00:00\",\"2022-08-25T00:00:00\",\"2022-08-26T00:00:00\",\"2022-08-29T00:00:00\",\"2022-08-30T00:00:00\",\"2022-08-31T00:00:00\",\"2022-09-01T00:00:00\",\"2022-09-02T00:00:00\",\"2022-09-05T00:00:00\",\"2022-09-06T00:00:00\",\"2022-09-08T00:00:00\",\"2022-09-09T00:00:00\",\"2022-09-12T00:00:00\",\"2022-09-13T00:00:00\",\"2022-09-14T00:00:00\",\"2022-09-15T00:00:00\",\"2022-09-16T00:00:00\",\"2022-09-19T00:00:00\",\"2022-09-20T00:00:00\",\"2022-09-21T00:00:00\",\"2022-09-22T00:00:00\",\"2022-09-23T00:00:00\",\"2022-09-26T00:00:00\",\"2022-09-27T00:00:00\",\"2022-09-28T00:00:00\",\"2022-09-29T00:00:00\",\"2022-09-30T00:00:00\",\"2022-10-03T00:00:00\",\"2022-10-04T00:00:00\",\"2022-10-05T00:00:00\",\"2022-10-06T00:00:00\",\"2022-10-07T00:00:00\",\"2022-10-10T00:00:00\",\"2022-10-11T00:00:00\",\"2022-10-13T00:00:00\",\"2022-10-14T00:00:00\",\"2022-10-17T00:00:00\",\"2022-10-18T00:00:00\",\"2022-10-19T00:00:00\",\"2022-10-20T00:00:00\",\"2022-10-21T00:00:00\",\"2022-10-24T00:00:00\",\"2022-10-25T00:00:00\",\"2022-10-26T00:00:00\",\"2022-10-27T00:00:00\",\"2022-10-28T00:00:00\",\"2022-10-31T00:00:00\",\"2022-11-01T00:00:00\",\"2022-11-03T00:00:00\",\"2022-11-04T00:00:00\",\"2022-11-07T00:00:00\",\"2022-11-08T00:00:00\",\"2022-11-09T00:00:00\",\"2022-11-10T00:00:00\",\"2022-11-11T00:00:00\",\"2022-11-14T00:00:00\",\"2022-11-16T00:00:00\",\"2022-11-17T00:00:00\",\"2022-11-18T00:00:00\",\"2022-11-21T00:00:00\",\"2022-11-22T00:00:00\",\"2022-11-23T00:00:00\",\"2022-11-24T00:00:00\",\"2022-11-25T00:00:00\",\"2022-11-28T00:00:00\",\"2022-11-29T00:00:00\",\"2022-11-30T00:00:00\",\"2022-12-01T00:00:00\",\"2022-12-02T00:00:00\",\"2022-12-05T00:00:00\",\"2022-12-06T00:00:00\",\"2022-12-07T00:00:00\",\"2022-12-08T00:00:00\",\"2022-12-09T00:00:00\",\"2022-12-12T00:00:00\",\"2022-12-13T00:00:00\",\"2022-12-14T00:00:00\",\"2022-12-15T00:00:00\",\"2022-12-16T00:00:00\",\"2022-12-19T00:00:00\",\"2022-12-20T00:00:00\",\"2022-12-21T00:00:00\",\"2022-12-22T00:00:00\",\"2022-12-23T00:00:00\",\"2022-12-26T00:00:00\",\"2022-12-27T00:00:00\",\"2022-12-28T00:00:00\",\"2022-12-29T00:00:00\",\"2023-01-02T00:00:00\",\"2023-01-03T00:00:00\",\"2023-01-04T00:00:00\",\"2023-01-05T00:00:00\",\"2023-01-06T00:00:00\",\"2023-01-09T00:00:00\",\"2023-01-10T00:00:00\",\"2023-01-11T00:00:00\",\"2023-01-12T00:00:00\",\"2023-01-13T00:00:00\",\"2023-01-16T00:00:00\",\"2023-01-17T00:00:00\",\"2023-01-18T00:00:00\",\"2023-01-19T00:00:00\",\"2023-01-20T00:00:00\",\"2023-01-23T00:00:00\",\"2023-01-24T00:00:00\",\"2023-01-25T00:00:00\",\"2023-01-26T00:00:00\",\"2023-01-27T00:00:00\",\"2023-01-30T00:00:00\",\"2023-01-31T00:00:00\",\"2023-02-01T00:00:00\",\"2023-02-02T00:00:00\",\"2023-02-03T00:00:00\",\"2023-02-06T00:00:00\",\"2023-02-07T00:00:00\",\"2023-02-08T00:00:00\",\"2023-02-09T00:00:00\",\"2023-02-10T00:00:00\",\"2023-02-13T00:00:00\",\"2023-02-14T00:00:00\",\"2023-02-15T00:00:00\",\"2023-02-16T00:00:00\",\"2023-02-17T00:00:00\",\"2023-02-22T00:00:00\",\"2023-02-23T00:00:00\"],\"y\":[null,null,null,null,30.78800048828125,30.868000411987303,30.230000305175782,29.51600036621094,28.528000259399413,27.64800033569336,26.6060001373291,25.97400016784668,25.238000106811523,24.618000030517578,24.203999710083007,24.61999969482422,25.159999465942384,26.173999404907228,27.025999450683592,28.179999542236327,29.243999481201172,30.325999450683593,31.591999816894532,32.76799964904785,33.21800003051758,33.5620002746582,33.85000076293945,33.18200035095215,32.32200050354004,31.986000061035156,30.90200004577637,29.841999816894532,29.320000076293944,29.118000030517578,28.554000091552734,28.510000228881836,28.49200019836426,28.2,27.686000061035156,27.334000015258788,26.670000076293945,26.072000122070314,25.665999984741212,25.131999969482422,24.6560001373291,24.313999938964844,24.327999877929688,23.944000244140625,23.620000076293945,22.99000015258789,22.610000228881837,21.912000274658205,21.788000106811523,21.922000122070312,22.481999969482423,22.8,23.070000076293944,23.154000091552735,23.238000106811523,23.320000076293944,23.29199981689453,23.07999954223633,22.76199951171875,22.365999603271483,21.69199981689453,21.136000061035155,20.626000213623048,20.234000396728515,19.616000366210937,18.976000213623045,18.37200012207031,17.842000198364257,17.34000015258789,16.7040002822876,15.982000350952148,15.22600040435791,14.672000312805176,13.972000122070312,13.592000007629395,13.48799991607666,13.495999908447265,13.497999954223634,13.53799991607666,13.679999923706054,13.689999961853028,13.70999984741211,13.609999847412109,13.40999984741211,13.111999893188477,13.179999923706054,13.568000030517577,13.981999969482422,14.59600009918213,15.210000038146973,15.83799991607666,16.0939998626709,16.329999923706055,16.433999824523926,16.45999984741211,16.318000030517577,16.370000076293945,16.420000076293945,16.342000198364257,16.30800018310547,16.032000160217287,15.740000152587891,15.372000122070313,14.986000061035156,14.650000190734863,14.44000015258789,14.296000099182129,14.294000053405762,14.273999977111817,14.343999862670898,14.315999794006348,14.299999809265136,13.939999771118163,13.751999855041504,13.969999885559082,14.279999923706054,14.195999908447266,14.26599998474121,14.279999923706054,14.405999946594239,15.07199993133545,15.910000038146972,16.94200019836426,17.956000328063965,18.26600036621094,17.974000549316408,17.55600051879883,17.034000396728516,16.51600036621094,16.104000282287597,15.62400016784668,15.386000061035157,15.461999893188477,15.818000030517577,16.13999996185303,16.559999847412108,16.754000091552733,16.744000244140626,16.770000076293947,16.836000061035158,16.99000015258789,17.213999938964843,17.41800003051758,17.429999923706056,17.35,17.27599983215332,17.001999855041504,16.891999626159667,17.04199962615967,17.509999656677245,18.055999946594238,19.045999908447264,19.870000076293945,20.360000228881837,20.6060001373291,20.44199981689453,19.76599998474121,19.07599983215332,18.461999893188477,17.631999969482422,16.67600021362305,16.09400005340576,15.492000198364257,14.904000091552735,14.384000205993653,14.422000122070312,14.548000144958497,14.728000068664551,14.973999977111816,15.51599998474121,15.957999992370606,15.960000038146973,15.886000061035157,15.484000205993652,14.708000183105469,13.816000175476074,13.29000015258789,12.518000221252441,11.922000122070312,11.470000076293946,11.240000152587891,10.860000228881836,10.61200008392334,10.666000175476075,10.780000114440918,10.546000099182129,10.465999984741211,10.564000129699707,10.294000053405762,10.038000106811523,9.860000038146973,9.626000022888183,9.30999984741211,9.063999938964844,8.803999900817871,8.693999862670898,8.555999946594238,8.388000106811523,8.264000034332275,8.060000038146972,8.026000022888184,8.102000045776368,8.23799991607666,8.453999996185303,8.820000076293946,9.032000160217285,9.11200008392334,9.292000198364258,9.410000038146972,9.379999923706055,9.215999984741211,9.129999923706055,9.123999786376952,9.275999832153321,9.685999870300293,10.36399974822998,11.017999839782714,9.6239999294281,8.171999979019166,6.344000005722046,4.342000031471253,2.2900000333786013,1.9460000276565552,1.4580000042915344,1.2299999952316285,1.0100000023841857,0.85,0.8559999942779541,0.9540000081062316,1.084000015258789,1.2740000128746032,1.5039999961853028,1.6339999914169312,1.7199999809265136,1.7759999752044677,1.6979999780654906,1.494000005722046,1.356000018119812,1.2500000238418578,1.1300000190734862,1.0800000190734864,1.0920000076293945,1.1380000114440918,1.1519999980926514,1.1480000019073486,1.1480000019073486],\"type\":\"scatter\",\"xaxis\":\"x2\",\"yaxis\":\"y2\"}],                        {\"template\":{\"data\":{\"bar\":[{\"error_x\":{\"color\":\"#2a3f5f\"},\"error_y\":{\"color\":\"#2a3f5f\"},\"marker\":{\"line\":{\"color\":\"#E5ECF6\",\"width\":0.5},\"pattern\":{\"fillmode\":\"overlay\",\"size\":10,\"solidity\":0.2}},\"type\":\"bar\"}],\"barpolar\":[{\"marker\":{\"line\":{\"color\":\"#E5ECF6\",\"width\":0.5},\"pattern\":{\"fillmode\":\"overlay\",\"size\":10,\"solidity\":0.2}},\"type\":\"barpolar\"}],\"carpet\":[{\"aaxis\":{\"endlinecolor\":\"#2a3f5f\",\"gridcolor\":\"white\",\"linecolor\":\"white\",\"minorgridcolor\":\"white\",\"startlinecolor\":\"#2a3f5f\"},\"baxis\":{\"endlinecolor\":\"#2a3f5f\",\"gridcolor\":\"white\",\"linecolor\":\"white\",\"minorgridcolor\":\"white\",\"startlinecolor\":\"#2a3f5f\"},\"type\":\"carpet\"}],\"choropleth\":[{\"colorbar\":{\"outlinewidth\":0,\"ticks\":\"\"},\"type\":\"choropleth\"}],\"contour\":[{\"colorbar\":{\"outlinewidth\":0,\"ticks\":\"\"},\"colorscale\":[[0.0,\"#0d0887\"],[0.1111111111111111,\"#46039f\"],[0.2222222222222222,\"#7201a8\"],[0.3333333333333333,\"#9c179e\"],[0.4444444444444444,\"#bd3786\"],[0.5555555555555556,\"#d8576b\"],[0.6666666666666666,\"#ed7953\"],[0.7777777777777778,\"#fb9f3a\"],[0.8888888888888888,\"#fdca26\"],[1.0,\"#f0f921\"]],\"type\":\"contour\"}],\"contourcarpet\":[{\"colorbar\":{\"outlinewidth\":0,\"ticks\":\"\"},\"type\":\"contourcarpet\"}],\"heatmap\":[{\"colorbar\":{\"outlinewidth\":0,\"ticks\":\"\"},\"colorscale\":[[0.0,\"#0d0887\"],[0.1111111111111111,\"#46039f\"],[0.2222222222222222,\"#7201a8\"],[0.3333333333333333,\"#9c179e\"],[0.4444444444444444,\"#bd3786\"],[0.5555555555555556,\"#d8576b\"],[0.6666666666666666,\"#ed7953\"],[0.7777777777777778,\"#fb9f3a\"],[0.8888888888888888,\"#fdca26\"],[1.0,\"#f0f921\"]],\"type\":\"heatmap\"}],\"heatmapgl\":[{\"colorbar\":{\"outlinewidth\":0,\"ticks\":\"\"},\"colorscale\":[[0.0,\"#0d0887\"],[0.1111111111111111,\"#46039f\"],[0.2222222222222222,\"#7201a8\"],[0.3333333333333333,\"#9c179e\"],[0.4444444444444444,\"#bd3786\"],[0.5555555555555556,\"#d8576b\"],[0.6666666666666666,\"#ed7953\"],[0.7777777777777778,\"#fb9f3a\"],[0.8888888888888888,\"#fdca26\"],[1.0,\"#f0f921\"]],\"type\":\"heatmapgl\"}],\"histogram\":[{\"marker\":{\"pattern\":{\"fillmode\":\"overlay\",\"size\":10,\"solidity\":0.2}},\"type\":\"histogram\"}],\"histogram2d\":[{\"colorbar\":{\"outlinewidth\":0,\"ticks\":\"\"},\"colorscale\":[[0.0,\"#0d0887\"],[0.1111111111111111,\"#46039f\"],[0.2222222222222222,\"#7201a8\"],[0.3333333333333333,\"#9c179e\"],[0.4444444444444444,\"#bd3786\"],[0.5555555555555556,\"#d8576b\"],[0.6666666666666666,\"#ed7953\"],[0.7777777777777778,\"#fb9f3a\"],[0.8888888888888888,\"#fdca26\"],[1.0,\"#f0f921\"]],\"type\":\"histogram2d\"}],\"histogram2dcontour\":[{\"colorbar\":{\"outlinewidth\":0,\"ticks\":\"\"},\"colorscale\":[[0.0,\"#0d0887\"],[0.1111111111111111,\"#46039f\"],[0.2222222222222222,\"#7201a8\"],[0.3333333333333333,\"#9c179e\"],[0.4444444444444444,\"#bd3786\"],[0.5555555555555556,\"#d8576b\"],[0.6666666666666666,\"#ed7953\"],[0.7777777777777778,\"#fb9f3a\"],[0.8888888888888888,\"#fdca26\"],[1.0,\"#f0f921\"]],\"type\":\"histogram2dcontour\"}],\"mesh3d\":[{\"colorbar\":{\"outlinewidth\":0,\"ticks\":\"\"},\"type\":\"mesh3d\"}],\"parcoords\":[{\"line\":{\"colorbar\":{\"outlinewidth\":0,\"ticks\":\"\"}},\"type\":\"parcoords\"}],\"pie\":[{\"automargin\":true,\"type\":\"pie\"}],\"scatter\":[{\"marker\":{\"colorbar\":{\"outlinewidth\":0,\"ticks\":\"\"}},\"type\":\"scatter\"}],\"scatter3d\":[{\"line\":{\"colorbar\":{\"outlinewidth\":0,\"ticks\":\"\"}},\"marker\":{\"colorbar\":{\"outlinewidth\":0,\"ticks\":\"\"}},\"type\":\"scatter3d\"}],\"scattercarpet\":[{\"marker\":{\"colorbar\":{\"outlinewidth\":0,\"ticks\":\"\"}},\"type\":\"scattercarpet\"}],\"scattergeo\":[{\"marker\":{\"colorbar\":{\"outlinewidth\":0,\"ticks\":\"\"}},\"type\":\"scattergeo\"}],\"scattergl\":[{\"marker\":{\"colorbar\":{\"outlinewidth\":0,\"ticks\":\"\"}},\"type\":\"scattergl\"}],\"scattermapbox\":[{\"marker\":{\"colorbar\":{\"outlinewidth\":0,\"ticks\":\"\"}},\"type\":\"scattermapbox\"}],\"scatterpolar\":[{\"marker\":{\"colorbar\":{\"outlinewidth\":0,\"ticks\":\"\"}},\"type\":\"scatterpolar\"}],\"scatterpolargl\":[{\"marker\":{\"colorbar\":{\"outlinewidth\":0,\"ticks\":\"\"}},\"type\":\"scatterpolargl\"}],\"scatterternary\":[{\"marker\":{\"colorbar\":{\"outlinewidth\":0,\"ticks\":\"\"}},\"type\":\"scatterternary\"}],\"surface\":[{\"colorbar\":{\"outlinewidth\":0,\"ticks\":\"\"},\"colorscale\":[[0.0,\"#0d0887\"],[0.1111111111111111,\"#46039f\"],[0.2222222222222222,\"#7201a8\"],[0.3333333333333333,\"#9c179e\"],[0.4444444444444444,\"#bd3786\"],[0.5555555555555556,\"#d8576b\"],[0.6666666666666666,\"#ed7953\"],[0.7777777777777778,\"#fb9f3a\"],[0.8888888888888888,\"#fdca26\"],[1.0,\"#f0f921\"]],\"type\":\"surface\"}],\"table\":[{\"cells\":{\"fill\":{\"color\":\"#EBF0F8\"},\"line\":{\"color\":\"white\"}},\"header\":{\"fill\":{\"color\":\"#C8D4E3\"},\"line\":{\"color\":\"white\"}},\"type\":\"table\"}]},\"layout\":{\"annotationdefaults\":{\"arrowcolor\":\"#2a3f5f\",\"arrowhead\":0,\"arrowwidth\":1},\"autotypenumbers\":\"strict\",\"coloraxis\":{\"colorbar\":{\"outlinewidth\":0,\"ticks\":\"\"}},\"colorscale\":{\"diverging\":[[0,\"#8e0152\"],[0.1,\"#c51b7d\"],[0.2,\"#de77ae\"],[0.3,\"#f1b6da\"],[0.4,\"#fde0ef\"],[0.5,\"#f7f7f7\"],[0.6,\"#e6f5d0\"],[0.7,\"#b8e186\"],[0.8,\"#7fbc41\"],[0.9,\"#4d9221\"],[1,\"#276419\"]],\"sequential\":[[0.0,\"#0d0887\"],[0.1111111111111111,\"#46039f\"],[0.2222222222222222,\"#7201a8\"],[0.3333333333333333,\"#9c179e\"],[0.4444444444444444,\"#bd3786\"],[0.5555555555555556,\"#d8576b\"],[0.6666666666666666,\"#ed7953\"],[0.7777777777777778,\"#fb9f3a\"],[0.8888888888888888,\"#fdca26\"],[1.0,\"#f0f921\"]],\"sequentialminus\":[[0.0,\"#0d0887\"],[0.1111111111111111,\"#46039f\"],[0.2222222222222222,\"#7201a8\"],[0.3333333333333333,\"#9c179e\"],[0.4444444444444444,\"#bd3786\"],[0.5555555555555556,\"#d8576b\"],[0.6666666666666666,\"#ed7953\"],[0.7777777777777778,\"#fb9f3a\"],[0.8888888888888888,\"#fdca26\"],[1.0,\"#f0f921\"]]},\"colorway\":[\"#636efa\",\"#EF553B\",\"#00cc96\",\"#ab63fa\",\"#FFA15A\",\"#19d3f3\",\"#FF6692\",\"#B6E880\",\"#FF97FF\",\"#FECB52\"],\"font\":{\"color\":\"#2a3f5f\"},\"geo\":{\"bgcolor\":\"white\",\"lakecolor\":\"white\",\"landcolor\":\"#E5ECF6\",\"showlakes\":true,\"showland\":true,\"subunitcolor\":\"white\"},\"hoverlabel\":{\"align\":\"left\"},\"hovermode\":\"closest\",\"mapbox\":{\"style\":\"light\"},\"paper_bgcolor\":\"white\",\"plot_bgcolor\":\"#E5ECF6\",\"polar\":{\"angularaxis\":{\"gridcolor\":\"white\",\"linecolor\":\"white\",\"ticks\":\"\"},\"bgcolor\":\"#E5ECF6\",\"radialaxis\":{\"gridcolor\":\"white\",\"linecolor\":\"white\",\"ticks\":\"\"}},\"scene\":{\"xaxis\":{\"backgroundcolor\":\"#E5ECF6\",\"gridcolor\":\"white\",\"gridwidth\":2,\"linecolor\":\"white\",\"showbackground\":true,\"ticks\":\"\",\"zerolinecolor\":\"white\"},\"yaxis\":{\"backgroundcolor\":\"#E5ECF6\",\"gridcolor\":\"white\",\"gridwidth\":2,\"linecolor\":\"white\",\"showbackground\":true,\"ticks\":\"\",\"zerolinecolor\":\"white\"},\"zaxis\":{\"backgroundcolor\":\"#E5ECF6\",\"gridcolor\":\"white\",\"gridwidth\":2,\"linecolor\":\"white\",\"showbackground\":true,\"ticks\":\"\",\"zerolinecolor\":\"white\"}},\"shapedefaults\":{\"line\":{\"color\":\"#2a3f5f\"}},\"ternary\":{\"aaxis\":{\"gridcolor\":\"white\",\"linecolor\":\"white\",\"ticks\":\"\"},\"baxis\":{\"gridcolor\":\"white\",\"linecolor\":\"white\",\"ticks\":\"\"},\"bgcolor\":\"#E5ECF6\",\"caxis\":{\"gridcolor\":\"white\",\"linecolor\":\"white\",\"ticks\":\"\"}},\"title\":{\"x\":0.05},\"xaxis\":{\"automargin\":true,\"gridcolor\":\"white\",\"linecolor\":\"white\",\"ticks\":\"\",\"title\":{\"standoff\":15},\"zerolinecolor\":\"white\",\"zerolinewidth\":2},\"yaxis\":{\"automargin\":true,\"gridcolor\":\"white\",\"linecolor\":\"white\",\"ticks\":\"\",\"title\":{\"standoff\":15},\"zerolinecolor\":\"white\",\"zerolinewidth\":2}}},\"xaxis\":{\"anchor\":\"y\",\"domain\":[0.0,1.0],\"matches\":\"x2\",\"showticklabels\":false,\"rangeslider\":{\"visible\":false}},\"yaxis\":{\"anchor\":\"x\",\"domain\":[0.5375,1.0]},\"xaxis2\":{\"anchor\":\"y2\",\"domain\":[0.0,1.0]},\"yaxis2\":{\"anchor\":\"x2\",\"domain\":[0.0,0.4625]},\"annotations\":[{\"font\":{\"size\":16},\"showarrow\":false,\"text\":\"Cota\\u00e7\\u00e3o\",\"x\":0.5,\"xanchor\":\"center\",\"xref\":\"paper\",\"y\":1.0,\"yanchor\":\"bottom\",\"yref\":\"paper\"},{\"font\":{\"size\":16},\"showarrow\":false,\"text\":\"Fechamento\",\"x\":0.5,\"xanchor\":\"center\",\"xref\":\"paper\",\"y\":0.4625,\"yanchor\":\"bottom\",\"yref\":\"paper\"},{\"font\":{\"size\":14},\"showarrow\":false,\"text\":\"An\\u00e1lise feita utilizando o Python\",\"x\":1,\"xref\":\"x domain\",\"y\":-1.4,\"yref\":\"y domain\"},{\"font\":{\"size\":14},\"showarrow\":false,\"text\":\"BY: @camihshm - Camila da Silva Monteiro\",\"x\":0,\"xref\":\"x domain\",\"y\":-1.4,\"yref\":\"y domain\"}],\"title\":{\"text\":\"<b>An\\u00e1lise de Mercado</b> <br>Americanas SA.\"},\"width\":1000,\"height\":800,\"legend\":{\"font\":{\"size\":10},\"orientation\":\"h\",\"yanchor\":\"bottom\",\"y\":1.02,\"xanchor\":\"right\",\"x\":1}},                        {\"responsive\": true}                    ).then(function(){\n",
              "                            \n",
              "var gd = document.getElementById('69d886ab-2af0-41ae-a0c2-945eb333ee78');\n",
              "var x = new MutationObserver(function (mutations, observer) {{\n",
              "        var display = window.getComputedStyle(gd).display;\n",
              "        if (!display || display === 'none') {{\n",
              "            console.log([gd, 'removed!']);\n",
              "            Plotly.purge(gd);\n",
              "            observer.disconnect();\n",
              "        }}\n",
              "}});\n",
              "\n",
              "// Listen for the removal of the full notebook cells\n",
              "var notebookContainer = gd.closest('#notebook-container');\n",
              "if (notebookContainer) {{\n",
              "    x.observe(notebookContainer, {childList: true});\n",
              "}}\n",
              "\n",
              "// Listen for the clearing of the current output cell\n",
              "var outputEl = gd.closest('.output');\n",
              "if (outputEl) {{\n",
              "    x.observe(outputEl, {childList: true});\n",
              "}}\n",
              "\n",
              "                        })                };                            </script>        </div>\n",
              "</body>\n",
              "</html>"
            ]
          },
          "metadata": {}
        }
      ]
    },
    {
      "cell_type": "markdown",
      "source": [
        "# Exportando Relatório em PDF\n",
        "\n",
        "**Kaleido**\n",
        "\n",
        "Kaleido é uma biblioteca de plataforma cruzada para geração de imagens estáticas (por exemplo, png, svg, pdf, etc.) para bibliotecas de visualização baseadas na web, com foco particular na eliminação de dependências externas. O foco inicial do projeto é a exportação de imagens plotly.js do Python para uso por plotly.py, mas ele foi projetado para ser relativamente direto para estender a outras bibliotecas de visualização baseadas na web e outras linguagens de programação. O foco principal do Kaleido (pelo menos inicialmente) é servir como uma dependência de bibliotecas de visualização baseadas na web, como plotly.py. Como tal, o foco está em fornecer uma API programática, em vez de amigável ao usuário."
      ],
      "metadata": {
        "id": "U-2UlI1by23d"
      }
    },
    {
      "cell_type": "code",
      "source": [
        "!pip install -U kaleido"
      ],
      "metadata": {
        "colab": {
          "base_uri": "https://localhost:8080/"
        },
        "id": "Bge7Fz8By9Ah",
        "outputId": "13dfb93d-4041-4e4b-d86b-64779db5e143"
      },
      "execution_count": 16,
      "outputs": [
        {
          "output_type": "stream",
          "name": "stdout",
          "text": [
            "Looking in indexes: https://pypi.org/simple, https://us-python.pkg.dev/colab-wheels/public/simple/\n",
            "Requirement already satisfied: kaleido in /usr/local/lib/python3.8/dist-packages (0.2.1)\n"
          ]
        }
      ]
    },
    {
      "cell_type": "code",
      "source": [
        "Figura.write_image('Relatório Financeiro Americanas.pdf')"
      ],
      "metadata": {
        "id": "_4n_fVWvzC7n"
      },
      "execution_count": 20,
      "outputs": []
    }
  ]
}